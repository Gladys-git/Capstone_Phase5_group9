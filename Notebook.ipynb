{
 "cells": [
  {
   "cell_type": "markdown",
   "metadata": {
    "id": "tqTDNT1xta2d"
   },
   "source": [
    "# BUSINESS UNDERSTANDING\n",
    "\n",
    "## PROBLEM STATEMENT\n",
    "\n",
    "Customer churn significantly impacts revenue and customer lifetime value for internet service providers. Retaining existing customers is more cost-effective than acquiring new ones. However, identifying which customers are likely to churn remains a challenge.\n",
    "\n",
    "> This project aims to develop a *predictive machine learning model* to estimate churn risk scores and identify high-risk customers using a mix of behavioral, demographic, and feedback data."
   ]
  },
  {
   "cell_type": "markdown",
   "metadata": {
    "id": "XKYcRQkptazp"
   },
   "source": [
    "## OBJECTIVES\n",
    "\n",
    "To build a supervised machine learning model capable of predicting customer churn risk for internet service providers using behavioral, transactional, and feedback data.\n",
    "\n",
    "> *Goal*: Help companies identify customers at high risk of churning, enabling timely and targeted retention strategies.\n",
    "\n",
    "This analysis will aim to answer the following business questions:\n",
    "\n",
    "- Which *customer segments* are most likely to churn?\n",
    "- What are the top *behavioral or demographic* predictors of churn?\n",
    "- Can *sentiment in customer feedback* help predict churn risk?\n",
    "- How effective are current *loyalty strategies* in retaining customers?\n",
    "- What *actionable retention strategies* can we derive from high churn risk profiles?"
   ]
  },
  {
   "cell_type": "markdown",
   "metadata": {
    "id": "DV0Cw4l6tawd"
   },
   "source": [
    "## BUSINESS BENEFITS\n",
    "\n",
    "### 1. Improved Customer Retention\n",
    "- Early identification of likely-to-churn customers allows for *timely intervention*.\n",
    "\n",
    "### 2. Cost Efficiency\n",
    "- Reduced marketing spend on acquiring new customers by *retaining existing ones*.\n",
    "\n",
    "### 3. Customer Lifetime Value (CLV) Optimization\n",
    "- Retaining *high-value customers* increases CLV and long-term profitability.\n",
    "\n",
    "### 4. Data-Driven Decision Making\n",
    "- Marketing and customer success teams can rely on churn predictions and insights to *refine strategies*.\n",
    "\n",
    "### 5. Product Improvement\n",
    "- Insights from churn predictors and feedback sentiment can inform *service enhancements* and *innovation*."
   ]
  },
  {
   "cell_type": "markdown",
   "metadata": {
    "id": "YaOtnHtYtaux"
   },
   "source": [
    "##  SUCCESS CRITERIA\n",
    "\n",
    "### Technical Success\n",
    "- A cleaned, well-structured dataset ready for modeling.\n",
    "- A classification model (baseline + advanced) achieving *≥ 70% accuracy*.\n",
    "- Evaluation metrics showing *balanced performance,* with *recall prioritized*.\n",
    "\n",
    "### Business Success\n",
    "- Identification of *key churn drivers* for actionable insights.\n",
    "- *Recommendations* for personalized customer retention strategies."
   ]
  },
  {
   "cell_type": "markdown",
   "metadata": {
    "id": "CjTSp4RRuY-D"
   },
   "source": [
    "# DATA UNDERSTANDING"
   ]
  },
  {
   "cell_type": "code",
   "execution_count": 99,
   "metadata": {
    "executionInfo": {
     "elapsed": 15,
     "status": "ok",
     "timestamp": 1747933374384,
     "user": {
      "displayName": "Brenda Kurgat",
      "userId": "11817120151564024162"
     },
     "user_tz": -180
    },
    "id": "3af69fd9-5a56-4bfb-8cc7-f641fb6e7aa3"
   },
   "outputs": [],
   "source": [
    "#Import necessary libraries\n",
    "import pandas as pd\n",
    "import numpy as np\n",
    "import matplotlib.pyplot as plt\n",
    "import seaborn as sns\n",
    "from sklearn.model_selection import train_test_split\n",
    "from sklearn.preprocessing import StandardScaler\n",
    "from sklearn.preprocessing import LabelEncoder\n",
    "\n",
    "from sklearn.linear_model import LogisticRegression\n",
    "from sklearn.ensemble import RandomForestClassifier\n",
    "from xgboost import XGBClassifier\n",
    "from sklearn.metrics import classification_report, confusion_matrix, accuracy_score\n",
    "from sklearn.metrics import ConfusionMatrixDisplay\n",
    "from sklearn.model_selection import RandomizedSearchCV\n",
    "from scipy.stats import uniform, randint\n",
    "\n",
    "import warnings\n",
    "warnings.filterwarnings('ignore')"
   ]
  },
  {
   "cell_type": "code",
   "execution_count": 4,
   "metadata": {
    "colab": {
     "base_uri": "https://localhost:8080/",
     "height": 377
    },
    "executionInfo": {
     "elapsed": 52,
     "status": "ok",
     "timestamp": 1747933374438,
     "user": {
      "displayName": "Brenda Kurgat",
      "userId": "11817120151564024162"
     },
     "user_tz": -180
    },
    "id": "f23cef2c-57f7-43cf-ab84-58af9ec57f11",
    "outputId": "805f48bf-11a6-49a3-fe27-2a7748cbbd73"
   },
   "outputs": [
    {
     "data": {
      "text/html": [
       "<div>\n",
       "<style scoped>\n",
       "    .dataframe tbody tr th:only-of-type {\n",
       "        vertical-align: middle;\n",
       "    }\n",
       "\n",
       "    .dataframe tbody tr th {\n",
       "        vertical-align: top;\n",
       "    }\n",
       "\n",
       "    .dataframe thead th {\n",
       "        text-align: right;\n",
       "    }\n",
       "</style>\n",
       "<table border=\"1\" class=\"dataframe\">\n",
       "  <thead>\n",
       "    <tr style=\"text-align: right;\">\n",
       "      <th></th>\n",
       "      <th>age</th>\n",
       "      <th>gender</th>\n",
       "      <th>security_no</th>\n",
       "      <th>region_category</th>\n",
       "      <th>membership_category</th>\n",
       "      <th>joining_date</th>\n",
       "      <th>joined_through_referral</th>\n",
       "      <th>referral_id</th>\n",
       "      <th>preferred_offer_types</th>\n",
       "      <th>medium_of_operation</th>\n",
       "      <th>...</th>\n",
       "      <th>avg_time_spent</th>\n",
       "      <th>avg_transaction_value</th>\n",
       "      <th>avg_frequency_login_days</th>\n",
       "      <th>points_in_wallet</th>\n",
       "      <th>used_special_discount</th>\n",
       "      <th>offer_application_preference</th>\n",
       "      <th>past_complaint</th>\n",
       "      <th>complaint_status</th>\n",
       "      <th>feedback</th>\n",
       "      <th>churn_risk_score</th>\n",
       "    </tr>\n",
       "  </thead>\n",
       "  <tbody>\n",
       "    <tr>\n",
       "      <th>0</th>\n",
       "      <td>18</td>\n",
       "      <td>F</td>\n",
       "      <td>XW0DQ7H</td>\n",
       "      <td>Village</td>\n",
       "      <td>Platinum Membership</td>\n",
       "      <td>17-08-2017</td>\n",
       "      <td>No</td>\n",
       "      <td>xxxxxxxx</td>\n",
       "      <td>Gift Vouchers/Coupons</td>\n",
       "      <td>?</td>\n",
       "      <td>...</td>\n",
       "      <td>300.63</td>\n",
       "      <td>53005.25</td>\n",
       "      <td>17</td>\n",
       "      <td>781.75</td>\n",
       "      <td>Yes</td>\n",
       "      <td>Yes</td>\n",
       "      <td>No</td>\n",
       "      <td>Not Applicable</td>\n",
       "      <td>Products always in Stock</td>\n",
       "      <td>0</td>\n",
       "    </tr>\n",
       "    <tr>\n",
       "      <th>1</th>\n",
       "      <td>32</td>\n",
       "      <td>F</td>\n",
       "      <td>5K0N3X1</td>\n",
       "      <td>City</td>\n",
       "      <td>Premium Membership</td>\n",
       "      <td>28-08-2017</td>\n",
       "      <td>?</td>\n",
       "      <td>CID21329</td>\n",
       "      <td>Gift Vouchers/Coupons</td>\n",
       "      <td>Desktop</td>\n",
       "      <td>...</td>\n",
       "      <td>306.34</td>\n",
       "      <td>12838.38</td>\n",
       "      <td>10</td>\n",
       "      <td>NaN</td>\n",
       "      <td>Yes</td>\n",
       "      <td>No</td>\n",
       "      <td>Yes</td>\n",
       "      <td>Solved</td>\n",
       "      <td>Quality Customer Care</td>\n",
       "      <td>0</td>\n",
       "    </tr>\n",
       "    <tr>\n",
       "      <th>2</th>\n",
       "      <td>44</td>\n",
       "      <td>F</td>\n",
       "      <td>1F2TCL3</td>\n",
       "      <td>Town</td>\n",
       "      <td>No Membership</td>\n",
       "      <td>11-11-2016</td>\n",
       "      <td>Yes</td>\n",
       "      <td>CID12313</td>\n",
       "      <td>Gift Vouchers/Coupons</td>\n",
       "      <td>Desktop</td>\n",
       "      <td>...</td>\n",
       "      <td>516.16</td>\n",
       "      <td>21027.00</td>\n",
       "      <td>22</td>\n",
       "      <td>500.69</td>\n",
       "      <td>No</td>\n",
       "      <td>Yes</td>\n",
       "      <td>Yes</td>\n",
       "      <td>Solved in Follow-up</td>\n",
       "      <td>Poor Website</td>\n",
       "      <td>1</td>\n",
       "    </tr>\n",
       "    <tr>\n",
       "      <th>3</th>\n",
       "      <td>37</td>\n",
       "      <td>M</td>\n",
       "      <td>VJGJ33N</td>\n",
       "      <td>City</td>\n",
       "      <td>No Membership</td>\n",
       "      <td>29-10-2016</td>\n",
       "      <td>Yes</td>\n",
       "      <td>CID3793</td>\n",
       "      <td>Gift Vouchers/Coupons</td>\n",
       "      <td>Desktop</td>\n",
       "      <td>...</td>\n",
       "      <td>53.27</td>\n",
       "      <td>25239.56</td>\n",
       "      <td>6</td>\n",
       "      <td>567.66</td>\n",
       "      <td>No</td>\n",
       "      <td>Yes</td>\n",
       "      <td>Yes</td>\n",
       "      <td>Unsolved</td>\n",
       "      <td>Poor Website</td>\n",
       "      <td>1</td>\n",
       "    </tr>\n",
       "    <tr>\n",
       "      <th>4</th>\n",
       "      <td>31</td>\n",
       "      <td>F</td>\n",
       "      <td>SVZXCWB</td>\n",
       "      <td>City</td>\n",
       "      <td>No Membership</td>\n",
       "      <td>12-09-2017</td>\n",
       "      <td>No</td>\n",
       "      <td>xxxxxxxx</td>\n",
       "      <td>Credit/Debit Card Offers</td>\n",
       "      <td>Smartphone</td>\n",
       "      <td>...</td>\n",
       "      <td>113.13</td>\n",
       "      <td>24483.66</td>\n",
       "      <td>16</td>\n",
       "      <td>663.06</td>\n",
       "      <td>No</td>\n",
       "      <td>Yes</td>\n",
       "      <td>Yes</td>\n",
       "      <td>Solved</td>\n",
       "      <td>Poor Website</td>\n",
       "      <td>1</td>\n",
       "    </tr>\n",
       "  </tbody>\n",
       "</table>\n",
       "<p>5 rows × 23 columns</p>\n",
       "</div>"
      ],
      "text/plain": [
       "   age gender security_no region_category  membership_category joining_date  \\\n",
       "0   18      F     XW0DQ7H         Village  Platinum Membership   17-08-2017   \n",
       "1   32      F     5K0N3X1            City   Premium Membership   28-08-2017   \n",
       "2   44      F     1F2TCL3            Town        No Membership   11-11-2016   \n",
       "3   37      M     VJGJ33N            City        No Membership   29-10-2016   \n",
       "4   31      F     SVZXCWB            City        No Membership   12-09-2017   \n",
       "\n",
       "  joined_through_referral referral_id     preferred_offer_types  \\\n",
       "0                      No    xxxxxxxx     Gift Vouchers/Coupons   \n",
       "1                       ?    CID21329     Gift Vouchers/Coupons   \n",
       "2                     Yes    CID12313     Gift Vouchers/Coupons   \n",
       "3                     Yes     CID3793     Gift Vouchers/Coupons   \n",
       "4                      No    xxxxxxxx  Credit/Debit Card Offers   \n",
       "\n",
       "  medium_of_operation  ... avg_time_spent avg_transaction_value  \\\n",
       "0                   ?  ...         300.63              53005.25   \n",
       "1             Desktop  ...         306.34              12838.38   \n",
       "2             Desktop  ...         516.16              21027.00   \n",
       "3             Desktop  ...          53.27              25239.56   \n",
       "4          Smartphone  ...         113.13              24483.66   \n",
       "\n",
       "   avg_frequency_login_days  points_in_wallet  used_special_discount  \\\n",
       "0                        17            781.75                    Yes   \n",
       "1                        10               NaN                    Yes   \n",
       "2                        22            500.69                     No   \n",
       "3                         6            567.66                     No   \n",
       "4                        16            663.06                     No   \n",
       "\n",
       "  offer_application_preference  past_complaint     complaint_status  \\\n",
       "0                          Yes              No       Not Applicable   \n",
       "1                           No             Yes               Solved   \n",
       "2                          Yes             Yes  Solved in Follow-up   \n",
       "3                          Yes             Yes             Unsolved   \n",
       "4                          Yes             Yes               Solved   \n",
       "\n",
       "                   feedback churn_risk_score  \n",
       "0  Products always in Stock                0  \n",
       "1     Quality Customer Care                0  \n",
       "2              Poor Website                1  \n",
       "3              Poor Website                1  \n",
       "4              Poor Website                1  \n",
       "\n",
       "[5 rows x 23 columns]"
      ]
     },
     "execution_count": 4,
     "metadata": {},
     "output_type": "execute_result"
    }
   ],
   "source": [
    "# Load dataset from absolute path\n",
    "df = pd.read_csv(\"my_file.csv\")\n",
    "#load the first 5 columns\n",
    "df.head()"
   ]
  },
  {
   "cell_type": "code",
   "execution_count": 5,
   "metadata": {
    "colab": {
     "base_uri": "https://localhost:8080/"
    },
    "executionInfo": {
     "elapsed": 18,
     "status": "ok",
     "timestamp": 1747933374440,
     "user": {
      "displayName": "Brenda Kurgat",
      "userId": "11817120151564024162"
     },
     "user_tz": -180
    },
    "id": "86754194-a187-4b13-95ca-45e10e709923",
    "outputId": "57c95c5f-a23f-4558-a97f-66f4e9da4c8a"
   },
   "outputs": [
    {
     "data": {
      "text/plain": [
       "(36992, 23)"
      ]
     },
     "execution_count": 5,
     "metadata": {},
     "output_type": "execute_result"
    }
   ],
   "source": [
    "#Getting the shape of dataframe\n",
    "df.shape"
   ]
  },
  {
   "cell_type": "code",
   "execution_count": 6,
   "metadata": {
    "colab": {
     "base_uri": "https://localhost:8080/"
    },
    "executionInfo": {
     "elapsed": 10,
     "status": "ok",
     "timestamp": 1747933374451,
     "user": {
      "displayName": "Brenda Kurgat",
      "userId": "11817120151564024162"
     },
     "user_tz": -180
    },
    "id": "623b4b8e-eb20-412a-884d-3cc519ce93ac",
    "outputId": "61602131-2cd3-46a3-d3dc-a7a1334aeac3"
   },
   "outputs": [
    {
     "data": {
      "text/plain": [
       "Index(['age', 'gender', 'security_no', 'region_category',\n",
       "       'membership_category', 'joining_date', 'joined_through_referral',\n",
       "       'referral_id', 'preferred_offer_types', 'medium_of_operation',\n",
       "       'internet_option', 'last_visit_time', 'days_since_last_login',\n",
       "       'avg_time_spent', 'avg_transaction_value', 'avg_frequency_login_days',\n",
       "       'points_in_wallet', 'used_special_discount',\n",
       "       'offer_application_preference', 'past_complaint', 'complaint_status',\n",
       "       'feedback', 'churn_risk_score'],\n",
       "      dtype='object')"
      ]
     },
     "execution_count": 6,
     "metadata": {},
     "output_type": "execute_result"
    }
   ],
   "source": [
    "# Loading all columns that exist in our dataframe\n",
    "df.columns"
   ]
  },
  {
   "cell_type": "code",
   "execution_count": 7,
   "metadata": {
    "colab": {
     "base_uri": "https://localhost:8080/"
    },
    "executionInfo": {
     "elapsed": 58,
     "status": "ok",
     "timestamp": 1747933374510,
     "user": {
      "displayName": "Brenda Kurgat",
      "userId": "11817120151564024162"
     },
     "user_tz": -180
    },
    "id": "6df76862-4953-4509-8732-5111fb89f084",
    "outputId": "535db09c-3c58-4b9e-9050-7bcc45e66499"
   },
   "outputs": [
    {
     "name": "stdout",
     "output_type": "stream",
     "text": [
      "<class 'pandas.core.frame.DataFrame'>\n",
      "RangeIndex: 36992 entries, 0 to 36991\n",
      "Data columns (total 23 columns):\n",
      " #   Column                        Non-Null Count  Dtype  \n",
      "---  ------                        --------------  -----  \n",
      " 0   age                           36992 non-null  int64  \n",
      " 1   gender                        36992 non-null  object \n",
      " 2   security_no                   36992 non-null  object \n",
      " 3   region_category               31564 non-null  object \n",
      " 4   membership_category           36992 non-null  object \n",
      " 5   joining_date                  36992 non-null  object \n",
      " 6   joined_through_referral       36992 non-null  object \n",
      " 7   referral_id                   36992 non-null  object \n",
      " 8   preferred_offer_types         36704 non-null  object \n",
      " 9   medium_of_operation           36992 non-null  object \n",
      " 10  internet_option               36992 non-null  object \n",
      " 11  last_visit_time               36992 non-null  object \n",
      " 12  days_since_last_login         36992 non-null  int64  \n",
      " 13  avg_time_spent                36992 non-null  float64\n",
      " 14  avg_transaction_value         36992 non-null  float64\n",
      " 15  avg_frequency_login_days      36992 non-null  object \n",
      " 16  points_in_wallet              33549 non-null  float64\n",
      " 17  used_special_discount         36992 non-null  object \n",
      " 18  offer_application_preference  36992 non-null  object \n",
      " 19  past_complaint                36992 non-null  object \n",
      " 20  complaint_status              36992 non-null  object \n",
      " 21  feedback                      36992 non-null  object \n",
      " 22  churn_risk_score              36992 non-null  int64  \n",
      "dtypes: float64(3), int64(3), object(17)\n",
      "memory usage: 6.5+ MB\n"
     ]
    }
   ],
   "source": [
    "#Data types in our dataframe\n",
    "df.info()"
   ]
  },
  {
   "cell_type": "code",
   "execution_count": 8,
   "metadata": {
    "colab": {
     "base_uri": "https://localhost:8080/",
     "height": 300
    },
    "executionInfo": {
     "elapsed": 24,
     "status": "ok",
     "timestamp": 1747933374535,
     "user": {
      "displayName": "Brenda Kurgat",
      "userId": "11817120151564024162"
     },
     "user_tz": -180
    },
    "id": "fddd1729-8571-4632-a610-c4d92c2039b5",
    "outputId": "af198c0a-a493-4ebe-ced2-66868930b6e5"
   },
   "outputs": [
    {
     "data": {
      "text/html": [
       "<div>\n",
       "<style scoped>\n",
       "    .dataframe tbody tr th:only-of-type {\n",
       "        vertical-align: middle;\n",
       "    }\n",
       "\n",
       "    .dataframe tbody tr th {\n",
       "        vertical-align: top;\n",
       "    }\n",
       "\n",
       "    .dataframe thead th {\n",
       "        text-align: right;\n",
       "    }\n",
       "</style>\n",
       "<table border=\"1\" class=\"dataframe\">\n",
       "  <thead>\n",
       "    <tr style=\"text-align: right;\">\n",
       "      <th></th>\n",
       "      <th>age</th>\n",
       "      <th>days_since_last_login</th>\n",
       "      <th>avg_time_spent</th>\n",
       "      <th>avg_transaction_value</th>\n",
       "      <th>points_in_wallet</th>\n",
       "      <th>churn_risk_score</th>\n",
       "    </tr>\n",
       "  </thead>\n",
       "  <tbody>\n",
       "    <tr>\n",
       "      <th>count</th>\n",
       "      <td>36992.000000</td>\n",
       "      <td>36992.000000</td>\n",
       "      <td>36992.000000</td>\n",
       "      <td>36992.000000</td>\n",
       "      <td>33549.000000</td>\n",
       "      <td>36992.000000</td>\n",
       "    </tr>\n",
       "    <tr>\n",
       "      <th>mean</th>\n",
       "      <td>37.118161</td>\n",
       "      <td>-41.915576</td>\n",
       "      <td>243.472334</td>\n",
       "      <td>29271.194003</td>\n",
       "      <td>686.882199</td>\n",
       "      <td>0.540982</td>\n",
       "    </tr>\n",
       "    <tr>\n",
       "      <th>std</th>\n",
       "      <td>15.867412</td>\n",
       "      <td>228.819900</td>\n",
       "      <td>398.289149</td>\n",
       "      <td>19444.806226</td>\n",
       "      <td>194.063624</td>\n",
       "      <td>0.498324</td>\n",
       "    </tr>\n",
       "    <tr>\n",
       "      <th>min</th>\n",
       "      <td>10.000000</td>\n",
       "      <td>-999.000000</td>\n",
       "      <td>-2814.109110</td>\n",
       "      <td>800.460000</td>\n",
       "      <td>-760.661236</td>\n",
       "      <td>0.000000</td>\n",
       "    </tr>\n",
       "    <tr>\n",
       "      <th>25%</th>\n",
       "      <td>23.000000</td>\n",
       "      <td>8.000000</td>\n",
       "      <td>60.102500</td>\n",
       "      <td>14177.540000</td>\n",
       "      <td>616.150000</td>\n",
       "      <td>0.000000</td>\n",
       "    </tr>\n",
       "    <tr>\n",
       "      <th>50%</th>\n",
       "      <td>37.000000</td>\n",
       "      <td>12.000000</td>\n",
       "      <td>161.765000</td>\n",
       "      <td>27554.485000</td>\n",
       "      <td>697.620000</td>\n",
       "      <td>1.000000</td>\n",
       "    </tr>\n",
       "    <tr>\n",
       "      <th>75%</th>\n",
       "      <td>51.000000</td>\n",
       "      <td>16.000000</td>\n",
       "      <td>356.515000</td>\n",
       "      <td>40855.110000</td>\n",
       "      <td>763.950000</td>\n",
       "      <td>1.000000</td>\n",
       "    </tr>\n",
       "    <tr>\n",
       "      <th>max</th>\n",
       "      <td>64.000000</td>\n",
       "      <td>26.000000</td>\n",
       "      <td>3235.578521</td>\n",
       "      <td>99914.050000</td>\n",
       "      <td>2069.069761</td>\n",
       "      <td>1.000000</td>\n",
       "    </tr>\n",
       "  </tbody>\n",
       "</table>\n",
       "</div>"
      ],
      "text/plain": [
       "                age  days_since_last_login  avg_time_spent  \\\n",
       "count  36992.000000           36992.000000    36992.000000   \n",
       "mean      37.118161             -41.915576      243.472334   \n",
       "std       15.867412             228.819900      398.289149   \n",
       "min       10.000000            -999.000000    -2814.109110   \n",
       "25%       23.000000               8.000000       60.102500   \n",
       "50%       37.000000              12.000000      161.765000   \n",
       "75%       51.000000              16.000000      356.515000   \n",
       "max       64.000000              26.000000     3235.578521   \n",
       "\n",
       "       avg_transaction_value  points_in_wallet  churn_risk_score  \n",
       "count           36992.000000      33549.000000      36992.000000  \n",
       "mean            29271.194003        686.882199          0.540982  \n",
       "std             19444.806226        194.063624          0.498324  \n",
       "min               800.460000       -760.661236          0.000000  \n",
       "25%             14177.540000        616.150000          0.000000  \n",
       "50%             27554.485000        697.620000          1.000000  \n",
       "75%             40855.110000        763.950000          1.000000  \n",
       "max             99914.050000       2069.069761          1.000000  "
      ]
     },
     "execution_count": 8,
     "metadata": {},
     "output_type": "execute_result"
    }
   ],
   "source": [
    "#Distribution of values in the dataframe\n",
    "df.describe()"
   ]
  },
  {
   "cell_type": "markdown",
   "metadata": {
    "id": "5c2fcbd8-b13d-4f9c-b398-a6452d5cba38"
   },
   "source": [
    "Standardizing the column names by converting them to lowercase and replacing spaces with underscores.\n"
   ]
  },
  {
   "cell_type": "code",
   "execution_count": 9,
   "metadata": {
    "executionInfo": {
     "elapsed": 3,
     "status": "ok",
     "timestamp": 1747933374541,
     "user": {
      "displayName": "Brenda Kurgat",
      "userId": "11817120151564024162"
     },
     "user_tz": -180
    },
    "id": "6286454d-5edb-4bee-bd76-fa4e066a5a9f"
   },
   "outputs": [],
   "source": [
    "df.columns = df.columns.str.lower().str.replace(' ', '_')"
   ]
  },
  {
   "cell_type": "markdown",
   "metadata": {
    "id": "2989c7ee-88a7-471f-832b-0b2e46fa3f48"
   },
   "source": [
    "Calculating percentages of null values on each column. This is to determine the best approach of dealing with the missing values"
   ]
  },
  {
   "cell_type": "code",
   "execution_count": 10,
   "metadata": {
    "colab": {
     "base_uri": "https://localhost:8080/",
     "height": 805
    },
    "executionInfo": {
     "elapsed": 103,
     "status": "ok",
     "timestamp": 1747933374647,
     "user": {
      "displayName": "Brenda Kurgat",
      "userId": "11817120151564024162"
     },
     "user_tz": -180
    },
    "id": "QFmI_f3O26-C",
    "outputId": "a7b88b3b-a98a-40cb-9f65-be8bd58a9c52"
   },
   "outputs": [
    {
     "data": {
      "text/plain": [
       "age                                0\n",
       "gender                             0\n",
       "security_no                        0\n",
       "region_category                 5428\n",
       "membership_category                0\n",
       "joining_date                       0\n",
       "joined_through_referral            0\n",
       "referral_id                        0\n",
       "preferred_offer_types            288\n",
       "medium_of_operation                0\n",
       "internet_option                    0\n",
       "last_visit_time                    0\n",
       "days_since_last_login              0\n",
       "avg_time_spent                     0\n",
       "avg_transaction_value              0\n",
       "avg_frequency_login_days           0\n",
       "points_in_wallet                3443\n",
       "used_special_discount              0\n",
       "offer_application_preference       0\n",
       "past_complaint                     0\n",
       "complaint_status                   0\n",
       "feedback                           0\n",
       "churn_risk_score                   0\n",
       "dtype: int64"
      ]
     },
     "execution_count": 10,
     "metadata": {},
     "output_type": "execute_result"
    }
   ],
   "source": [
    "# Check for missing values\n",
    "df.isnull().sum()"
   ]
  },
  {
   "cell_type": "code",
   "execution_count": 11,
   "metadata": {
    "colab": {
     "base_uri": "https://localhost:8080/",
     "height": 730
    },
    "executionInfo": {
     "elapsed": 1326,
     "status": "ok",
     "timestamp": 1747933375975,
     "user": {
      "displayName": "Brenda Kurgat",
      "userId": "11817120151564024162"
     },
     "user_tz": -180
    },
    "id": "AX49yQkO26-C",
    "outputId": "505a7188-788b-4343-e041-49939804b3c0"
   },
   "outputs": [
    {
     "data": {
      "image/png": "[encoded data removed]",
      "text/plain": [
       "<Figure size 720x432 with 1 Axes>"
      ]
     },
     "metadata": {
      "needs_background": "light"
     },
     "output_type": "display_data"
    }
   ],
   "source": [
    "# Missing values heatmap\n",
    "plt.figure(figsize=(10, 6))\n",
    "sns.heatmap(df.isnull(), cbar=False, cmap='viridis')\n",
    "plt.title(\"Missing Values Heatmap\")\n",
    "plt.show()"
   ]
  },
  {
   "cell_type": "markdown",
   "metadata": {
    "id": "28db8a78-755d-4dca-a92f-27f35aa45102"
   },
   "source": [
    "This chart shows how customers are spread across different churn risk scores (0 = low risk, 1 = high risk). This helps us see if churn is a big concern.\n"
   ]
  },
  {
   "cell_type": "code",
   "execution_count": 12,
   "metadata": {
    "colab": {
     "base_uri": "https://localhost:8080/"
    },
    "executionInfo": {
     "elapsed": 42,
     "status": "ok",
     "timestamp": 1747933375986,
     "user": {
      "displayName": "Brenda Kurgat",
      "userId": "11817120151564024162"
     },
     "user_tz": -180
    },
    "id": "062995be-4097-4245-bcf3-a2d4512613e4",
    "outputId": "d2a9a5ca-1f2d-4048-bc67-813d923284c8"
   },
   "outputs": [
    {
     "name": "stdout",
     "output_type": "stream",
     "text": [
      "Percentage of null values per column:\n",
      "age                              0.000000\n",
      "gender                           0.000000\n",
      "security_no                      0.000000\n",
      "region_category                 14.673443\n",
      "membership_category              0.000000\n",
      "joining_date                     0.000000\n",
      "joined_through_referral          0.000000\n",
      "referral_id                      0.000000\n",
      "preferred_offer_types            0.778547\n",
      "medium_of_operation              0.000000\n",
      "internet_option                  0.000000\n",
      "last_visit_time                  0.000000\n",
      "days_since_last_login            0.000000\n",
      "avg_time_spent                   0.000000\n",
      "avg_transaction_value            0.000000\n",
      "avg_frequency_login_days         0.000000\n",
      "points_in_wallet                 9.307418\n",
      "used_special_discount            0.000000\n",
      "offer_application_preference     0.000000\n",
      "past_complaint                   0.000000\n",
      "complaint_status                 0.000000\n",
      "feedback                         0.000000\n",
      "churn_risk_score                 0.000000\n",
      "dtype: float64\n"
     ]
    }
   ],
   "source": [
    "# Calculate null values per column as a percentage\n",
    "null_percentage = (df.isnull().sum() / len(df)) * 100\n",
    "\n",
    "# Display the result\n",
    "print(\"Percentage of null values per column:\")\n",
    "print(null_percentage)"
   ]
  },
  {
   "cell_type": "code",
   "execution_count": 13,
   "metadata": {
    "colab": {
     "base_uri": "https://localhost:8080/",
     "height": 472
    },
    "executionInfo": {
     "elapsed": 175,
     "status": "ok",
     "timestamp": 1747933376161,
     "user": {
      "displayName": "Brenda Kurgat",
      "userId": "11817120151564024162"
     },
     "user_tz": -180
    },
    "id": "ec1a59ee-1e16-4a29-bd1c-738f6194fd34",
    "outputId": "15621ca0-a9f8-4138-ff05-daab5b0a84be"
   },
   "outputs": [
    {
     "data": {
      "image/png": "[encoded data removed]",
      "text/plain": [
       "<Figure size 432x288 with 1 Axes>"
      ]
     },
     "metadata": {
      "needs_background": "light"
     },
     "output_type": "display_data"
    }
   ],
   "source": [
    "# Target distribution\n",
    "sns.countplot(x='churn_risk_score', data=df)\n",
    "plt.title(\"Churn Risk Score Distribution\")\n",
    "plt.show()"
   ]
  },
  {
   "cell_type": "markdown",
   "metadata": {
    "id": "a965672b-f727-42d5-811c-3360d2ae3c98"
   },
   "source": [
    "This heatmap shows how numerical features relate to each other. We can use it to see which features (like `tenure_days` or `feedback_sentiment`) are most connected to `churn_risk_score` when picking model inputs."
   ]
  },
  {
   "cell_type": "code",
   "execution_count": 14,
   "metadata": {
    "colab": {
     "base_uri": "https://localhost:8080/",
     "height": 841
    },
    "executionInfo": {
     "elapsed": 394,
     "status": "ok",
     "timestamp": 1747933376560,
     "user": {
      "displayName": "Brenda Kurgat",
      "userId": "11817120151564024162"
     },
     "user_tz": -180
    },
    "id": "020e8f84-da92-47ba-a5eb-bbb54e707a67",
    "outputId": "97514a06-6dd0-446e-b5d2-7b35fc17a258"
   },
   "outputs": [
    {
     "data": {
      "image/png": "[encoded data removed]",
      "text/plain": [
       "<Figure size 864x576 with 2 Axes>"
      ]
     },
     "metadata": {
      "needs_background": "light"
     },
     "output_type": "display_data"
    }
   ],
   "source": [
    "# Correlation heatmap\n",
    "numerical_features = df.select_dtypes(include=['float64', 'int64'])\n",
    "plt.figure(figsize=(12, 8))\n",
    "sns.heatmap(numerical_features.corr(), annot=True, cmap='coolwarm', fmt='.2f')\n",
    "plt.title(\"Correlation Heatmap\")\n",
    "plt.show()"
   ]
  },
  {
   "cell_type": "markdown",
   "metadata": {
    "id": "8be4e784-fe40-448b-bfb2-7c046a3536ff"
   },
   "source": [
    "We observe that there is no strong correlation between the numerical variables"
   ]
  },
  {
   "cell_type": "markdown",
   "metadata": {
    "id": "791a5979-0768-4250-a195-3a2dbca88630"
   },
   "source": [
    "This plot shows how customer wallet points are spread out. It helps us understand if most customers have low, average, or high points.It is useful for identifying outliers or patterns that may affect churn."
   ]
  },
  {
   "cell_type": "code",
   "execution_count": 15,
   "metadata": {
    "colab": {
     "base_uri": "https://localhost:8080/",
     "height": 410
    },
    "executionInfo": {
     "elapsed": 756,
     "status": "ok",
     "timestamp": 1747933377313,
     "user": {
      "displayName": "Brenda Kurgat",
      "userId": "11817120151564024162"
     },
     "user_tz": -180
    },
    "id": "9eff3825-f59f-43b1-b32f-abe76453755d",
    "outputId": "37849085-2dd0-4f67-8ba2-647840c017ed"
   },
   "outputs": [
    {
     "data": {
      "image/png": "[encoded data removed]",
      "text/plain": [
       "<Figure size 432x288 with 1 Axes>"
      ]
     },
     "metadata": {
      "needs_background": "light"
     },
     "output_type": "display_data"
    }
   ],
   "source": [
    "# Numerical distributions\n",
    "for col in ['points_in_wallet']:\n",
    "    plt.figure(figsize=(6, 4))\n",
    "    sns.histplot(df[col], kde=True)\n",
    "    plt.title(f\"{col} Distribution\")\n",
    "    plt.show()"
   ]
  },
  {
   "cell_type": "markdown",
   "metadata": {
    "id": "63a204e4-a65f-40c3-bdae-662a09b1beaf"
   },
   "source": [
    "From the above graph, we can see that the distribution is uniform"
   ]
  },
  {
   "cell_type": "markdown",
   "metadata": {
    "id": "6a658e03-32f6-4f72-9798-12fbc6a9f7c2"
   },
   "source": [
    "The below graph shows membership category against churn risk score."
   ]
  },
  {
   "cell_type": "code",
   "execution_count": 16,
   "metadata": {
    "colab": {
     "base_uri": "https://localhost:8080/",
     "height": 607
    },
    "executionInfo": {
     "elapsed": 306,
     "status": "ok",
     "timestamp": 1747933377620,
     "user": {
      "displayName": "Brenda Kurgat",
      "userId": "11817120151564024162"
     },
     "user_tz": -180
    },
    "id": "0f32f425-96fe-41fb-90c3-5fbb89a5f0de",
    "outputId": "a116d853-f249-450d-e8d4-634e11e4384e"
   },
   "outputs": [
    {
     "data": {
      "image/png": "[encoded data removed]",
      "text/plain": [
       "<Figure size 720x432 with 1 Axes>"
      ]
     },
     "metadata": {
      "needs_background": "light"
     },
     "output_type": "display_data"
    }
   ],
   "source": [
    "# Plot count of membership category vs churn risk score\n",
    "plt.figure(figsize=(10, 6))\n",
    "sns.countplot(data=df, x='membership_category', hue='churn_risk_score')\n",
    "\n",
    "# Visuals\n",
    "plt.title(\"Membership Category vs Churn Risk Score\")\n",
    "plt.xlabel(\"Membership Category\")\n",
    "plt.ylabel(\"Count\")\n",
    "plt.xticks(rotation=45)\n",
    "plt.legend(title=\"Churn Risk Score\")\n",
    "plt.tight_layout()\n",
    "plt.show()"
   ]
  },
  {
   "cell_type": "markdown",
   "metadata": {
    "id": "cccaa5f8-a5b9-4433-8024-96a468272a20"
   },
   "source": [
    "From the above graph we can see that people with basic membership have a high chance of leaving and as the category of membership grows the chance of churn reduces"
   ]
  },
  {
   "cell_type": "code",
   "execution_count": 17,
   "metadata": {
    "colab": {
     "base_uri": "https://localhost:8080/",
     "height": 607
    },
    "executionInfo": {
     "elapsed": 500,
     "status": "ok",
     "timestamp": 1747933378119,
     "user": {
      "displayName": "Brenda Kurgat",
      "userId": "11817120151564024162"
     },
     "user_tz": -180
    },
    "id": "fa480a40-d8b9-4f40-b948-0b0dc2020d10",
    "outputId": "a660fafe-2fc3-4772-dfb3-d0af7acdb592"
   },
   "outputs": [
    {
     "data": {
      "image/png": "[encoded data removed]",
      "text/plain": [
       "<Figure size 720x432 with 1 Axes>"
      ]
     },
     "metadata": {
      "needs_background": "light"
     },
     "output_type": "display_data"
    }
   ],
   "source": [
    "plt.figure(figsize=(10, 6))\n",
    "sns.histplot(data=df, x='age', hue='churn_risk_score', bins=20, kde=True, palette='Set2', multiple='stack')\n",
    "\n",
    "plt.title('Age Distribution by Churn Status')\n",
    "plt.xlabel('Age')\n",
    "plt.ylabel('Count')\n",
    "plt.legend(title='Churn', labels=['No', 'Yes'])\n",
    "plt.grid(True)\n",
    "plt.tight_layout()\n",
    "plt.show()"
   ]
  },
  {
   "cell_type": "markdown",
   "metadata": {
    "id": "2b28efb2-77dc-4203-9385-a1de85f5db11"
   },
   "source": [
    "The age distribution chart shows that customer churn is fairly uniform across all age groups, with no particular age range standing out as having significantly higher or lower churn rates. Both churned and non-churned customers are distributed evenly across the age spectrum, as indicated by the consistent height of the stacked bars and the overlapping KDE lines. This suggests that age is not a strong predictor of churn in this dataset, and other factors such as tenure, usage, or region may offermore meaningful insights into customer churn behavior."
   ]
  },
  {
   "cell_type": "markdown",
   "metadata": {
    "id": "ab33c51b-1ae8-4d33-980d-3bc75d6455a6"
   },
   "source": [
    "We decided to drop the security number and ID columns since they did not offer any useful insightinto our analysis"
   ]
  },
  {
   "cell_type": "code",
   "execution_count": 18,
   "metadata": {
    "colab": {
     "base_uri": "https://localhost:8080/"
    },
    "executionInfo": {
     "elapsed": 12,
     "status": "ok",
     "timestamp": 1747933378136,
     "user": {
      "displayName": "Brenda Kurgat",
      "userId": "11817120151564024162"
     },
     "user_tz": -180
    },
    "id": "08a1f2db-4a56-4aab-8d45-a7a273d6ca3c",
    "outputId": "17ee1676-2108-47ea-fa02-18d24ce296a9"
   },
   "outputs": [
    {
     "name": "stdout",
     "output_type": "stream",
     "text": [
      "Index(['age', 'gender', 'region_category', 'membership_category',\n",
      "       'joining_date', 'joined_through_referral', 'preferred_offer_types',\n",
      "       'medium_of_operation', 'internet_option', 'days_since_last_login',\n",
      "       'avg_time_spent', 'avg_transaction_value', 'avg_frequency_login_days',\n",
      "       'points_in_wallet', 'used_special_discount',\n",
      "       'offer_application_preference', 'past_complaint', 'complaint_status',\n",
      "       'feedback', 'churn_risk_score'],\n",
      "      dtype='object')\n"
     ]
    }
   ],
   "source": [
    "df.drop(columns=['security_no', 'last_visit_time', 'referral_id'], inplace=True)\n",
    "print(df.columns)"
   ]
  },
  {
   "cell_type": "markdown",
   "metadata": {
    "id": "3230c757-5390-4951-a2b0-fae527a6dc66"
   },
   "source": [
    "## DATA CLEANING\n",
    "\n",
    "Starting with preferred_offer_types column we shall proceed to remove the null values. Since the percentage of null values in this column is 0.77% which is almost negligible, we will drop all the null rows."
   ]
  },
  {
   "cell_type": "code",
   "execution_count": 19,
   "metadata": {
    "executionInfo": {
     "elapsed": 16,
     "status": "ok",
     "timestamp": 1747933378157,
     "user": {
      "displayName": "Brenda Kurgat",
      "userId": "11817120151564024162"
     },
     "user_tz": -180
    },
    "id": "5e130548-15a7-4610-b9c2-50f9ea328961"
   },
   "outputs": [],
   "source": [
    "# Drop rows where 'preferred_offer_types' is null\n",
    "df_cleaned = df.dropna(subset=['preferred_offer_types'])"
   ]
  },
  {
   "cell_type": "code",
   "execution_count": 20,
   "metadata": {
    "colab": {
     "base_uri": "https://localhost:8080/"
    },
    "executionInfo": {
     "elapsed": 15,
     "status": "ok",
     "timestamp": 1747933378174,
     "user": {
      "displayName": "Brenda Kurgat",
      "userId": "11817120151564024162"
     },
     "user_tz": -180
    },
    "id": "d82ac42f-28f9-4e43-b863-d547f72366f7",
    "outputId": "24f61ac9-dfb7-428c-c48d-ce2a1f02de16"
   },
   "outputs": [
    {
     "name": "stdout",
     "output_type": "stream",
     "text": [
      "The most frequent (mode) value in 'region_category' is: Town\n"
     ]
    }
   ],
   "source": [
    "# Find the most frequent value (mode) of 'region_category'\n",
    "mode_region = df_cleaned['region_category'].mode()[0]\n",
    "print(f\"The most frequent (mode) value in 'region_category' is: {mode_region}\")"
   ]
  },
  {
   "cell_type": "code",
   "execution_count": 21,
   "metadata": {
    "colab": {
     "base_uri": "https://localhost:8080/"
    },
    "executionInfo": {
     "elapsed": 12,
     "status": "ok",
     "timestamp": 1747933378181,
     "user": {
      "displayName": "Brenda Kurgat",
      "userId": "11817120151564024162"
     },
     "user_tz": -180
    },
    "id": "59a10add-5588-4918-8e29-914fa33460f8",
    "outputId": "edbdd85e-f8df-41ab-bfd9-394890006ca4"
   },
   "outputs": [
    {
     "name": "stdout",
     "output_type": "stream",
     "text": [
      "Distribution of values in 'region_category':\n",
      "Town       14025\n",
      "City       12635\n",
      "NaN         5379\n",
      "Village     4665\n",
      "Name: region_category, dtype: int64\n"
     ]
    }
   ],
   "source": [
    "# Get distribution of 'region_category'\n",
    "region_distribution = df_cleaned['region_category'].value_counts(dropna=False)\n",
    "\n",
    "# Display the result\n",
    "print(\"Distribution of values in 'region_category':\")\n",
    "print(region_distribution)"
   ]
  },
  {
   "cell_type": "code",
   "execution_count": 22,
   "metadata": {
    "executionInfo": {
     "elapsed": 29,
     "status": "ok",
     "timestamp": 1747933378211,
     "user": {
      "displayName": "Brenda Kurgat",
      "userId": "11817120151564024162"
     },
     "user_tz": -180
    },
    "id": "f9d29076-b0e8-44d3-a722-32c8296d0d24"
   },
   "outputs": [],
   "source": [
    "# Drop rows where 'region_category' is null\n",
    "df_cleaned = df_cleaned.dropna(subset=['region_category'])"
   ]
  },
  {
   "cell_type": "code",
   "execution_count": 23,
   "metadata": {
    "colab": {
     "base_uri": "https://localhost:8080/"
    },
    "executionInfo": {
     "elapsed": 62,
     "status": "ok",
     "timestamp": 1747933378277,
     "user": {
      "displayName": "Brenda Kurgat",
      "userId": "11817120151564024162"
     },
     "user_tz": -180
    },
    "id": "b82e6b7c-db14-4328-b95d-a86c9843884e",
    "outputId": "4691cd13-b068-4d13-fd3a-18a3300aa46f"
   },
   "outputs": [
    {
     "name": "stdout",
     "output_type": "stream",
     "text": [
      "age                             0.000000\n",
      "gender                          0.000000\n",
      "region_category                 0.000000\n",
      "membership_category             0.000000\n",
      "joining_date                    0.000000\n",
      "joined_through_referral         0.000000\n",
      "preferred_offer_types           0.000000\n",
      "medium_of_operation             0.000000\n",
      "internet_option                 0.000000\n",
      "days_since_last_login           0.000000\n",
      "avg_time_spent                  0.000000\n",
      "avg_transaction_value           0.000000\n",
      "avg_frequency_login_days        0.000000\n",
      "points_in_wallet                9.423783\n",
      "used_special_discount           0.000000\n",
      "offer_application_preference    0.000000\n",
      "past_complaint                  0.000000\n",
      "complaint_status                0.000000\n",
      "feedback                        0.000000\n",
      "churn_risk_score                0.000000\n",
      "dtype: float64\n"
     ]
    }
   ],
   "source": [
    "# Display the result\n",
    "null_percentage_cleaned = (df_cleaned.isnull().sum() / len(df_cleaned)) * 100\n",
    "print(null_percentage_cleaned)"
   ]
  },
  {
   "cell_type": "code",
   "execution_count": 24,
   "metadata": {
    "colab": {
     "base_uri": "https://localhost:8080/"
    },
    "executionInfo": {
     "elapsed": 14,
     "status": "ok",
     "timestamp": 1747933378278,
     "user": {
      "displayName": "Brenda Kurgat",
      "userId": "11817120151564024162"
     },
     "user_tz": -180
    },
    "id": "b9bf75a3-e8cb-4c00-b55c-4ac9605b88aa",
    "outputId": "03e3501f-52be-4093-d93d-420600df6eb7"
   },
   "outputs": [
    {
     "name": "stdout",
     "output_type": "stream",
     "text": [
      "Distribution of values in 'points_in_wallet':\n",
      "NaN           2952\n",
      "705.070000       9\n",
      "771.750000       7\n",
      "718.920000       6\n",
      "780.920000       6\n",
      "              ... \n",
      "203.539119       1\n",
      "658.090000       1\n",
      "812.180000       1\n",
      "538.020000       1\n",
      "791.530000       1\n",
      "Name: points_in_wallet, Length: 20978, dtype: int64\n"
     ]
    }
   ],
   "source": [
    "# Get distribution of 'region_category'\n",
    "points_in_wallet_distribution = df_cleaned['points_in_wallet'].value_counts(dropna=False)\n",
    "\n",
    "# Display the result\n",
    "print(\"Distribution of values in 'points_in_wallet':\")\n",
    "print(points_in_wallet_distribution)"
   ]
  },
  {
   "cell_type": "code",
   "execution_count": 25,
   "metadata": {
    "executionInfo": {
     "elapsed": 5,
     "status": "ok",
     "timestamp": 1747933378278,
     "user": {
      "displayName": "Brenda Kurgat",
      "userId": "11817120151564024162"
     },
     "user_tz": -180
    },
    "id": "2a651890-605b-4e9e-8ee3-5533bfdd6a6d"
   },
   "outputs": [],
   "source": [
    "# Fill missing values\n",
    "df_cleaned['points_in_wallet'].fillna(df_cleaned['points_in_wallet'].median(), inplace=True)\n"
   ]
  },
  {
   "cell_type": "code",
   "execution_count": 26,
   "metadata": {
    "colab": {
     "base_uri": "https://localhost:8080/"
    },
    "executionInfo": {
     "elapsed": 35,
     "status": "ok",
     "timestamp": 1747933378310,
     "user": {
      "displayName": "Brenda Kurgat",
      "userId": "11817120151564024162"
     },
     "user_tz": -180
    },
    "id": "ea87835c-6e8e-47b5-af6b-c74056dd43e2",
    "outputId": "1005837e-a347-4610-d255-5a3c369c5d77"
   },
   "outputs": [
    {
     "name": "stdout",
     "output_type": "stream",
     "text": [
      "age                             0.0\n",
      "gender                          0.0\n",
      "region_category                 0.0\n",
      "membership_category             0.0\n",
      "joining_date                    0.0\n",
      "joined_through_referral         0.0\n",
      "preferred_offer_types           0.0\n",
      "medium_of_operation             0.0\n",
      "internet_option                 0.0\n",
      "days_since_last_login           0.0\n",
      "avg_time_spent                  0.0\n",
      "avg_transaction_value           0.0\n",
      "avg_frequency_login_days        0.0\n",
      "points_in_wallet                0.0\n",
      "used_special_discount           0.0\n",
      "offer_application_preference    0.0\n",
      "past_complaint                  0.0\n",
      "complaint_status                0.0\n",
      "feedback                        0.0\n",
      "churn_risk_score                0.0\n",
      "dtype: float64\n"
     ]
    }
   ],
   "source": [
    "null_percentage_cleaned = (df_cleaned.isnull().sum() / len(df_cleaned)) * 100\n",
    "print(null_percentage_cleaned)"
   ]
  },
  {
   "cell_type": "code",
   "execution_count": 27,
   "metadata": {
    "colab": {
     "base_uri": "https://localhost:8080/"
    },
    "executionInfo": {
     "elapsed": 49,
     "status": "ok",
     "timestamp": 1747933378360,
     "user": {
      "displayName": "Brenda Kurgat",
      "userId": "11817120151564024162"
     },
     "user_tz": -180
    },
    "id": "09dab6fc-acd0-49e2-aad8-6e6828a00a7e",
    "outputId": "f8f20060-e87c-4a3e-c359-fbc2db4942e7"
   },
   "outputs": [
    {
     "data": {
      "text/plain": [
       "(31325, 20)"
      ]
     },
     "execution_count": 27,
     "metadata": {},
     "output_type": "execute_result"
    }
   ],
   "source": [
    "df_cleaned.shape"
   ]
  },
  {
   "cell_type": "code",
   "execution_count": 28,
   "metadata": {
    "colab": {
     "base_uri": "https://localhost:8080/",
     "height": 347
    },
    "executionInfo": {
     "elapsed": 223,
     "status": "ok",
     "timestamp": 1747933378581,
     "user": {
      "displayName": "Brenda Kurgat",
      "userId": "11817120151564024162"
     },
     "user_tz": -180
    },
    "id": "091bc378-d24e-4040-80db-e93aa1b8db97",
    "outputId": "617b83fb-fb06-4a3f-eaeb-ad6381d3d0e2"
   },
   "outputs": [
    {
     "data": {
      "text/html": [
       "<div>\n",
       "<style scoped>\n",
       "    .dataframe tbody tr th:only-of-type {\n",
       "        vertical-align: middle;\n",
       "    }\n",
       "\n",
       "    .dataframe tbody tr th {\n",
       "        vertical-align: top;\n",
       "    }\n",
       "\n",
       "    .dataframe thead th {\n",
       "        text-align: right;\n",
       "    }\n",
       "</style>\n",
       "<table border=\"1\" class=\"dataframe\">\n",
       "  <thead>\n",
       "    <tr style=\"text-align: right;\">\n",
       "      <th></th>\n",
       "      <th>age</th>\n",
       "      <th>gender</th>\n",
       "      <th>region_category</th>\n",
       "      <th>membership_category</th>\n",
       "      <th>joining_date</th>\n",
       "      <th>joined_through_referral</th>\n",
       "      <th>preferred_offer_types</th>\n",
       "      <th>medium_of_operation</th>\n",
       "      <th>internet_option</th>\n",
       "      <th>days_since_last_login</th>\n",
       "      <th>avg_time_spent</th>\n",
       "      <th>avg_transaction_value</th>\n",
       "      <th>avg_frequency_login_days</th>\n",
       "      <th>points_in_wallet</th>\n",
       "      <th>used_special_discount</th>\n",
       "      <th>offer_application_preference</th>\n",
       "      <th>past_complaint</th>\n",
       "      <th>complaint_status</th>\n",
       "      <th>feedback</th>\n",
       "      <th>churn_risk_score</th>\n",
       "    </tr>\n",
       "  </thead>\n",
       "  <tbody>\n",
       "    <tr>\n",
       "      <th>0</th>\n",
       "      <td>18</td>\n",
       "      <td>F</td>\n",
       "      <td>Village</td>\n",
       "      <td>Platinum Membership</td>\n",
       "      <td>17-08-2017</td>\n",
       "      <td>No</td>\n",
       "      <td>Gift Vouchers/Coupons</td>\n",
       "      <td>?</td>\n",
       "      <td>Wi-Fi</td>\n",
       "      <td>17</td>\n",
       "      <td>300.63</td>\n",
       "      <td>53005.25</td>\n",
       "      <td>17</td>\n",
       "      <td>781.75</td>\n",
       "      <td>Yes</td>\n",
       "      <td>Yes</td>\n",
       "      <td>No</td>\n",
       "      <td>Not Applicable</td>\n",
       "      <td>Products always in Stock</td>\n",
       "      <td>0</td>\n",
       "    </tr>\n",
       "    <tr>\n",
       "      <th>1</th>\n",
       "      <td>32</td>\n",
       "      <td>F</td>\n",
       "      <td>City</td>\n",
       "      <td>Premium Membership</td>\n",
       "      <td>28-08-2017</td>\n",
       "      <td>?</td>\n",
       "      <td>Gift Vouchers/Coupons</td>\n",
       "      <td>Desktop</td>\n",
       "      <td>Mobile_Data</td>\n",
       "      <td>16</td>\n",
       "      <td>306.34</td>\n",
       "      <td>12838.38</td>\n",
       "      <td>10</td>\n",
       "      <td>698.48</td>\n",
       "      <td>Yes</td>\n",
       "      <td>No</td>\n",
       "      <td>Yes</td>\n",
       "      <td>Solved</td>\n",
       "      <td>Quality Customer Care</td>\n",
       "      <td>0</td>\n",
       "    </tr>\n",
       "    <tr>\n",
       "      <th>2</th>\n",
       "      <td>44</td>\n",
       "      <td>F</td>\n",
       "      <td>Town</td>\n",
       "      <td>No Membership</td>\n",
       "      <td>11-11-2016</td>\n",
       "      <td>Yes</td>\n",
       "      <td>Gift Vouchers/Coupons</td>\n",
       "      <td>Desktop</td>\n",
       "      <td>Wi-Fi</td>\n",
       "      <td>14</td>\n",
       "      <td>516.16</td>\n",
       "      <td>21027.00</td>\n",
       "      <td>22</td>\n",
       "      <td>500.69</td>\n",
       "      <td>No</td>\n",
       "      <td>Yes</td>\n",
       "      <td>Yes</td>\n",
       "      <td>Solved in Follow-up</td>\n",
       "      <td>Poor Website</td>\n",
       "      <td>1</td>\n",
       "    </tr>\n",
       "    <tr>\n",
       "      <th>3</th>\n",
       "      <td>37</td>\n",
       "      <td>M</td>\n",
       "      <td>City</td>\n",
       "      <td>No Membership</td>\n",
       "      <td>29-10-2016</td>\n",
       "      <td>Yes</td>\n",
       "      <td>Gift Vouchers/Coupons</td>\n",
       "      <td>Desktop</td>\n",
       "      <td>Mobile_Data</td>\n",
       "      <td>11</td>\n",
       "      <td>53.27</td>\n",
       "      <td>25239.56</td>\n",
       "      <td>6</td>\n",
       "      <td>567.66</td>\n",
       "      <td>No</td>\n",
       "      <td>Yes</td>\n",
       "      <td>Yes</td>\n",
       "      <td>Unsolved</td>\n",
       "      <td>Poor Website</td>\n",
       "      <td>1</td>\n",
       "    </tr>\n",
       "    <tr>\n",
       "      <th>4</th>\n",
       "      <td>31</td>\n",
       "      <td>F</td>\n",
       "      <td>City</td>\n",
       "      <td>No Membership</td>\n",
       "      <td>12-09-2017</td>\n",
       "      <td>No</td>\n",
       "      <td>Credit/Debit Card Offers</td>\n",
       "      <td>Smartphone</td>\n",
       "      <td>Mobile_Data</td>\n",
       "      <td>20</td>\n",
       "      <td>113.13</td>\n",
       "      <td>24483.66</td>\n",
       "      <td>16</td>\n",
       "      <td>663.06</td>\n",
       "      <td>No</td>\n",
       "      <td>Yes</td>\n",
       "      <td>Yes</td>\n",
       "      <td>Solved</td>\n",
       "      <td>Poor Website</td>\n",
       "      <td>1</td>\n",
       "    </tr>\n",
       "  </tbody>\n",
       "</table>\n",
       "</div>"
      ],
      "text/plain": [
       "   age gender region_category  membership_category joining_date  \\\n",
       "0   18      F         Village  Platinum Membership   17-08-2017   \n",
       "1   32      F            City   Premium Membership   28-08-2017   \n",
       "2   44      F            Town        No Membership   11-11-2016   \n",
       "3   37      M            City        No Membership   29-10-2016   \n",
       "4   31      F            City        No Membership   12-09-2017   \n",
       "\n",
       "  joined_through_referral     preferred_offer_types medium_of_operation  \\\n",
       "0                      No     Gift Vouchers/Coupons                   ?   \n",
       "1                       ?     Gift Vouchers/Coupons             Desktop   \n",
       "2                     Yes     Gift Vouchers/Coupons             Desktop   \n",
       "3                     Yes     Gift Vouchers/Coupons             Desktop   \n",
       "4                      No  Credit/Debit Card Offers          Smartphone   \n",
       "\n",
       "  internet_option  days_since_last_login  avg_time_spent  \\\n",
       "0           Wi-Fi                     17          300.63   \n",
       "1     Mobile_Data                     16          306.34   \n",
       "2           Wi-Fi                     14          516.16   \n",
       "3     Mobile_Data                     11           53.27   \n",
       "4     Mobile_Data                     20          113.13   \n",
       "\n",
       "   avg_transaction_value avg_frequency_login_days  points_in_wallet  \\\n",
       "0               53005.25                       17            781.75   \n",
       "1               12838.38                       10            698.48   \n",
       "2               21027.00                       22            500.69   \n",
       "3               25239.56                        6            567.66   \n",
       "4               24483.66                       16            663.06   \n",
       "\n",
       "  used_special_discount offer_application_preference past_complaint  \\\n",
       "0                   Yes                          Yes             No   \n",
       "1                   Yes                           No            Yes   \n",
       "2                    No                          Yes            Yes   \n",
       "3                    No                          Yes            Yes   \n",
       "4                    No                          Yes            Yes   \n",
       "\n",
       "      complaint_status                  feedback  churn_risk_score  \n",
       "0       Not Applicable  Products always in Stock                 0  \n",
       "1               Solved     Quality Customer Care                 0  \n",
       "2  Solved in Follow-up              Poor Website                 1  \n",
       "3             Unsolved              Poor Website                 1  \n",
       "4               Solved              Poor Website                 1  "
      ]
     },
     "execution_count": 28,
     "metadata": {},
     "output_type": "execute_result"
    }
   ],
   "source": [
    "df_cleaned.head()"
   ]
  },
  {
   "cell_type": "markdown",
   "metadata": {
    "id": "zgI6D86ZdY1N"
   },
   "source": [
    "We've observed that the dataset contains many hidden missing values represented by placeholder terms. To accurately identify and address them, we plan to carefully inspect each column individually."
   ]
  },
  {
   "cell_type": "code",
   "execution_count": 29,
   "metadata": {
    "colab": {
     "base_uri": "https://localhost:8080/",
     "height": 303
    },
    "executionInfo": {
     "elapsed": 14,
     "status": "ok",
     "timestamp": 1747933378584,
     "user": {
      "displayName": "Brenda Kurgat",
      "userId": "11817120151564024162"
     },
     "user_tz": -180
    },
    "id": "_B3Zey73cnA7",
    "outputId": "e6bfcaa5-c9df-4d17-902d-3c8af4dd2073"
   },
   "outputs": [
    {
     "data": {
      "text/plain": [
       "Basic Membership       6516\n",
       "No Membership          6493\n",
       "Gold Membership        5743\n",
       "Silver Membership      5107\n",
       "Premium Membership     3779\n",
       "Platinum Membership    3687\n",
       "Name: membership_category, dtype: int64"
      ]
     },
     "execution_count": 29,
     "metadata": {},
     "output_type": "execute_result"
    }
   ],
   "source": [
    "# Inspecting the membership_categoty column\n",
    "df_cleaned['membership_category'].value_counts()"
   ]
  },
  {
   "cell_type": "markdown",
   "metadata": {
    "id": "Jzy-oGLTdmcZ"
   },
   "source": [
    "For this column, the values appear valid and present; there are no hidden missing values detected.\n",
    "\n"
   ]
  },
  {
   "cell_type": "code",
   "execution_count": 30,
   "metadata": {
    "executionInfo": {
     "elapsed": 75,
     "status": "ok",
     "timestamp": 1747933378655,
     "user": {
      "displayName": "Brenda Kurgat",
      "userId": "11817120151564024162"
     },
     "user_tz": -180
    },
    "id": "oE_mU6xzcm8w"
   },
   "outputs": [],
   "source": [
    "# Inspecting the joining_date column. For this, we shall start by converting the column to datetime fomart.\n",
    "\n",
    "df_cleaned['joining_date'] = pd.to_datetime(df_cleaned['joining_date'], errors = 'coerce')"
   ]
  },
  {
   "cell_type": "code",
   "execution_count": 31,
   "metadata": {
    "colab": {
     "base_uri": "https://localhost:8080/",
     "height": 73
    },
    "executionInfo": {
     "elapsed": 56,
     "status": "ok",
     "timestamp": 1747933378729,
     "user": {
      "displayName": "Brenda Kurgat",
      "userId": "11817120151564024162"
     },
     "user_tz": -180
    },
    "id": "G828_fbe6OAV",
    "outputId": "61b87ac9-89c9-410b-8298-41a466057693"
   },
   "outputs": [
    {
     "data": {
      "text/html": [
       "<div>\n",
       "<style scoped>\n",
       "    .dataframe tbody tr th:only-of-type {\n",
       "        vertical-align: middle;\n",
       "    }\n",
       "\n",
       "    .dataframe tbody tr th {\n",
       "        vertical-align: top;\n",
       "    }\n",
       "\n",
       "    .dataframe thead th {\n",
       "        text-align: right;\n",
       "    }\n",
       "</style>\n",
       "<table border=\"1\" class=\"dataframe\">\n",
       "  <thead>\n",
       "    <tr style=\"text-align: right;\">\n",
       "      <th></th>\n",
       "      <th>age</th>\n",
       "      <th>gender</th>\n",
       "      <th>region_category</th>\n",
       "      <th>membership_category</th>\n",
       "      <th>joining_date</th>\n",
       "      <th>joined_through_referral</th>\n",
       "      <th>preferred_offer_types</th>\n",
       "      <th>medium_of_operation</th>\n",
       "      <th>internet_option</th>\n",
       "      <th>days_since_last_login</th>\n",
       "      <th>avg_time_spent</th>\n",
       "      <th>avg_transaction_value</th>\n",
       "      <th>avg_frequency_login_days</th>\n",
       "      <th>points_in_wallet</th>\n",
       "      <th>used_special_discount</th>\n",
       "      <th>offer_application_preference</th>\n",
       "      <th>past_complaint</th>\n",
       "      <th>complaint_status</th>\n",
       "      <th>feedback</th>\n",
       "      <th>churn_risk_score</th>\n",
       "    </tr>\n",
       "  </thead>\n",
       "  <tbody>\n",
       "  </tbody>\n",
       "</table>\n",
       "</div>"
      ],
      "text/plain": [
       "Empty DataFrame\n",
       "Columns: [age, gender, region_category, membership_category, joining_date, joined_through_referral, preferred_offer_types, medium_of_operation, internet_option, days_since_last_login, avg_time_spent, avg_transaction_value, avg_frequency_login_days, points_in_wallet, used_special_discount, offer_application_preference, past_complaint, complaint_status, feedback, churn_risk_score]\n",
       "Index: []"
      ]
     },
     "execution_count": 31,
     "metadata": {},
     "output_type": "execute_result"
    }
   ],
   "source": [
    "# Checking for null values in the column\n",
    "df_cleaned[df_cleaned['joining_date'].isna()]"
   ]
  },
  {
   "cell_type": "markdown",
   "metadata": {
    "id": "-gvEsbZMlO-o"
   },
   "source": [
    "To facilitate the analysis of seasonal and monthly churning patterns, we will extract the month and year from this column into separate fields.\n"
   ]
  },
  {
   "cell_type": "code",
   "execution_count": 32,
   "metadata": {
    "executionInfo": {
     "elapsed": 1,
     "status": "ok",
     "timestamp": 1747933378732,
     "user": {
      "displayName": "Brenda Kurgat",
      "userId": "11817120151564024162"
     },
     "user_tz": -180
    },
    "id": "OKXoCDZVcm6B"
   },
   "outputs": [],
   "source": [
    "# Feature engineering a column for month and year\n",
    "df_cleaned['joining_year'] = df_cleaned['joining_date'].dt.year\n",
    "df_cleaned['joining_month'] = df_cleaned['joining_date'].dt.month"
   ]
  },
  {
   "cell_type": "code",
   "execution_count": 33,
   "metadata": {
    "colab": {
     "base_uri": "https://localhost:8080/",
     "height": 209
    },
    "executionInfo": {
     "elapsed": 34,
     "status": "ok",
     "timestamp": 1747933378766,
     "user": {
      "displayName": "Brenda Kurgat",
      "userId": "11817120151564024162"
     },
     "user_tz": -180
    },
    "id": "rX1HiYt-cm0Q",
    "outputId": "1e2e8f05-c0ce-401d-dc61-d077833999da"
   },
   "outputs": [
    {
     "data": {
      "text/plain": [
       "No     13455\n",
       "Yes    13266\n",
       "?       4604\n",
       "Name: joined_through_referral, dtype: int64"
      ]
     },
     "execution_count": 33,
     "metadata": {},
     "output_type": "execute_result"
    }
   ],
   "source": [
    "# Inspecting the joined through referral column\n",
    "df_cleaned['joined_through_referral'].value_counts()"
   ]
  },
  {
   "cell_type": "code",
   "execution_count": 34,
   "metadata": {
    "colab": {
     "base_uri": "https://localhost:8080/"
    },
    "executionInfo": {
     "elapsed": 124,
     "status": "ok",
     "timestamp": 1747933378892,
     "user": {
      "displayName": "Brenda Kurgat",
      "userId": "11817120151564024162"
     },
     "user_tz": -180
    },
    "id": "0kJ7skN_26-I",
    "outputId": "8fc64aab-8281-42cf-8190-bf2b2c795087"
   },
   "outputs": [
    {
     "data": {
      "text/plain": [
       "(31325, 22)"
      ]
     },
     "execution_count": 34,
     "metadata": {},
     "output_type": "execute_result"
    }
   ],
   "source": [
    "df_cleaned.shape"
   ]
  },
  {
   "cell_type": "markdown",
   "metadata": {
    "id": "_2Njt_PwnlXu"
   },
   "source": [
    "We have identified several entries where the value is missing and represented as '?'. Since this is a boolean field, it is difficult to confidently classify these as either 'Yes' or 'No'. Therefore, we will replace these unknown values with 'Not_recorded' to maintain clarity without making inaccurate assumptions or losing data in dropping them."
   ]
  },
  {
   "cell_type": "code",
   "execution_count": 35,
   "metadata": {
    "executionInfo": {
     "elapsed": 34,
     "status": "ok",
     "timestamp": 1747933378928,
     "user": {
      "displayName": "Brenda Kurgat",
      "userId": "11817120151564024162"
     },
     "user_tz": -180
    },
    "id": "uZ-eXEUBcmxk"
   },
   "outputs": [],
   "source": [
    "# Replacing '?' with 'Not_recorded'\n",
    "df_cleaned['joined_through_referral'] = df_cleaned['joined_through_referral'].replace('?','Not_recorded')"
   ]
  },
  {
   "cell_type": "code",
   "execution_count": 36,
   "metadata": {
    "colab": {
     "base_uri": "https://localhost:8080/",
     "height": 1000
    },
    "executionInfo": {
     "elapsed": 7,
     "status": "ok",
     "timestamp": 1747933378931,
     "user": {
      "displayName": "Brenda Kurgat",
      "userId": "11817120151564024162"
     },
     "user_tz": -180
    },
    "id": "14trIIwi26-I",
    "outputId": "a2d80535-5584-4c31-ba15-358d489205e5"
   },
   "outputs": [
    {
     "data": {
      "text/plain": [
       "33    614\n",
       "55    605\n",
       "61    603\n",
       "47    598\n",
       "16    597\n",
       "57    597\n",
       "38    596\n",
       "42    591\n",
       "34    586\n",
       "23    586\n",
       "30    585\n",
       "60    585\n",
       "59    584\n",
       "56    584\n",
       "46    584\n",
       "58    581\n",
       "17    581\n",
       "26    581\n",
       "48    578\n",
       "45    578\n",
       "22    578\n",
       "21    577\n",
       "53    577\n",
       "32    576\n",
       "64    576\n",
       "41    575\n",
       "49    573\n",
       "28    572\n",
       "14    572\n",
       "44    568\n",
       "62    567\n",
       "29    567\n",
       "20    564\n",
       "52    563\n",
       "13    563\n",
       "10    563\n",
       "19    562\n",
       "36    560\n",
       "12    559\n",
       "11    559\n",
       "37    555\n",
       "51    554\n",
       "43    553\n",
       "27    550\n",
       "35    548\n",
       "15    548\n",
       "39    547\n",
       "50    546\n",
       "18    544\n",
       "24    544\n",
       "63    544\n",
       "31    541\n",
       "25    533\n",
       "40    530\n",
       "54    523\n",
       "Name: age, dtype: int64"
      ]
     },
     "execution_count": 36,
     "metadata": {},
     "output_type": "execute_result"
    }
   ],
   "source": [
    "# Inspecting the age column\n",
    "df_cleaned['age'].value_counts()"
   ]
  },
  {
   "cell_type": "markdown",
   "metadata": {
    "id": "8hPrm_3Q26-I"
   },
   "source": [
    "The column age seems not have any data that is misclassified therefore we will move onto the gender column"
   ]
  },
  {
   "cell_type": "code",
   "execution_count": 37,
   "metadata": {
    "colab": {
     "base_uri": "https://localhost:8080/",
     "height": 209
    },
    "executionInfo": {
     "elapsed": 7,
     "status": "ok",
     "timestamp": 1747933378938,
     "user": {
      "displayName": "Brenda Kurgat",
      "userId": "11817120151564024162"
     },
     "user_tz": -180
    },
    "id": "1HxphZha26-I",
    "outputId": "33c6dc40-97a9-4b4e-9c92-c3fe188cd78e"
   },
   "outputs": [
    {
     "data": {
      "text/plain": [
       "F          15658\n",
       "M          15617\n",
       "Unknown       50\n",
       "Name: gender, dtype: int64"
      ]
     },
     "execution_count": 37,
     "metadata": {},
     "output_type": "execute_result"
    }
   ],
   "source": [
    "# Inspecting the gender column\n",
    "df_cleaned['gender'].value_counts()"
   ]
  },
  {
   "cell_type": "markdown",
   "metadata": {
    "id": "S-mdpDs226-I"
   },
   "source": [
    "The number of rows with gender = 'Unknown' is negligible (~0.16%) and may introduce noise or ambiguity in gender-based analysis or modeling. Dropping them helps ensure clean, interpretable categorical data without significantly affecting the dataset's size or balance."
   ]
  },
  {
   "cell_type": "code",
   "execution_count": 38,
   "metadata": {
    "executionInfo": {
     "elapsed": 3,
     "status": "ok",
     "timestamp": 1747933378944,
     "user": {
      "displayName": "Brenda Kurgat",
      "userId": "11817120151564024162"
     },
     "user_tz": -180
    },
    "id": "YNNQqrhc26-I"
   },
   "outputs": [],
   "source": [
    "# Drop rows where gender is 'Unknown' in place\n",
    "df_cleaned = df_cleaned[df_cleaned['gender'] != 'Unknown']"
   ]
  },
  {
   "cell_type": "code",
   "execution_count": 39,
   "metadata": {
    "colab": {
     "base_uri": "https://localhost:8080/",
     "height": 209
    },
    "executionInfo": {
     "elapsed": 12,
     "status": "ok",
     "timestamp": 1747933378960,
     "user": {
      "displayName": "Brenda Kurgat",
      "userId": "11817120151564024162"
     },
     "user_tz": -180
    },
    "id": "8o15o2Oz26-I",
    "outputId": "90be7d11-6569-4334-8115-b60ca9c4e0b5"
   },
   "outputs": [
    {
     "data": {
      "text/plain": [
       "Town       13996\n",
       "City       12620\n",
       "Village     4659\n",
       "Name: region_category, dtype: int64"
      ]
     },
     "execution_count": 39,
     "metadata": {},
     "output_type": "execute_result"
    }
   ],
   "source": [
    "# Inspecting the region_category column\n",
    "df_cleaned['region_category'].value_counts()"
   ]
  },
  {
   "cell_type": "markdown",
   "metadata": {
    "id": "xu6Z6KNu26-J"
   },
   "source": [
    "The region_category column does not appear to have any misclassified data based on the value counts"
   ]
  },
  {
   "cell_type": "code",
   "execution_count": 40,
   "metadata": {
    "executionInfo": {
     "elapsed": 7,
     "status": "ok",
     "timestamp": 1747933378965,
     "user": {
      "displayName": "Brenda Kurgat",
      "userId": "11817120151564024162"
     },
     "user_tz": -180
    },
    "id": "zKqmWvn526-J"
   },
   "outputs": [],
   "source": [
    "# # Inspecting the region_category column\n",
    "# df_cleaned['referral_id'].value_counts()"
   ]
  },
  {
   "cell_type": "code",
   "execution_count": 41,
   "metadata": {
    "executionInfo": {
     "elapsed": 62,
     "status": "ok",
     "timestamp": 1747933379031,
     "user": {
      "displayName": "Brenda Kurgat",
      "userId": "11817120151564024162"
     },
     "user_tz": -180
    },
    "id": "HApp39mO26-J"
   },
   "outputs": [],
   "source": [
    "# #Replacing xxxxxxxx with walkins\n",
    "# df_cleaned['referral_id'] = df_cleaned['referral_id'].replace('xxxxxxxx', 'walk_in')"
   ]
  },
  {
   "cell_type": "code",
   "execution_count": 42,
   "metadata": {
    "executionInfo": {
     "elapsed": 60,
     "status": "ok",
     "timestamp": 1747933379032,
     "user": {
      "displayName": "Brenda Kurgat",
      "userId": "11817120151564024162"
     },
     "user_tz": -180
    },
    "id": "exuuBAX926-J"
   },
   "outputs": [],
   "source": [
    "# df_cleaned['referral_id'].value_counts()"
   ]
  },
  {
   "cell_type": "code",
   "execution_count": 43,
   "metadata": {
    "colab": {
     "base_uri": "https://localhost:8080/"
    },
    "executionInfo": {
     "elapsed": 58,
     "status": "ok",
     "timestamp": 1747933379033,
     "user": {
      "displayName": "Brenda Kurgat",
      "userId": "11817120151564024162"
     },
     "user_tz": -180
    },
    "id": "K_CyuYUX26-J",
    "outputId": "ac6ebb61-198a-455f-8528-6205b9e469c9"
   },
   "outputs": [
    {
     "data": {
      "text/plain": [
       "(31275, 22)"
      ]
     },
     "execution_count": 43,
     "metadata": {},
     "output_type": "execute_result"
    }
   ],
   "source": [
    "df_cleaned.shape"
   ]
  },
  {
   "cell_type": "code",
   "execution_count": 44,
   "metadata": {
    "colab": {
     "base_uri": "https://localhost:8080/",
     "height": 209
    },
    "executionInfo": {
     "elapsed": 46,
     "status": "ok",
     "timestamp": 1747933379034,
     "user": {
      "displayName": "Brenda Kurgat",
      "userId": "11817120151564024162"
     },
     "user_tz": -180
    },
    "id": "9Uq5ajNO26-J",
    "outputId": "dbdc2a01-d0ba-4b0b-9aa5-04a23287fa79"
   },
   "outputs": [
    {
     "data": {
      "text/plain": [
       "Gift Vouchers/Coupons       10515\n",
       "Credit/Debit Card Offers    10462\n",
       "Without Offers              10298\n",
       "Name: preferred_offer_types, dtype: int64"
      ]
     },
     "execution_count": 44,
     "metadata": {},
     "output_type": "execute_result"
    }
   ],
   "source": [
    "# Inspecting the region_category column\n",
    "df_cleaned['preferred_offer_types'].value_counts()"
   ]
  },
  {
   "cell_type": "markdown",
   "metadata": {
    "id": "WenRlI8U26-J"
   },
   "source": [
    "The column preferred_offer_types doesn't seem to have any data that is misclassified therefore we will leave it as is"
   ]
  },
  {
   "cell_type": "code",
   "execution_count": 45,
   "metadata": {
    "colab": {
     "base_uri": "https://localhost:8080/",
     "height": 241
    },
    "executionInfo": {
     "elapsed": 15,
     "status": "ok",
     "timestamp": 1747933379044,
     "user": {
      "displayName": "Brenda Kurgat",
      "userId": "11817120151564024162"
     },
     "user_tz": -180
    },
    "id": "RKzAd5Ko26-J",
    "outputId": "0f5bd723-4187-47c1-90da-d71489e44f88"
   },
   "outputs": [
    {
     "data": {
      "text/plain": [
       "Smartphone    11837\n",
       "Desktop       11708\n",
       "?              4505\n",
       "Both           3225\n",
       "Name: medium_of_operation, dtype: int64"
      ]
     },
     "execution_count": 45,
     "metadata": {},
     "output_type": "execute_result"
    }
   ],
   "source": [
    "# Inspecting the medium_of_operation column\n",
    "df_cleaned['medium_of_operation'].value_counts()"
   ]
  },
  {
   "cell_type": "markdown",
   "metadata": {
    "id": "-1cXJiUc26-J"
   },
   "source": [
    "We will replace the rows with the value ? with the word unknown"
   ]
  },
  {
   "cell_type": "code",
   "execution_count": 46,
   "metadata": {
    "executionInfo": {
     "elapsed": 4,
     "status": "ok",
     "timestamp": 1747933379047,
     "user": {
      "displayName": "Brenda Kurgat",
      "userId": "11817120151564024162"
     },
     "user_tz": -180
    },
    "id": "nNAhE3Nu26-J"
   },
   "outputs": [],
   "source": [
    "# Replacing rows with ? with the unknown\n",
    "df_cleaned['medium_of_operation'] = df_cleaned['medium_of_operation'].replace('?', 'Unknown')"
   ]
  },
  {
   "cell_type": "code",
   "execution_count": 47,
   "metadata": {
    "colab": {
     "base_uri": "https://localhost:8080/"
    },
    "executionInfo": {
     "elapsed": 13,
     "status": "ok",
     "timestamp": 1747933379062,
     "user": {
      "displayName": "Brenda Kurgat",
      "userId": "11817120151564024162"
     },
     "user_tz": -180
    },
    "id": "QVW51ghr26-J",
    "outputId": "452e5e2a-23d6-4af3-9095-b6eff29828ab"
   },
   "outputs": [
    {
     "data": {
      "text/plain": [
       "(31275, 22)"
      ]
     },
     "execution_count": 47,
     "metadata": {},
     "output_type": "execute_result"
    }
   ],
   "source": [
    "df_cleaned.shape"
   ]
  },
  {
   "cell_type": "code",
   "execution_count": 48,
   "metadata": {
    "colab": {
     "base_uri": "https://localhost:8080/",
     "height": 209
    },
    "executionInfo": {
     "elapsed": 3,
     "status": "ok",
     "timestamp": 1747933379066,
     "user": {
      "displayName": "Brenda Kurgat",
      "userId": "11817120151564024162"
     },
     "user_tz": -180
    },
    "id": "fiuc7n_B26-J",
    "outputId": "9a13090f-50ef-4952-f204-c5f5527e1753"
   },
   "outputs": [
    {
     "data": {
      "text/plain": [
       "Wi-Fi          10438\n",
       "Mobile_Data    10429\n",
       "Fiber_Optic    10408\n",
       "Name: internet_option, dtype: int64"
      ]
     },
     "execution_count": 48,
     "metadata": {},
     "output_type": "execute_result"
    }
   ],
   "source": [
    "# Inspecting the internet_option column\n",
    "df_cleaned['internet_option'].value_counts()"
   ]
  },
  {
   "cell_type": "markdown",
   "metadata": {
    "id": "XbijK7f826-J"
   },
   "source": [
    "The column internet_option doesn't seem to have any data that is misclassified therefore we will leave it as is"
   ]
  },
  {
   "cell_type": "code",
   "execution_count": 49,
   "metadata": {
    "colab": {
     "base_uri": "https://localhost:8080/",
     "height": 962
    },
    "executionInfo": {
     "elapsed": 4,
     "status": "ok",
     "timestamp": 1747933379072,
     "user": {
      "displayName": "Brenda Kurgat",
      "userId": "11817120151564024162"
     },
     "user_tz": -180
    },
    "id": "nokuutpA26-J",
    "outputId": "628062aa-e4e0-41c5-d5ba-19a3d1715255"
   },
   "outputs": [
    {
     "data": {
      "text/plain": [
       " 12     2020\n",
       " 13     1992\n",
       " 14     1939\n",
       " 11     1930\n",
       " 15     1908\n",
       " 10     1763\n",
       " 16     1761\n",
       "-999    1695\n",
       " 9      1565\n",
       " 17     1484\n",
       " 8      1321\n",
       " 18     1220\n",
       " 7      1203\n",
       " 19     1134\n",
       " 6      1069\n",
       " 5      1041\n",
       " 20      987\n",
       " 4       847\n",
       " 21      845\n",
       " 22      769\n",
       " 3       739\n",
       " 23      614\n",
       " 2       519\n",
       " 24      393\n",
       " 1       277\n",
       " 25      175\n",
       " 26       65\n",
       "Name: days_since_last_login, dtype: int64"
      ]
     },
     "execution_count": 49,
     "metadata": {},
     "output_type": "execute_result"
    }
   ],
   "source": [
    "# Inspecting the days_since_last_login column\n",
    "df_cleaned['days_since_last_login'].value_counts()"
   ]
  },
  {
   "cell_type": "markdown",
   "metadata": {
    "id": "CRc4o_RW26-J"
   },
   "source": [
    "We can see that there is an outlier value in -999. We will first replace it with null values then replace the null values with median values"
   ]
  },
  {
   "cell_type": "code",
   "execution_count": 50,
   "metadata": {
    "executionInfo": {
     "elapsed": 13,
     "status": "ok",
     "timestamp": 1747933379086,
     "user": {
      "displayName": "Brenda Kurgat",
      "userId": "11817120151564024162"
     },
     "user_tz": -180
    },
    "id": "mwSUqd1G26-J"
   },
   "outputs": [],
   "source": [
    "# Replace -999 with NaN first\n",
    "df_cleaned['days_since_last_login'] = df_cleaned['days_since_last_login'].replace(-999, np.nan)\n",
    "\n",
    "# Fill NaN with the median\n",
    "median_login = df_cleaned['days_since_last_login'].median()\n",
    "df_cleaned['days_since_last_login'].fillna(median_login, inplace=True)"
   ]
  },
  {
   "cell_type": "code",
   "execution_count": 51,
   "metadata": {
    "colab": {
     "base_uri": "https://localhost:8080/",
     "height": 489
    },
    "executionInfo": {
     "elapsed": 18,
     "status": "ok",
     "timestamp": 1747933379094,
     "user": {
      "displayName": "Brenda Kurgat",
      "userId": "11817120151564024162"
     },
     "user_tz": -180
    },
    "id": "SuW4BTVB26-J",
    "outputId": "5bd31c07-f379-4c89-bf7b-2a3d4e1ab1d1"
   },
   "outputs": [
    {
     "data": {
      "text/plain": [
       "33.68     18\n",
       "34.10     18\n",
       "34.71     17\n",
       "34.33     16\n",
       "32.91     16\n",
       "          ..\n",
       "135.45     1\n",
       "71.16      1\n",
       "557.70     1\n",
       "99.42      1\n",
       "240.04     1\n",
       "Name: avg_time_spent, Length: 22733, dtype: int64"
      ]
     },
     "execution_count": 51,
     "metadata": {},
     "output_type": "execute_result"
    }
   ],
   "source": [
    "# Inspecting the avg_time_spent  column\n",
    "df_cleaned['avg_time_spent'].value_counts()"
   ]
  },
  {
   "cell_type": "code",
   "execution_count": 52,
   "metadata": {
    "colab": {
     "base_uri": "https://localhost:8080/"
    },
    "executionInfo": {
     "elapsed": 9,
     "status": "ok",
     "timestamp": 1747933379103,
     "user": {
      "displayName": "Brenda Kurgat",
      "userId": "11817120151564024162"
     },
     "user_tz": -180
    },
    "id": "1WHRPXAv26-K",
    "outputId": "d880577a-347d-4b68-9e0f-64a371b72445"
   },
   "outputs": [
    {
     "data": {
      "text/plain": [
       "(31275, 22)"
      ]
     },
     "execution_count": 52,
     "metadata": {},
     "output_type": "execute_result"
    }
   ],
   "source": [
    "df_cleaned.shape"
   ]
  },
  {
   "cell_type": "code",
   "execution_count": 53,
   "metadata": {
    "colab": {
     "base_uri": "https://localhost:8080/"
    },
    "executionInfo": {
     "elapsed": 9,
     "status": "ok",
     "timestamp": 1747933379114,
     "user": {
      "displayName": "Brenda Kurgat",
      "userId": "11817120151564024162"
     },
     "user_tz": -180
    },
    "id": "kNUFOx1A26-K",
    "outputId": "356aeaee-0642-4d83-98e9-eef80e7ad728"
   },
   "outputs": [
    {
     "name": "stdout",
     "output_type": "stream",
     "text": [
      "Unique average time spent values:\n",
      "[ 300.63       306.34       516.16      ...  418.38      -638.1234208\n",
      "  482.61     ]\n"
     ]
    }
   ],
   "source": [
    "# Inspecting the unique values for avg_time_spent column\n",
    "unique_avg_time_spent = df_cleaned['avg_time_spent'].unique()\n",
    "\n",
    "# Display the result\n",
    "print(\"Unique average time spent values:\")\n",
    "print(unique_avg_time_spent)"
   ]
  },
  {
   "cell_type": "markdown",
   "metadata": {
    "id": "7pYshonq26-K"
   },
   "source": [
    "We can see that there values recorded as negative. We will print the values to get a better perspective"
   ]
  },
  {
   "cell_type": "code",
   "execution_count": 54,
   "metadata": {
    "colab": {
     "base_uri": "https://localhost:8080/"
    },
    "executionInfo": {
     "elapsed": 10,
     "status": "ok",
     "timestamp": 1747933379126,
     "user": {
      "displayName": "Brenda Kurgat",
      "userId": "11817120151564024162"
     },
     "user_tz": -180
    },
    "id": "EzHhVokb26-K",
    "outputId": "9e597a0b-a8cd-4b61-c358-8226155967da"
   },
   "outputs": [
    {
     "name": "stdout",
     "output_type": "stream",
     "text": [
      "Unique values in 'avg_time_spent' that are less than 0:\n",
      "[-936.7448179 -930.2078443 -615.344319  ... -910.5684333 -746.0345906\n",
      " -638.1234208]\n"
     ]
    }
   ],
   "source": [
    "# Filter and show unique values less than 0\n",
    "negative_values = df_cleaned[df_cleaned['avg_time_spent'] < 0]['avg_time_spent'].unique()\n",
    "\n",
    "print(\"Unique values in 'avg_time_spent' that are less than 0:\")\n",
    "print(negative_values)"
   ]
  },
  {
   "cell_type": "markdown",
   "metadata": {
    "id": "etN5KB7b26-K"
   },
   "source": [
    "we will then check how many rows are affected"
   ]
  },
  {
   "cell_type": "code",
   "execution_count": 55,
   "metadata": {
    "colab": {
     "base_uri": "https://localhost:8080/"
    },
    "executionInfo": {
     "elapsed": 9,
     "status": "ok",
     "timestamp": 1747933379179,
     "user": {
      "displayName": "Brenda Kurgat",
      "userId": "11817120151564024162"
     },
     "user_tz": -180
    },
    "id": "3mMQR_7W26-K",
    "outputId": "9b256c08-7e09-4fef-d934-32d2cae47d4b"
   },
   "outputs": [
    {
     "name": "stdout",
     "output_type": "stream",
     "text": [
      "Number of rows with negative avg_time_spent: 1465\n"
     ]
    }
   ],
   "source": [
    "#Checking number of negative rows\n",
    "num_negatives = (df_cleaned['avg_time_spent'] < 0).sum()\n",
    "print(f\"Number of rows with negative avg_time_spent: {num_negatives}\")"
   ]
  },
  {
   "cell_type": "markdown",
   "metadata": {
    "id": "hXdWqunt26-K"
   },
   "source": [
    "we will replace the negative values with a median value retrived from positive values"
   ]
  },
  {
   "cell_type": "code",
   "execution_count": 56,
   "metadata": {
    "executionInfo": {
     "elapsed": 12,
     "status": "ok",
     "timestamp": 1747933379192,
     "user": {
      "displayName": "Brenda Kurgat",
      "userId": "11817120151564024162"
     },
     "user_tz": -180
    },
    "id": "Du8M8EN726-K"
   },
   "outputs": [],
   "source": [
    "#Replace with median of positive values\n",
    "median_time = df_cleaned[df_cleaned['avg_time_spent'] >= 0]['avg_time_spent'].median()\n",
    "df_cleaned.loc[df_cleaned['avg_time_spent'] < 0, 'avg_time_spent'] = median_time"
   ]
  },
  {
   "cell_type": "code",
   "execution_count": 57,
   "metadata": {
    "colab": {
     "base_uri": "https://localhost:8080/",
     "height": 489
    },
    "executionInfo": {
     "elapsed": 6,
     "status": "ok",
     "timestamp": 1747933379200,
     "user": {
      "displayName": "Brenda Kurgat",
      "userId": "11817120151564024162"
     },
     "user_tz": -180
    },
    "id": "f4uQAcE_26-K",
    "outputId": "439964cb-7ea6-4355-c16c-9d6266b159ef"
   },
   "outputs": [
    {
     "data": {
      "text/plain": [
       "19647.46    2\n",
       "41920.83    2\n",
       "14245.33    2\n",
       "26008.94    2\n",
       "16863.84    2\n",
       "           ..\n",
       "21063.51    1\n",
       "5430.27     1\n",
       "19061.75    1\n",
       "33934.77    1\n",
       "18993.73    1\n",
       "Name: avg_transaction_value, Length: 31207, dtype: int64"
      ]
     },
     "execution_count": 57,
     "metadata": {},
     "output_type": "execute_result"
    }
   ],
   "source": [
    "# Inspecting the average transaction value column\n",
    "\n",
    "df_cleaned['avg_transaction_value'].value_counts()"
   ]
  },
  {
   "cell_type": "code",
   "execution_count": 58,
   "metadata": {
    "colab": {
     "base_uri": "https://localhost:8080/"
    },
    "executionInfo": {
     "elapsed": 8,
     "status": "ok",
     "timestamp": 1747933379321,
     "user": {
      "displayName": "Brenda Kurgat",
      "userId": "11817120151564024162"
     },
     "user_tz": -180
    },
    "id": "SQHjMYCM26-K",
    "outputId": "ac335f3c-7a06-4e9a-f892-2fce38200fa8"
   },
   "outputs": [
    {
     "name": "stdout",
     "output_type": "stream",
     "text": [
      "[53005.25 12838.38 21027.   ... 11069.71  2378.86  2189.68]\n"
     ]
    }
   ],
   "source": [
    "# Inspecting the unique values for average transaction value column\n",
    "unique_avg_transaction_value = df_cleaned['avg_transaction_value'].unique()\n",
    "print(unique_avg_transaction_value)"
   ]
  },
  {
   "cell_type": "code",
   "execution_count": 59,
   "metadata": {
    "colab": {
     "base_uri": "https://localhost:8080/",
     "height": 738
    },
    "executionInfo": {
     "elapsed": 9,
     "status": "ok",
     "timestamp": 1747933379328,
     "user": {
      "displayName": "Brenda Kurgat",
      "userId": "11817120151564024162"
     },
     "user_tz": -180
    },
    "id": "Su0QzVbo26-K",
    "outputId": "a1898923-8bb7-4743-f44e-7316c2486155"
   },
   "outputs": [
    {
     "data": {
      "text/html": [
       "<div>\n",
       "<style scoped>\n",
       "    .dataframe tbody tr th:only-of-type {\n",
       "        vertical-align: middle;\n",
       "    }\n",
       "\n",
       "    .dataframe tbody tr th {\n",
       "        vertical-align: top;\n",
       "    }\n",
       "\n",
       "    .dataframe thead th {\n",
       "        text-align: right;\n",
       "    }\n",
       "</style>\n",
       "<table border=\"1\" class=\"dataframe\">\n",
       "  <thead>\n",
       "    <tr style=\"text-align: right;\">\n",
       "      <th></th>\n",
       "      <th>age</th>\n",
       "      <th>gender</th>\n",
       "      <th>region_category</th>\n",
       "      <th>membership_category</th>\n",
       "      <th>joining_date</th>\n",
       "      <th>joined_through_referral</th>\n",
       "      <th>preferred_offer_types</th>\n",
       "      <th>medium_of_operation</th>\n",
       "      <th>internet_option</th>\n",
       "      <th>days_since_last_login</th>\n",
       "      <th>...</th>\n",
       "      <th>avg_frequency_login_days</th>\n",
       "      <th>points_in_wallet</th>\n",
       "      <th>used_special_discount</th>\n",
       "      <th>offer_application_preference</th>\n",
       "      <th>past_complaint</th>\n",
       "      <th>complaint_status</th>\n",
       "      <th>feedback</th>\n",
       "      <th>churn_risk_score</th>\n",
       "      <th>joining_year</th>\n",
       "      <th>joining_month</th>\n",
       "    </tr>\n",
       "  </thead>\n",
       "  <tbody>\n",
       "    <tr>\n",
       "      <th>0</th>\n",
       "      <td>18</td>\n",
       "      <td>F</td>\n",
       "      <td>Village</td>\n",
       "      <td>Platinum Membership</td>\n",
       "      <td>2017-08-17</td>\n",
       "      <td>No</td>\n",
       "      <td>Gift Vouchers/Coupons</td>\n",
       "      <td>Unknown</td>\n",
       "      <td>Wi-Fi</td>\n",
       "      <td>17.0</td>\n",
       "      <td>...</td>\n",
       "      <td>17</td>\n",
       "      <td>781.75</td>\n",
       "      <td>Yes</td>\n",
       "      <td>Yes</td>\n",
       "      <td>No</td>\n",
       "      <td>Not Applicable</td>\n",
       "      <td>Products always in Stock</td>\n",
       "      <td>0</td>\n",
       "      <td>2017</td>\n",
       "      <td>8</td>\n",
       "    </tr>\n",
       "    <tr>\n",
       "      <th>1</th>\n",
       "      <td>32</td>\n",
       "      <td>F</td>\n",
       "      <td>City</td>\n",
       "      <td>Premium Membership</td>\n",
       "      <td>2017-08-28</td>\n",
       "      <td>Not_recorded</td>\n",
       "      <td>Gift Vouchers/Coupons</td>\n",
       "      <td>Desktop</td>\n",
       "      <td>Mobile_Data</td>\n",
       "      <td>16.0</td>\n",
       "      <td>...</td>\n",
       "      <td>10</td>\n",
       "      <td>698.48</td>\n",
       "      <td>Yes</td>\n",
       "      <td>No</td>\n",
       "      <td>Yes</td>\n",
       "      <td>Solved</td>\n",
       "      <td>Quality Customer Care</td>\n",
       "      <td>0</td>\n",
       "      <td>2017</td>\n",
       "      <td>8</td>\n",
       "    </tr>\n",
       "    <tr>\n",
       "      <th>2</th>\n",
       "      <td>44</td>\n",
       "      <td>F</td>\n",
       "      <td>Town</td>\n",
       "      <td>No Membership</td>\n",
       "      <td>2016-11-11</td>\n",
       "      <td>Yes</td>\n",
       "      <td>Gift Vouchers/Coupons</td>\n",
       "      <td>Desktop</td>\n",
       "      <td>Wi-Fi</td>\n",
       "      <td>14.0</td>\n",
       "      <td>...</td>\n",
       "      <td>22</td>\n",
       "      <td>500.69</td>\n",
       "      <td>No</td>\n",
       "      <td>Yes</td>\n",
       "      <td>Yes</td>\n",
       "      <td>Solved in Follow-up</td>\n",
       "      <td>Poor Website</td>\n",
       "      <td>1</td>\n",
       "      <td>2016</td>\n",
       "      <td>11</td>\n",
       "    </tr>\n",
       "    <tr>\n",
       "      <th>3</th>\n",
       "      <td>37</td>\n",
       "      <td>M</td>\n",
       "      <td>City</td>\n",
       "      <td>No Membership</td>\n",
       "      <td>2016-10-29</td>\n",
       "      <td>Yes</td>\n",
       "      <td>Gift Vouchers/Coupons</td>\n",
       "      <td>Desktop</td>\n",
       "      <td>Mobile_Data</td>\n",
       "      <td>11.0</td>\n",
       "      <td>...</td>\n",
       "      <td>6</td>\n",
       "      <td>567.66</td>\n",
       "      <td>No</td>\n",
       "      <td>Yes</td>\n",
       "      <td>Yes</td>\n",
       "      <td>Unsolved</td>\n",
       "      <td>Poor Website</td>\n",
       "      <td>1</td>\n",
       "      <td>2016</td>\n",
       "      <td>10</td>\n",
       "    </tr>\n",
       "    <tr>\n",
       "      <th>4</th>\n",
       "      <td>31</td>\n",
       "      <td>F</td>\n",
       "      <td>City</td>\n",
       "      <td>No Membership</td>\n",
       "      <td>2017-12-09</td>\n",
       "      <td>No</td>\n",
       "      <td>Credit/Debit Card Offers</td>\n",
       "      <td>Smartphone</td>\n",
       "      <td>Mobile_Data</td>\n",
       "      <td>20.0</td>\n",
       "      <td>...</td>\n",
       "      <td>16</td>\n",
       "      <td>663.06</td>\n",
       "      <td>No</td>\n",
       "      <td>Yes</td>\n",
       "      <td>Yes</td>\n",
       "      <td>Solved</td>\n",
       "      <td>Poor Website</td>\n",
       "      <td>1</td>\n",
       "      <td>2017</td>\n",
       "      <td>12</td>\n",
       "    </tr>\n",
       "    <tr>\n",
       "      <th>...</th>\n",
       "      <td>...</td>\n",
       "      <td>...</td>\n",
       "      <td>...</td>\n",
       "      <td>...</td>\n",
       "      <td>...</td>\n",
       "      <td>...</td>\n",
       "      <td>...</td>\n",
       "      <td>...</td>\n",
       "      <td>...</td>\n",
       "      <td>...</td>\n",
       "      <td>...</td>\n",
       "      <td>...</td>\n",
       "      <td>...</td>\n",
       "      <td>...</td>\n",
       "      <td>...</td>\n",
       "      <td>...</td>\n",
       "      <td>...</td>\n",
       "      <td>...</td>\n",
       "      <td>...</td>\n",
       "      <td>...</td>\n",
       "      <td>...</td>\n",
       "    </tr>\n",
       "    <tr>\n",
       "      <th>36985</th>\n",
       "      <td>12</td>\n",
       "      <td>F</td>\n",
       "      <td>Village</td>\n",
       "      <td>Premium Membership</td>\n",
       "      <td>2016-10-25</td>\n",
       "      <td>No</td>\n",
       "      <td>Gift Vouchers/Coupons</td>\n",
       "      <td>Desktop</td>\n",
       "      <td>Fiber_Optic</td>\n",
       "      <td>13.0</td>\n",
       "      <td>...</td>\n",
       "      <td>7</td>\n",
       "      <td>725.89</td>\n",
       "      <td>Yes</td>\n",
       "      <td>Yes</td>\n",
       "      <td>Yes</td>\n",
       "      <td>Unsolved</td>\n",
       "      <td>Products always in Stock</td>\n",
       "      <td>0</td>\n",
       "      <td>2016</td>\n",
       "      <td>10</td>\n",
       "    </tr>\n",
       "    <tr>\n",
       "      <th>36986</th>\n",
       "      <td>27</td>\n",
       "      <td>M</td>\n",
       "      <td>Town</td>\n",
       "      <td>Platinum Membership</td>\n",
       "      <td>2015-07-09</td>\n",
       "      <td>Yes</td>\n",
       "      <td>Credit/Debit Card Offers</td>\n",
       "      <td>Desktop</td>\n",
       "      <td>Mobile_Data</td>\n",
       "      <td>13.0</td>\n",
       "      <td>...</td>\n",
       "      <td>16</td>\n",
       "      <td>748.57</td>\n",
       "      <td>Yes</td>\n",
       "      <td>No</td>\n",
       "      <td>No</td>\n",
       "      <td>Not Applicable</td>\n",
       "      <td>No reason specified</td>\n",
       "      <td>0</td>\n",
       "      <td>2015</td>\n",
       "      <td>7</td>\n",
       "    </tr>\n",
       "    <tr>\n",
       "      <th>36988</th>\n",
       "      <td>29</td>\n",
       "      <td>F</td>\n",
       "      <td>Town</td>\n",
       "      <td>Basic Membership</td>\n",
       "      <td>2016-06-27</td>\n",
       "      <td>No</td>\n",
       "      <td>Without Offers</td>\n",
       "      <td>Smartphone</td>\n",
       "      <td>Wi-Fi</td>\n",
       "      <td>13.0</td>\n",
       "      <td>...</td>\n",
       "      <td>28</td>\n",
       "      <td>527.99</td>\n",
       "      <td>Yes</td>\n",
       "      <td>No</td>\n",
       "      <td>No</td>\n",
       "      <td>Not Applicable</td>\n",
       "      <td>Poor Customer Service</td>\n",
       "      <td>1</td>\n",
       "      <td>2016</td>\n",
       "      <td>6</td>\n",
       "    </tr>\n",
       "    <tr>\n",
       "      <th>36990</th>\n",
       "      <td>53</td>\n",
       "      <td>M</td>\n",
       "      <td>Village</td>\n",
       "      <td>Platinum Membership</td>\n",
       "      <td>2017-06-15</td>\n",
       "      <td>No</td>\n",
       "      <td>Gift Vouchers/Coupons</td>\n",
       "      <td>Smartphone</td>\n",
       "      <td>Mobile_Data</td>\n",
       "      <td>15.0</td>\n",
       "      <td>...</td>\n",
       "      <td>20</td>\n",
       "      <td>197.26441359999998</td>\n",
       "      <td>Yes</td>\n",
       "      <td>Yes</td>\n",
       "      <td>No</td>\n",
       "      <td>Not Applicable</td>\n",
       "      <td>No reason specified</td>\n",
       "      <td>0</td>\n",
       "      <td>2017</td>\n",
       "      <td>6</td>\n",
       "    </tr>\n",
       "    <tr>\n",
       "      <th>36991</th>\n",
       "      <td>35</td>\n",
       "      <td>M</td>\n",
       "      <td>Town</td>\n",
       "      <td>Silver Membership</td>\n",
       "      <td>2015-10-23</td>\n",
       "      <td>No</td>\n",
       "      <td>Gift Vouchers/Coupons</td>\n",
       "      <td>Desktop</td>\n",
       "      <td>Mobile_Data</td>\n",
       "      <td>15.0</td>\n",
       "      <td>...</td>\n",
       "      <td>Error</td>\n",
       "      <td>719.97</td>\n",
       "      <td>Yes</td>\n",
       "      <td>No</td>\n",
       "      <td>No</td>\n",
       "      <td>Not Applicable</td>\n",
       "      <td>Quality Customer Care</td>\n",
       "      <td>0</td>\n",
       "      <td>2015</td>\n",
       "      <td>10</td>\n",
       "    </tr>\n",
       "  </tbody>\n",
       "</table>\n",
       "<p>31275 rows × 22 columns</p>\n",
       "</div>"
      ],
      "text/plain": [
       "       age gender region_category  membership_category joining_date  \\\n",
       "0       18      F         Village  Platinum Membership   2017-08-17   \n",
       "1       32      F            City   Premium Membership   2017-08-28   \n",
       "2       44      F            Town        No Membership   2016-11-11   \n",
       "3       37      M            City        No Membership   2016-10-29   \n",
       "4       31      F            City        No Membership   2017-12-09   \n",
       "...    ...    ...             ...                  ...          ...   \n",
       "36985   12      F         Village   Premium Membership   2016-10-25   \n",
       "36986   27      M            Town  Platinum Membership   2015-07-09   \n",
       "36988   29      F            Town     Basic Membership   2016-06-27   \n",
       "36990   53      M         Village  Platinum Membership   2017-06-15   \n",
       "36991   35      M            Town    Silver Membership   2015-10-23   \n",
       "\n",
       "      joined_through_referral     preferred_offer_types medium_of_operation  \\\n",
       "0                          No     Gift Vouchers/Coupons             Unknown   \n",
       "1                Not_recorded     Gift Vouchers/Coupons             Desktop   \n",
       "2                         Yes     Gift Vouchers/Coupons             Desktop   \n",
       "3                         Yes     Gift Vouchers/Coupons             Desktop   \n",
       "4                          No  Credit/Debit Card Offers          Smartphone   \n",
       "...                       ...                       ...                 ...   \n",
       "36985                      No     Gift Vouchers/Coupons             Desktop   \n",
       "36986                     Yes  Credit/Debit Card Offers             Desktop   \n",
       "36988                      No            Without Offers          Smartphone   \n",
       "36990                      No     Gift Vouchers/Coupons          Smartphone   \n",
       "36991                      No     Gift Vouchers/Coupons             Desktop   \n",
       "\n",
       "      internet_option  days_since_last_login  ...  avg_frequency_login_days  \\\n",
       "0               Wi-Fi                   17.0  ...                        17   \n",
       "1         Mobile_Data                   16.0  ...                        10   \n",
       "2               Wi-Fi                   14.0  ...                        22   \n",
       "3         Mobile_Data                   11.0  ...                         6   \n",
       "4         Mobile_Data                   20.0  ...                        16   \n",
       "...               ...                    ...  ...                       ...   \n",
       "36985     Fiber_Optic                   13.0  ...                         7   \n",
       "36986     Mobile_Data                   13.0  ...                        16   \n",
       "36988           Wi-Fi                   13.0  ...                        28   \n",
       "36990     Mobile_Data                   15.0  ...                        20   \n",
       "36991     Mobile_Data                   15.0  ...                     Error   \n",
       "\n",
       "         points_in_wallet used_special_discount offer_application_preference  \\\n",
       "0                  781.75                   Yes                          Yes   \n",
       "1                  698.48                   Yes                           No   \n",
       "2                  500.69                    No                          Yes   \n",
       "3                  567.66                    No                          Yes   \n",
       "4                  663.06                    No                          Yes   \n",
       "...                   ...                   ...                          ...   \n",
       "36985              725.89                   Yes                          Yes   \n",
       "36986              748.57                   Yes                           No   \n",
       "36988              527.99                   Yes                           No   \n",
       "36990  197.26441359999998                   Yes                          Yes   \n",
       "36991              719.97                   Yes                           No   \n",
       "\n",
       "      past_complaint     complaint_status                  feedback  \\\n",
       "0                 No       Not Applicable  Products always in Stock   \n",
       "1                Yes               Solved     Quality Customer Care   \n",
       "2                Yes  Solved in Follow-up              Poor Website   \n",
       "3                Yes             Unsolved              Poor Website   \n",
       "4                Yes               Solved              Poor Website   \n",
       "...              ...                  ...                       ...   \n",
       "36985            Yes             Unsolved  Products always in Stock   \n",
       "36986             No       Not Applicable       No reason specified   \n",
       "36988             No       Not Applicable     Poor Customer Service   \n",
       "36990             No       Not Applicable       No reason specified   \n",
       "36991             No       Not Applicable     Quality Customer Care   \n",
       "\n",
       "      churn_risk_score joining_year  joining_month  \n",
       "0                    0         2017              8  \n",
       "1                    0         2017              8  \n",
       "2                    1         2016             11  \n",
       "3                    1         2016             10  \n",
       "4                    1         2017             12  \n",
       "...                ...          ...            ...  \n",
       "36985                0         2016             10  \n",
       "36986                0         2015              7  \n",
       "36988                1         2016              6  \n",
       "36990                0         2017              6  \n",
       "36991                0         2015             10  \n",
       "\n",
       "[31275 rows x 22 columns]"
      ]
     },
     "execution_count": 59,
     "metadata": {},
     "output_type": "execute_result"
    }
   ],
   "source": [
    "df_cleaned['points_in_wallet'] = df_cleaned['points_in_wallet'].astype(str).str.strip()\n",
    "df_cleaned\n"
   ]
  },
  {
   "cell_type": "code",
   "execution_count": 60,
   "metadata": {
    "executionInfo": {
     "elapsed": 28,
     "status": "ok",
     "timestamp": 1747933379357,
     "user": {
      "displayName": "Brenda Kurgat",
      "userId": "11817120151564024162"
     },
     "user_tz": -180
    },
    "id": "LYflGl5U26-K"
   },
   "outputs": [],
   "source": [
    "# Convert points_in_wallet to numeric\n",
    "df_cleaned['points_in_wallet'] = pd.to_numeric(df_cleaned['points_in_wallet'], errors='coerce')\n"
   ]
  },
  {
   "cell_type": "code",
   "execution_count": 61,
   "metadata": {
    "executionInfo": {
     "elapsed": 1,
     "status": "ok",
     "timestamp": 1747933379360,
     "user": {
      "displayName": "Brenda Kurgat",
      "userId": "11817120151564024162"
     },
     "user_tz": -180
    },
    "id": "88DzAMZP26-K"
   },
   "outputs": [],
   "source": [
    "# null vaules filled with median\n",
    "df_cleaned['points_in_wallet'].fillna(df_cleaned['points_in_wallet'].median(), inplace=True)\n",
    "df_cleaned['used_special_discount'] = df_cleaned['used_special_discount'].astype(str).str.strip().str.lower()"
   ]
  },
  {
   "cell_type": "code",
   "execution_count": 62,
   "metadata": {
    "executionInfo": {
     "elapsed": 26,
     "status": "ok",
     "timestamp": 1747933379388,
     "user": {
      "displayName": "Brenda Kurgat",
      "userId": "11817120151564024162"
     },
     "user_tz": -180
    },
    "id": "K_-LNCTu26-K"
   },
   "outputs": [],
   "source": [
    "discount_mapping = {\n",
    "    'yes': 'Yes',\n",
    "    'no': 'No',\n",
    "    'y': 'Yes',\n",
    "    'n': 'No'\n",
    "}\n",
    "df_cleaned['used_special_discount'] = df_cleaned['used_special_discount'].map(discount_mapping).fillna('No')"
   ]
  },
  {
   "cell_type": "code",
   "execution_count": 63,
   "metadata": {
    "executionInfo": {
     "elapsed": 4,
     "status": "ok",
     "timestamp": 1747933379394,
     "user": {
      "displayName": "Brenda Kurgat",
      "userId": "11817120151564024162"
     },
     "user_tz": -180
    },
    "id": "t3q0mDiJ26-K"
   },
   "outputs": [],
   "source": [
    "df_cleaned['offer_application_preference'] = df_cleaned['offer_application_preference'].astype(str).str.strip().str.lower()\n",
    "offer_mapping = {\n",
    "    'yes': 'Yes',\n",
    "    'no': 'No',\n",
    "    'y': 'Yes',\n",
    "    'n': 'No'\n",
    "}\n",
    "df_cleaned['offer_application_preference'] = df_cleaned['offer_application_preference'].map(offer_mapping).fillna('No')\n",
    "df_cleaned['past_complaint'] = df_cleaned['past_complaint'].astype(str).str.strip().str.lower()\n",
    "complaint_mapping = {\n",
    "    'yes': 'Yes',\n",
    "    'no': 'No',\n",
    "    'y': 'Yes',\n",
    "    'n': 'No'\n",
    "}\n",
    "df_cleaned['past_complaint'] = df_cleaned['past_complaint'].map(complaint_mapping).fillna('No')"
   ]
  },
  {
   "cell_type": "markdown",
   "metadata": {
    "id": "X4y6QHez26-L"
   },
   "source": [
    "Before we apply scaling or modeling, we need to make sure all our numeric fields are clean.\n"
   ]
  },
  {
   "cell_type": "code",
   "execution_count": 64,
   "metadata": {
    "colab": {
     "base_uri": "https://localhost:8080/",
     "height": 738
    },
    "executionInfo": {
     "elapsed": 64,
     "status": "ok",
     "timestamp": 1747933379459,
     "user": {
      "displayName": "Brenda Kurgat",
      "userId": "11817120151564024162"
     },
     "user_tz": -180
    },
    "id": "GWLtlcoJ26-L",
    "outputId": "5e86233b-112e-4e14-eecb-9a69bd29be5b"
   },
   "outputs": [
    {
     "data": {
      "text/html": [
       "<div>\n",
       "<style scoped>\n",
       "    .dataframe tbody tr th:only-of-type {\n",
       "        vertical-align: middle;\n",
       "    }\n",
       "\n",
       "    .dataframe tbody tr th {\n",
       "        vertical-align: top;\n",
       "    }\n",
       "\n",
       "    .dataframe thead th {\n",
       "        text-align: right;\n",
       "    }\n",
       "</style>\n",
       "<table border=\"1\" class=\"dataframe\">\n",
       "  <thead>\n",
       "    <tr style=\"text-align: right;\">\n",
       "      <th></th>\n",
       "      <th>age</th>\n",
       "      <th>gender</th>\n",
       "      <th>region_category</th>\n",
       "      <th>membership_category</th>\n",
       "      <th>joining_date</th>\n",
       "      <th>joined_through_referral</th>\n",
       "      <th>preferred_offer_types</th>\n",
       "      <th>medium_of_operation</th>\n",
       "      <th>internet_option</th>\n",
       "      <th>days_since_last_login</th>\n",
       "      <th>...</th>\n",
       "      <th>avg_frequency_login_days</th>\n",
       "      <th>points_in_wallet</th>\n",
       "      <th>used_special_discount</th>\n",
       "      <th>offer_application_preference</th>\n",
       "      <th>past_complaint</th>\n",
       "      <th>complaint_status</th>\n",
       "      <th>feedback</th>\n",
       "      <th>churn_risk_score</th>\n",
       "      <th>joining_year</th>\n",
       "      <th>joining_month</th>\n",
       "    </tr>\n",
       "  </thead>\n",
       "  <tbody>\n",
       "    <tr>\n",
       "      <th>0</th>\n",
       "      <td>18</td>\n",
       "      <td>F</td>\n",
       "      <td>Village</td>\n",
       "      <td>Platinum Membership</td>\n",
       "      <td>2017-08-17</td>\n",
       "      <td>No</td>\n",
       "      <td>Gift Vouchers/Coupons</td>\n",
       "      <td>Unknown</td>\n",
       "      <td>Wi-Fi</td>\n",
       "      <td>17.0</td>\n",
       "      <td>...</td>\n",
       "      <td>17.0</td>\n",
       "      <td>781.750000</td>\n",
       "      <td>Yes</td>\n",
       "      <td>Yes</td>\n",
       "      <td>No</td>\n",
       "      <td>Not Applicable</td>\n",
       "      <td>Products always in Stock</td>\n",
       "      <td>0</td>\n",
       "      <td>2017</td>\n",
       "      <td>8</td>\n",
       "    </tr>\n",
       "    <tr>\n",
       "      <th>1</th>\n",
       "      <td>32</td>\n",
       "      <td>F</td>\n",
       "      <td>City</td>\n",
       "      <td>Premium Membership</td>\n",
       "      <td>2017-08-28</td>\n",
       "      <td>Not_recorded</td>\n",
       "      <td>Gift Vouchers/Coupons</td>\n",
       "      <td>Desktop</td>\n",
       "      <td>Mobile_Data</td>\n",
       "      <td>16.0</td>\n",
       "      <td>...</td>\n",
       "      <td>10.0</td>\n",
       "      <td>698.480000</td>\n",
       "      <td>Yes</td>\n",
       "      <td>No</td>\n",
       "      <td>Yes</td>\n",
       "      <td>Solved</td>\n",
       "      <td>Quality Customer Care</td>\n",
       "      <td>0</td>\n",
       "      <td>2017</td>\n",
       "      <td>8</td>\n",
       "    </tr>\n",
       "    <tr>\n",
       "      <th>2</th>\n",
       "      <td>44</td>\n",
       "      <td>F</td>\n",
       "      <td>Town</td>\n",
       "      <td>No Membership</td>\n",
       "      <td>2016-11-11</td>\n",
       "      <td>Yes</td>\n",
       "      <td>Gift Vouchers/Coupons</td>\n",
       "      <td>Desktop</td>\n",
       "      <td>Wi-Fi</td>\n",
       "      <td>14.0</td>\n",
       "      <td>...</td>\n",
       "      <td>22.0</td>\n",
       "      <td>500.690000</td>\n",
       "      <td>No</td>\n",
       "      <td>Yes</td>\n",
       "      <td>Yes</td>\n",
       "      <td>Solved in Follow-up</td>\n",
       "      <td>Poor Website</td>\n",
       "      <td>1</td>\n",
       "      <td>2016</td>\n",
       "      <td>11</td>\n",
       "    </tr>\n",
       "    <tr>\n",
       "      <th>3</th>\n",
       "      <td>37</td>\n",
       "      <td>M</td>\n",
       "      <td>City</td>\n",
       "      <td>No Membership</td>\n",
       "      <td>2016-10-29</td>\n",
       "      <td>Yes</td>\n",
       "      <td>Gift Vouchers/Coupons</td>\n",
       "      <td>Desktop</td>\n",
       "      <td>Mobile_Data</td>\n",
       "      <td>11.0</td>\n",
       "      <td>...</td>\n",
       "      <td>6.0</td>\n",
       "      <td>567.660000</td>\n",
       "      <td>No</td>\n",
       "      <td>Yes</td>\n",
       "      <td>Yes</td>\n",
       "      <td>Unsolved</td>\n",
       "      <td>Poor Website</td>\n",
       "      <td>1</td>\n",
       "      <td>2016</td>\n",
       "      <td>10</td>\n",
       "    </tr>\n",
       "    <tr>\n",
       "      <th>4</th>\n",
       "      <td>31</td>\n",
       "      <td>F</td>\n",
       "      <td>City</td>\n",
       "      <td>No Membership</td>\n",
       "      <td>2017-12-09</td>\n",
       "      <td>No</td>\n",
       "      <td>Credit/Debit Card Offers</td>\n",
       "      <td>Smartphone</td>\n",
       "      <td>Mobile_Data</td>\n",
       "      <td>20.0</td>\n",
       "      <td>...</td>\n",
       "      <td>16.0</td>\n",
       "      <td>663.060000</td>\n",
       "      <td>No</td>\n",
       "      <td>Yes</td>\n",
       "      <td>Yes</td>\n",
       "      <td>Solved</td>\n",
       "      <td>Poor Website</td>\n",
       "      <td>1</td>\n",
       "      <td>2017</td>\n",
       "      <td>12</td>\n",
       "    </tr>\n",
       "    <tr>\n",
       "      <th>...</th>\n",
       "      <td>...</td>\n",
       "      <td>...</td>\n",
       "      <td>...</td>\n",
       "      <td>...</td>\n",
       "      <td>...</td>\n",
       "      <td>...</td>\n",
       "      <td>...</td>\n",
       "      <td>...</td>\n",
       "      <td>...</td>\n",
       "      <td>...</td>\n",
       "      <td>...</td>\n",
       "      <td>...</td>\n",
       "      <td>...</td>\n",
       "      <td>...</td>\n",
       "      <td>...</td>\n",
       "      <td>...</td>\n",
       "      <td>...</td>\n",
       "      <td>...</td>\n",
       "      <td>...</td>\n",
       "      <td>...</td>\n",
       "      <td>...</td>\n",
       "    </tr>\n",
       "    <tr>\n",
       "      <th>36985</th>\n",
       "      <td>12</td>\n",
       "      <td>F</td>\n",
       "      <td>Village</td>\n",
       "      <td>Premium Membership</td>\n",
       "      <td>2016-10-25</td>\n",
       "      <td>No</td>\n",
       "      <td>Gift Vouchers/Coupons</td>\n",
       "      <td>Desktop</td>\n",
       "      <td>Fiber_Optic</td>\n",
       "      <td>13.0</td>\n",
       "      <td>...</td>\n",
       "      <td>7.0</td>\n",
       "      <td>725.890000</td>\n",
       "      <td>Yes</td>\n",
       "      <td>Yes</td>\n",
       "      <td>Yes</td>\n",
       "      <td>Unsolved</td>\n",
       "      <td>Products always in Stock</td>\n",
       "      <td>0</td>\n",
       "      <td>2016</td>\n",
       "      <td>10</td>\n",
       "    </tr>\n",
       "    <tr>\n",
       "      <th>36986</th>\n",
       "      <td>27</td>\n",
       "      <td>M</td>\n",
       "      <td>Town</td>\n",
       "      <td>Platinum Membership</td>\n",
       "      <td>2015-07-09</td>\n",
       "      <td>Yes</td>\n",
       "      <td>Credit/Debit Card Offers</td>\n",
       "      <td>Desktop</td>\n",
       "      <td>Mobile_Data</td>\n",
       "      <td>13.0</td>\n",
       "      <td>...</td>\n",
       "      <td>16.0</td>\n",
       "      <td>748.570000</td>\n",
       "      <td>Yes</td>\n",
       "      <td>No</td>\n",
       "      <td>No</td>\n",
       "      <td>Not Applicable</td>\n",
       "      <td>No reason specified</td>\n",
       "      <td>0</td>\n",
       "      <td>2015</td>\n",
       "      <td>7</td>\n",
       "    </tr>\n",
       "    <tr>\n",
       "      <th>36988</th>\n",
       "      <td>29</td>\n",
       "      <td>F</td>\n",
       "      <td>Town</td>\n",
       "      <td>Basic Membership</td>\n",
       "      <td>2016-06-27</td>\n",
       "      <td>No</td>\n",
       "      <td>Without Offers</td>\n",
       "      <td>Smartphone</td>\n",
       "      <td>Wi-Fi</td>\n",
       "      <td>13.0</td>\n",
       "      <td>...</td>\n",
       "      <td>28.0</td>\n",
       "      <td>527.990000</td>\n",
       "      <td>Yes</td>\n",
       "      <td>No</td>\n",
       "      <td>No</td>\n",
       "      <td>Not Applicable</td>\n",
       "      <td>Poor Customer Service</td>\n",
       "      <td>1</td>\n",
       "      <td>2016</td>\n",
       "      <td>6</td>\n",
       "    </tr>\n",
       "    <tr>\n",
       "      <th>36990</th>\n",
       "      <td>53</td>\n",
       "      <td>M</td>\n",
       "      <td>Village</td>\n",
       "      <td>Platinum Membership</td>\n",
       "      <td>2017-06-15</td>\n",
       "      <td>No</td>\n",
       "      <td>Gift Vouchers/Coupons</td>\n",
       "      <td>Smartphone</td>\n",
       "      <td>Mobile_Data</td>\n",
       "      <td>15.0</td>\n",
       "      <td>...</td>\n",
       "      <td>20.0</td>\n",
       "      <td>197.264414</td>\n",
       "      <td>Yes</td>\n",
       "      <td>Yes</td>\n",
       "      <td>No</td>\n",
       "      <td>Not Applicable</td>\n",
       "      <td>No reason specified</td>\n",
       "      <td>0</td>\n",
       "      <td>2017</td>\n",
       "      <td>6</td>\n",
       "    </tr>\n",
       "    <tr>\n",
       "      <th>36991</th>\n",
       "      <td>35</td>\n",
       "      <td>M</td>\n",
       "      <td>Town</td>\n",
       "      <td>Silver Membership</td>\n",
       "      <td>2015-10-23</td>\n",
       "      <td>No</td>\n",
       "      <td>Gift Vouchers/Coupons</td>\n",
       "      <td>Desktop</td>\n",
       "      <td>Mobile_Data</td>\n",
       "      <td>15.0</td>\n",
       "      <td>...</td>\n",
       "      <td>16.0</td>\n",
       "      <td>719.970000</td>\n",
       "      <td>Yes</td>\n",
       "      <td>No</td>\n",
       "      <td>No</td>\n",
       "      <td>Not Applicable</td>\n",
       "      <td>Quality Customer Care</td>\n",
       "      <td>0</td>\n",
       "      <td>2015</td>\n",
       "      <td>10</td>\n",
       "    </tr>\n",
       "  </tbody>\n",
       "</table>\n",
       "<p>31275 rows × 22 columns</p>\n",
       "</div>"
      ],
      "text/plain": [
       "       age gender region_category  membership_category joining_date  \\\n",
       "0       18      F         Village  Platinum Membership   2017-08-17   \n",
       "1       32      F            City   Premium Membership   2017-08-28   \n",
       "2       44      F            Town        No Membership   2016-11-11   \n",
       "3       37      M            City        No Membership   2016-10-29   \n",
       "4       31      F            City        No Membership   2017-12-09   \n",
       "...    ...    ...             ...                  ...          ...   \n",
       "36985   12      F         Village   Premium Membership   2016-10-25   \n",
       "36986   27      M            Town  Platinum Membership   2015-07-09   \n",
       "36988   29      F            Town     Basic Membership   2016-06-27   \n",
       "36990   53      M         Village  Platinum Membership   2017-06-15   \n",
       "36991   35      M            Town    Silver Membership   2015-10-23   \n",
       "\n",
       "      joined_through_referral     preferred_offer_types medium_of_operation  \\\n",
       "0                          No     Gift Vouchers/Coupons             Unknown   \n",
       "1                Not_recorded     Gift Vouchers/Coupons             Desktop   \n",
       "2                         Yes     Gift Vouchers/Coupons             Desktop   \n",
       "3                         Yes     Gift Vouchers/Coupons             Desktop   \n",
       "4                          No  Credit/Debit Card Offers          Smartphone   \n",
       "...                       ...                       ...                 ...   \n",
       "36985                      No     Gift Vouchers/Coupons             Desktop   \n",
       "36986                     Yes  Credit/Debit Card Offers             Desktop   \n",
       "36988                      No            Without Offers          Smartphone   \n",
       "36990                      No     Gift Vouchers/Coupons          Smartphone   \n",
       "36991                      No     Gift Vouchers/Coupons             Desktop   \n",
       "\n",
       "      internet_option  days_since_last_login  ...  avg_frequency_login_days  \\\n",
       "0               Wi-Fi                   17.0  ...                      17.0   \n",
       "1         Mobile_Data                   16.0  ...                      10.0   \n",
       "2               Wi-Fi                   14.0  ...                      22.0   \n",
       "3         Mobile_Data                   11.0  ...                       6.0   \n",
       "4         Mobile_Data                   20.0  ...                      16.0   \n",
       "...               ...                    ...  ...                       ...   \n",
       "36985     Fiber_Optic                   13.0  ...                       7.0   \n",
       "36986     Mobile_Data                   13.0  ...                      16.0   \n",
       "36988           Wi-Fi                   13.0  ...                      28.0   \n",
       "36990     Mobile_Data                   15.0  ...                      20.0   \n",
       "36991     Mobile_Data                   15.0  ...                      16.0   \n",
       "\n",
       "       points_in_wallet  used_special_discount  offer_application_preference  \\\n",
       "0            781.750000                    Yes                           Yes   \n",
       "1            698.480000                    Yes                            No   \n",
       "2            500.690000                     No                           Yes   \n",
       "3            567.660000                     No                           Yes   \n",
       "4            663.060000                     No                           Yes   \n",
       "...                 ...                    ...                           ...   \n",
       "36985        725.890000                    Yes                           Yes   \n",
       "36986        748.570000                    Yes                            No   \n",
       "36988        527.990000                    Yes                            No   \n",
       "36990        197.264414                    Yes                           Yes   \n",
       "36991        719.970000                    Yes                            No   \n",
       "\n",
       "      past_complaint     complaint_status                  feedback  \\\n",
       "0                 No       Not Applicable  Products always in Stock   \n",
       "1                Yes               Solved     Quality Customer Care   \n",
       "2                Yes  Solved in Follow-up              Poor Website   \n",
       "3                Yes             Unsolved              Poor Website   \n",
       "4                Yes               Solved              Poor Website   \n",
       "...              ...                  ...                       ...   \n",
       "36985            Yes             Unsolved  Products always in Stock   \n",
       "36986             No       Not Applicable       No reason specified   \n",
       "36988             No       Not Applicable     Poor Customer Service   \n",
       "36990             No       Not Applicable       No reason specified   \n",
       "36991             No       Not Applicable     Quality Customer Care   \n",
       "\n",
       "      churn_risk_score joining_year  joining_month  \n",
       "0                    0         2017              8  \n",
       "1                    0         2017              8  \n",
       "2                    1         2016             11  \n",
       "3                    1         2016             10  \n",
       "4                    1         2017             12  \n",
       "...                ...          ...            ...  \n",
       "36985                0         2016             10  \n",
       "36986                0         2015              7  \n",
       "36988                1         2016              6  \n",
       "36990                0         2017              6  \n",
       "36991                0         2015             10  \n",
       "\n",
       "[31275 rows x 22 columns]"
      ]
     },
     "execution_count": 64,
     "metadata": {},
     "output_type": "execute_result"
    }
   ],
   "source": [
    "# Convert string-like errors to numeric and handle missing values\n",
    "cols_to_clean = ['avg_frequency_login_days', 'avg_transaction_value', 'points_in_wallet',\n",
    "                 'days_since_last_login', 'avg_time_spent']\n",
    "\n",
    "for col in cols_to_clean:\n",
    "    df_cleaned[col] = pd.to_numeric( df_cleaned[col], errors='coerce')\n",
    "    df_cleaned[col].fillna( df_cleaned[col].median(), inplace=True)\n",
    "df_cleaned"
   ]
  },
  {
   "cell_type": "markdown",
   "metadata": {
    "id": "39M3FQbv26-L"
   },
   "source": [
    "All numeric columns are clean and free of errors or missing values.\n"
   ]
  },
  {
   "cell_type": "code",
   "execution_count": 65,
   "metadata": {
    "colab": {
     "base_uri": "https://localhost:8080/"
    },
    "executionInfo": {
     "elapsed": 18,
     "status": "ok",
     "timestamp": 1747933379461,
     "user": {
      "displayName": "Brenda Kurgat",
      "userId": "11817120151564024162"
     },
     "user_tz": -180
    },
    "id": "lGYl0U_d-V-9",
    "outputId": "fad64497-63d4-469a-e109-618779b0e708"
   },
   "outputs": [
    {
     "data": {
      "text/plain": [
       "(31275, 22)"
      ]
     },
     "execution_count": 65,
     "metadata": {},
     "output_type": "execute_result"
    }
   ],
   "source": [
    "df_cleaned.shape"
   ]
  },
  {
   "cell_type": "markdown",
   "metadata": {
    "id": "w7F_EeeX1Uj_"
   },
   "source": [
    "## DATA PREPROCESSING"
   ]
  },
  {
   "cell_type": "markdown",
   "metadata": {
    "id": "vrlaV6sJ26-L"
   },
   "source": [
    "### STANDARDIZATION  \n",
    "\n",
    "Some of the features like `avg_time_spent`, `avg_transaction_value`,  are on different scales.To ensure fair treatment by models, we’ll **standardize** to centers the distribution.\n"
   ]
  },
  {
   "cell_type": "code",
   "execution_count": 66,
   "metadata": {
    "executionInfo": {
     "elapsed": 8,
     "status": "ok",
     "timestamp": 1747933379462,
     "user": {
      "displayName": "Brenda Kurgat",
      "userId": "11817120151564024162"
     },
     "user_tz": -180
    },
    "id": "D-TdP7u0mqqC"
   },
   "outputs": [],
   "source": [
    "# Creating a copy of the dataframe for standardizatiom\n",
    "df_standardized = df_cleaned"
   ]
  },
  {
   "cell_type": "code",
   "execution_count": 67,
   "metadata": {
    "colab": {
     "base_uri": "https://localhost:8080/",
     "height": 738
    },
    "executionInfo": {
     "elapsed": 13,
     "status": "ok",
     "timestamp": 1747933379476,
     "user": {
      "displayName": "Brenda Kurgat",
      "userId": "11817120151564024162"
     },
     "user_tz": -180
    },
    "id": "v6BoJ7VioMIN",
    "outputId": "6d1955be-2ec9-46ef-efce-3a36ef45978b"
   },
   "outputs": [
    {
     "data": {
      "text/html": [
       "<div>\n",
       "<style scoped>\n",
       "    .dataframe tbody tr th:only-of-type {\n",
       "        vertical-align: middle;\n",
       "    }\n",
       "\n",
       "    .dataframe tbody tr th {\n",
       "        vertical-align: top;\n",
       "    }\n",
       "\n",
       "    .dataframe thead th {\n",
       "        text-align: right;\n",
       "    }\n",
       "</style>\n",
       "<table border=\"1\" class=\"dataframe\">\n",
       "  <thead>\n",
       "    <tr style=\"text-align: right;\">\n",
       "      <th></th>\n",
       "      <th>age</th>\n",
       "      <th>gender</th>\n",
       "      <th>region_category</th>\n",
       "      <th>membership_category</th>\n",
       "      <th>joining_date</th>\n",
       "      <th>joined_through_referral</th>\n",
       "      <th>preferred_offer_types</th>\n",
       "      <th>medium_of_operation</th>\n",
       "      <th>internet_option</th>\n",
       "      <th>days_since_last_login</th>\n",
       "      <th>...</th>\n",
       "      <th>used_special_discount</th>\n",
       "      <th>offer_application_preference</th>\n",
       "      <th>past_complaint</th>\n",
       "      <th>complaint_status</th>\n",
       "      <th>feedback</th>\n",
       "      <th>churn_risk_score</th>\n",
       "      <th>joining_year</th>\n",
       "      <th>joining_month</th>\n",
       "      <th>avg_time_spent_std</th>\n",
       "      <th>avg_transaction_value_std</th>\n",
       "    </tr>\n",
       "  </thead>\n",
       "  <tbody>\n",
       "    <tr>\n",
       "      <th>0</th>\n",
       "      <td>18</td>\n",
       "      <td>F</td>\n",
       "      <td>Village</td>\n",
       "      <td>Platinum Membership</td>\n",
       "      <td>2017-08-17</td>\n",
       "      <td>No</td>\n",
       "      <td>Gift Vouchers/Coupons</td>\n",
       "      <td>Unknown</td>\n",
       "      <td>Wi-Fi</td>\n",
       "      <td>17.0</td>\n",
       "      <td>...</td>\n",
       "      <td>Yes</td>\n",
       "      <td>Yes</td>\n",
       "      <td>No</td>\n",
       "      <td>Not Applicable</td>\n",
       "      <td>Products always in Stock</td>\n",
       "      <td>0</td>\n",
       "      <td>2017</td>\n",
       "      <td>8</td>\n",
       "      <td>0.038006</td>\n",
       "      <td>1.214373</td>\n",
       "    </tr>\n",
       "    <tr>\n",
       "      <th>1</th>\n",
       "      <td>32</td>\n",
       "      <td>F</td>\n",
       "      <td>City</td>\n",
       "      <td>Premium Membership</td>\n",
       "      <td>2017-08-28</td>\n",
       "      <td>Not_recorded</td>\n",
       "      <td>Gift Vouchers/Coupons</td>\n",
       "      <td>Desktop</td>\n",
       "      <td>Mobile_Data</td>\n",
       "      <td>16.0</td>\n",
       "      <td>...</td>\n",
       "      <td>Yes</td>\n",
       "      <td>No</td>\n",
       "      <td>Yes</td>\n",
       "      <td>Solved</td>\n",
       "      <td>Quality Customer Care</td>\n",
       "      <td>0</td>\n",
       "      <td>2017</td>\n",
       "      <td>8</td>\n",
       "      <td>0.055456</td>\n",
       "      <td>-0.844669</td>\n",
       "    </tr>\n",
       "    <tr>\n",
       "      <th>2</th>\n",
       "      <td>44</td>\n",
       "      <td>F</td>\n",
       "      <td>Town</td>\n",
       "      <td>No Membership</td>\n",
       "      <td>2016-11-11</td>\n",
       "      <td>Yes</td>\n",
       "      <td>Gift Vouchers/Coupons</td>\n",
       "      <td>Desktop</td>\n",
       "      <td>Wi-Fi</td>\n",
       "      <td>14.0</td>\n",
       "      <td>...</td>\n",
       "      <td>No</td>\n",
       "      <td>Yes</td>\n",
       "      <td>Yes</td>\n",
       "      <td>Solved in Follow-up</td>\n",
       "      <td>Poor Website</td>\n",
       "      <td>1</td>\n",
       "      <td>2016</td>\n",
       "      <td>11</td>\n",
       "      <td>0.696656</td>\n",
       "      <td>-0.424902</td>\n",
       "    </tr>\n",
       "    <tr>\n",
       "      <th>3</th>\n",
       "      <td>37</td>\n",
       "      <td>M</td>\n",
       "      <td>City</td>\n",
       "      <td>No Membership</td>\n",
       "      <td>2016-10-29</td>\n",
       "      <td>Yes</td>\n",
       "      <td>Gift Vouchers/Coupons</td>\n",
       "      <td>Desktop</td>\n",
       "      <td>Mobile_Data</td>\n",
       "      <td>11.0</td>\n",
       "      <td>...</td>\n",
       "      <td>No</td>\n",
       "      <td>Yes</td>\n",
       "      <td>Yes</td>\n",
       "      <td>Unsolved</td>\n",
       "      <td>Poor Website</td>\n",
       "      <td>1</td>\n",
       "      <td>2016</td>\n",
       "      <td>10</td>\n",
       "      <td>-0.717915</td>\n",
       "      <td>-0.208957</td>\n",
       "    </tr>\n",
       "    <tr>\n",
       "      <th>4</th>\n",
       "      <td>31</td>\n",
       "      <td>F</td>\n",
       "      <td>City</td>\n",
       "      <td>No Membership</td>\n",
       "      <td>2017-12-09</td>\n",
       "      <td>No</td>\n",
       "      <td>Credit/Debit Card Offers</td>\n",
       "      <td>Smartphone</td>\n",
       "      <td>Mobile_Data</td>\n",
       "      <td>20.0</td>\n",
       "      <td>...</td>\n",
       "      <td>No</td>\n",
       "      <td>Yes</td>\n",
       "      <td>Yes</td>\n",
       "      <td>Solved</td>\n",
       "      <td>Poor Website</td>\n",
       "      <td>1</td>\n",
       "      <td>2017</td>\n",
       "      <td>12</td>\n",
       "      <td>-0.534985</td>\n",
       "      <td>-0.247706</td>\n",
       "    </tr>\n",
       "    <tr>\n",
       "      <th>...</th>\n",
       "      <td>...</td>\n",
       "      <td>...</td>\n",
       "      <td>...</td>\n",
       "      <td>...</td>\n",
       "      <td>...</td>\n",
       "      <td>...</td>\n",
       "      <td>...</td>\n",
       "      <td>...</td>\n",
       "      <td>...</td>\n",
       "      <td>...</td>\n",
       "      <td>...</td>\n",
       "      <td>...</td>\n",
       "      <td>...</td>\n",
       "      <td>...</td>\n",
       "      <td>...</td>\n",
       "      <td>...</td>\n",
       "      <td>...</td>\n",
       "      <td>...</td>\n",
       "      <td>...</td>\n",
       "      <td>...</td>\n",
       "      <td>...</td>\n",
       "    </tr>\n",
       "    <tr>\n",
       "      <th>36985</th>\n",
       "      <td>12</td>\n",
       "      <td>F</td>\n",
       "      <td>Village</td>\n",
       "      <td>Premium Membership</td>\n",
       "      <td>2016-10-25</td>\n",
       "      <td>No</td>\n",
       "      <td>Gift Vouchers/Coupons</td>\n",
       "      <td>Desktop</td>\n",
       "      <td>Fiber_Optic</td>\n",
       "      <td>13.0</td>\n",
       "      <td>...</td>\n",
       "      <td>Yes</td>\n",
       "      <td>Yes</td>\n",
       "      <td>Yes</td>\n",
       "      <td>Unsolved</td>\n",
       "      <td>Products always in Stock</td>\n",
       "      <td>0</td>\n",
       "      <td>2016</td>\n",
       "      <td>10</td>\n",
       "      <td>0.397845</td>\n",
       "      <td>1.388253</td>\n",
       "    </tr>\n",
       "    <tr>\n",
       "      <th>36986</th>\n",
       "      <td>27</td>\n",
       "      <td>M</td>\n",
       "      <td>Town</td>\n",
       "      <td>Platinum Membership</td>\n",
       "      <td>2015-07-09</td>\n",
       "      <td>Yes</td>\n",
       "      <td>Credit/Debit Card Offers</td>\n",
       "      <td>Desktop</td>\n",
       "      <td>Mobile_Data</td>\n",
       "      <td>13.0</td>\n",
       "      <td>...</td>\n",
       "      <td>Yes</td>\n",
       "      <td>No</td>\n",
       "      <td>No</td>\n",
       "      <td>Not Applicable</td>\n",
       "      <td>No reason specified</td>\n",
       "      <td>0</td>\n",
       "      <td>2015</td>\n",
       "      <td>7</td>\n",
       "      <td>-0.465615</td>\n",
       "      <td>-1.081126</td>\n",
       "    </tr>\n",
       "    <tr>\n",
       "      <th>36988</th>\n",
       "      <td>29</td>\n",
       "      <td>F</td>\n",
       "      <td>Town</td>\n",
       "      <td>Basic Membership</td>\n",
       "      <td>2016-06-27</td>\n",
       "      <td>No</td>\n",
       "      <td>Without Offers</td>\n",
       "      <td>Smartphone</td>\n",
       "      <td>Wi-Fi</td>\n",
       "      <td>13.0</td>\n",
       "      <td>...</td>\n",
       "      <td>Yes</td>\n",
       "      <td>No</td>\n",
       "      <td>No</td>\n",
       "      <td>Not Applicable</td>\n",
       "      <td>Poor Customer Service</td>\n",
       "      <td>1</td>\n",
       "      <td>2016</td>\n",
       "      <td>6</td>\n",
       "      <td>-0.349611</td>\n",
       "      <td>-0.935334</td>\n",
       "    </tr>\n",
       "    <tr>\n",
       "      <th>36990</th>\n",
       "      <td>53</td>\n",
       "      <td>M</td>\n",
       "      <td>Village</td>\n",
       "      <td>Platinum Membership</td>\n",
       "      <td>2017-06-15</td>\n",
       "      <td>No</td>\n",
       "      <td>Gift Vouchers/Coupons</td>\n",
       "      <td>Smartphone</td>\n",
       "      <td>Mobile_Data</td>\n",
       "      <td>15.0</td>\n",
       "      <td>...</td>\n",
       "      <td>Yes</td>\n",
       "      <td>Yes</td>\n",
       "      <td>No</td>\n",
       "      <td>Not Applicable</td>\n",
       "      <td>No reason specified</td>\n",
       "      <td>0</td>\n",
       "      <td>2017</td>\n",
       "      <td>6</td>\n",
       "      <td>0.594128</td>\n",
       "      <td>-1.380847</td>\n",
       "    </tr>\n",
       "    <tr>\n",
       "      <th>36991</th>\n",
       "      <td>35</td>\n",
       "      <td>M</td>\n",
       "      <td>Town</td>\n",
       "      <td>Silver Membership</td>\n",
       "      <td>2015-10-23</td>\n",
       "      <td>No</td>\n",
       "      <td>Gift Vouchers/Coupons</td>\n",
       "      <td>Desktop</td>\n",
       "      <td>Mobile_Data</td>\n",
       "      <td>15.0</td>\n",
       "      <td>...</td>\n",
       "      <td>Yes</td>\n",
       "      <td>No</td>\n",
       "      <td>No</td>\n",
       "      <td>Not Applicable</td>\n",
       "      <td>Quality Customer Care</td>\n",
       "      <td>0</td>\n",
       "      <td>2015</td>\n",
       "      <td>10</td>\n",
       "      <td>-0.638735</td>\n",
       "      <td>-1.390544</td>\n",
       "    </tr>\n",
       "  </tbody>\n",
       "</table>\n",
       "<p>31275 rows × 24 columns</p>\n",
       "</div>"
      ],
      "text/plain": [
       "       age gender region_category  membership_category joining_date  \\\n",
       "0       18      F         Village  Platinum Membership   2017-08-17   \n",
       "1       32      F            City   Premium Membership   2017-08-28   \n",
       "2       44      F            Town        No Membership   2016-11-11   \n",
       "3       37      M            City        No Membership   2016-10-29   \n",
       "4       31      F            City        No Membership   2017-12-09   \n",
       "...    ...    ...             ...                  ...          ...   \n",
       "36985   12      F         Village   Premium Membership   2016-10-25   \n",
       "36986   27      M            Town  Platinum Membership   2015-07-09   \n",
       "36988   29      F            Town     Basic Membership   2016-06-27   \n",
       "36990   53      M         Village  Platinum Membership   2017-06-15   \n",
       "36991   35      M            Town    Silver Membership   2015-10-23   \n",
       "\n",
       "      joined_through_referral     preferred_offer_types medium_of_operation  \\\n",
       "0                          No     Gift Vouchers/Coupons             Unknown   \n",
       "1                Not_recorded     Gift Vouchers/Coupons             Desktop   \n",
       "2                         Yes     Gift Vouchers/Coupons             Desktop   \n",
       "3                         Yes     Gift Vouchers/Coupons             Desktop   \n",
       "4                          No  Credit/Debit Card Offers          Smartphone   \n",
       "...                       ...                       ...                 ...   \n",
       "36985                      No     Gift Vouchers/Coupons             Desktop   \n",
       "36986                     Yes  Credit/Debit Card Offers             Desktop   \n",
       "36988                      No            Without Offers          Smartphone   \n",
       "36990                      No     Gift Vouchers/Coupons          Smartphone   \n",
       "36991                      No     Gift Vouchers/Coupons             Desktop   \n",
       "\n",
       "      internet_option  days_since_last_login  ...  used_special_discount  \\\n",
       "0               Wi-Fi                   17.0  ...                    Yes   \n",
       "1         Mobile_Data                   16.0  ...                    Yes   \n",
       "2               Wi-Fi                   14.0  ...                     No   \n",
       "3         Mobile_Data                   11.0  ...                     No   \n",
       "4         Mobile_Data                   20.0  ...                     No   \n",
       "...               ...                    ...  ...                    ...   \n",
       "36985     Fiber_Optic                   13.0  ...                    Yes   \n",
       "36986     Mobile_Data                   13.0  ...                    Yes   \n",
       "36988           Wi-Fi                   13.0  ...                    Yes   \n",
       "36990     Mobile_Data                   15.0  ...                    Yes   \n",
       "36991     Mobile_Data                   15.0  ...                    Yes   \n",
       "\n",
       "       offer_application_preference  past_complaint     complaint_status  \\\n",
       "0                               Yes              No       Not Applicable   \n",
       "1                                No             Yes               Solved   \n",
       "2                               Yes             Yes  Solved in Follow-up   \n",
       "3                               Yes             Yes             Unsolved   \n",
       "4                               Yes             Yes               Solved   \n",
       "...                             ...             ...                  ...   \n",
       "36985                           Yes             Yes             Unsolved   \n",
       "36986                            No              No       Not Applicable   \n",
       "36988                            No              No       Not Applicable   \n",
       "36990                           Yes              No       Not Applicable   \n",
       "36991                            No              No       Not Applicable   \n",
       "\n",
       "                       feedback churn_risk_score joining_year joining_month  \\\n",
       "0      Products always in Stock                0         2017             8   \n",
       "1         Quality Customer Care                0         2017             8   \n",
       "2                  Poor Website                1         2016            11   \n",
       "3                  Poor Website                1         2016            10   \n",
       "4                  Poor Website                1         2017            12   \n",
       "...                         ...              ...          ...           ...   \n",
       "36985  Products always in Stock                0         2016            10   \n",
       "36986       No reason specified                0         2015             7   \n",
       "36988     Poor Customer Service                1         2016             6   \n",
       "36990       No reason specified                0         2017             6   \n",
       "36991     Quality Customer Care                0         2015            10   \n",
       "\n",
       "      avg_time_spent_std  avg_transaction_value_std  \n",
       "0               0.038006                   1.214373  \n",
       "1               0.055456                  -0.844669  \n",
       "2               0.696656                  -0.424902  \n",
       "3              -0.717915                  -0.208957  \n",
       "4              -0.534985                  -0.247706  \n",
       "...                  ...                        ...  \n",
       "36985           0.397845                   1.388253  \n",
       "36986          -0.465615                  -1.081126  \n",
       "36988          -0.349611                  -0.935334  \n",
       "36990           0.594128                  -1.380847  \n",
       "36991          -0.638735                  -1.390544  \n",
       "\n",
       "[31275 rows x 24 columns]"
      ]
     },
     "execution_count": 67,
     "metadata": {},
     "output_type": "execute_result"
    }
   ],
   "source": [
    "standardize_cols = ['avg_time_spent', 'avg_transaction_value']\n",
    "scaler_std = StandardScaler()\n",
    "\n",
    "# Fit and transform\n",
    "df_standardized_cols = pd.DataFrame(\n",
    "    scaler_std.fit_transform(df_standardized[standardize_cols]),\n",
    "    columns=[f\"{col}_std\" for col in standardize_cols],\n",
    "    index=df_standardized.index)\n",
    "\n",
    "# Concatenate\n",
    "df_standardized = pd.concat([df_standardized, df_standardized_cols], axis=1)\n",
    "df_standardized\n"
   ]
  },
  {
   "cell_type": "code",
   "execution_count": 68,
   "metadata": {
    "colab": {
     "base_uri": "https://localhost:8080/",
     "height": 838
    },
    "executionInfo": {
     "elapsed": 1849,
     "status": "ok",
     "timestamp": 1747933381327,
     "user": {
      "displayName": "Brenda Kurgat",
      "userId": "11817120151564024162"
     },
     "user_tz": -180
    },
    "id": "dx6wx0tD26-L",
    "outputId": "a7c3290e-49ab-4154-c1d9-71db8c9ca33e"
   },
   "outputs": [
    {
     "data": {
      "image/png": "[encoded data removed]",
      "text/plain": [
       "<Figure size 1080x576 with 4 Axes>"
      ]
     },
     "metadata": {
      "needs_background": "light"
     },
     "output_type": "display_data"
    }
   ],
   "source": [
    "plt.figure(figsize=(15, 8))\n",
    "\n",
    "for i, col in enumerate(standardize_cols):\n",
    "    plt.subplot(2, 3, i+1)\n",
    "    sns.histplot(df_standardized[col], kde=True, bins=30)\n",
    "    plt.title(f\"{col} - Original\")\n",
    "    plt.xlim(df[col].min(), df[col].max())\n",
    "\n",
    "    plt.subplot(2, 3, i+4)\n",
    "    sns.histplot(df_standardized[f\"{col}_std\"], kde=True, color='green', bins=30)\n",
    "    plt.title(f\"{col}_std - Standardized\")\n",
    "    plt.xlim(-4, 4)\n",
    "\n",
    "plt.tight_layout()\n",
    "plt.suptitle(\"Standardization: Before vs After\", fontsize=16, y=1.02)\n",
    "plt.show()\n"
   ]
  },
  {
   "cell_type": "markdown",
   "metadata": {
    "id": "3Mb2I2Cc26-L"
   },
   "source": [
    "After standardization, the features are centered.Preparing them well for models sensitive to feature magnitude.\n"
   ]
  },
  {
   "cell_type": "markdown",
   "metadata": {
    "id": "1s9u04f-26-L"
   },
   "source": [
    "### NORMALIZATION\n",
    "\n"
   ]
  },
  {
   "cell_type": "markdown",
   "metadata": {
    "id": "TkOQYjeb26-L"
   },
   "source": [
    "### Normalize Features to Range [0, 1]\n",
    "\n",
    "Normalization rescales features, We  will use it for  this features `days_since_last_login`, `avg_frequency_login_days`, and `points_in_wallet`.\n",
    "\n",
    "\n"
   ]
  },
  {
   "cell_type": "code",
   "execution_count": 69,
   "metadata": {
    "executionInfo": {
     "elapsed": 4,
     "status": "ok",
     "timestamp": 1747933381334,
     "user": {
      "displayName": "Brenda Kurgat",
      "userId": "11817120151564024162"
     },
     "user_tz": -180
    },
    "id": "oIo0xjyz8Bx-"
   },
   "outputs": [],
   "source": [
    "from sklearn.preprocessing import MinMaxScaler\n",
    "\n",
    "# Columns to normalize\n",
    "normalize_cols = ['avg_frequency_login_days', 'points_in_wallet']\n",
    "\n",
    "# Convert to numeric and handle errors\n",
    "df_standardized[normalize_cols] = df_standardized[normalize_cols].apply(pd.to_numeric, errors='coerce')\n",
    "df_standardized[normalize_cols] = df_standardized[normalize_cols].fillna(0)\n",
    "\n",
    "# Normalize\n",
    "scaler_norm = MinMaxScaler()\n",
    "df_standardized_norm = pd.DataFrame(\n",
    "    scaler_norm.fit_transform(df_standardized[normalize_cols]),\n",
    "    columns=[f\"{col}_norm\" for col in normalize_cols],\n",
    "    index=df_standardized.index\n",
    ")\n",
    "# Combining\n",
    "df_standardized = pd.concat([df_standardized, df_standardized_norm], axis=1)\n"
   ]
  },
  {
   "cell_type": "code",
   "execution_count": 70,
   "metadata": {
    "colab": {
     "base_uri": "https://localhost:8080/",
     "height": 547
    },
    "executionInfo": {
     "elapsed": 3539,
     "status": "ok",
     "timestamp": 1747933384876,
     "user": {
      "displayName": "Brenda Kurgat",
      "userId": "11817120151564024162"
     },
     "user_tz": -180
    },
    "id": "jEttShMj26-L",
    "outputId": "a65351c1-2ea0-4618-96ee-085484ad5ea9"
   },
   "outputs": [
    {
     "data": {
      "image/png": "[encoded data removed]",
      "text/plain": [
       "<Figure size 864x360 with 4 Axes>"
      ]
     },
     "metadata": {
      "needs_background": "light"
     },
     "output_type": "display_data"
    }
   ],
   "source": [
    "# Visualizing before and after normalization\n",
    "plt.figure(figsize=(12, 5))\n",
    "\n",
    "for i, col in enumerate(normalize_cols):\n",
    "    # Original\n",
    "    plt.subplot(2, len(normalize_cols), i + 1)\n",
    "    sns.histplot(df_standardized[col], kde=True)\n",
    "    plt.title(f\"{col} - Original\")\n",
    "\n",
    "    # Normalized\n",
    "    plt.subplot(2, len(normalize_cols), i + 1 + len(normalize_cols))\n",
    "    sns.histplot(df_standardized[f\"{col}_norm\"], kde=True, color='orange')\n",
    "    plt.title(f\"{col}_norm - Normalized\")\n",
    "\n",
    "plt.tight_layout()\n",
    "plt.suptitle(\"Before and After Normalization\", fontsize=14, y=1.05)\n",
    "plt.show()"
   ]
  },
  {
   "cell_type": "code",
   "execution_count": 71,
   "metadata": {
    "colab": {
     "base_uri": "https://localhost:8080/",
     "height": 300
    },
    "executionInfo": {
     "elapsed": 37,
     "status": "ok",
     "timestamp": 1747933384916,
     "user": {
      "displayName": "Brenda Kurgat",
      "userId": "11817120151564024162"
     },
     "user_tz": -180
    },
    "id": "fn0opCg426-M",
    "outputId": "18597e50-a39b-487a-d73c-ec8c65f59b01"
   },
   "outputs": [
    {
     "data": {
      "text/html": [
       "<div>\n",
       "<style scoped>\n",
       "    .dataframe tbody tr th:only-of-type {\n",
       "        vertical-align: middle;\n",
       "    }\n",
       "\n",
       "    .dataframe tbody tr th {\n",
       "        vertical-align: top;\n",
       "    }\n",
       "\n",
       "    .dataframe thead th {\n",
       "        text-align: right;\n",
       "    }\n",
       "</style>\n",
       "<table border=\"1\" class=\"dataframe\">\n",
       "  <thead>\n",
       "    <tr style=\"text-align: right;\">\n",
       "      <th></th>\n",
       "      <th>avg_frequency_login_days_norm</th>\n",
       "      <th>points_in_wallet_norm</th>\n",
       "    </tr>\n",
       "  </thead>\n",
       "  <tbody>\n",
       "    <tr>\n",
       "      <th>count</th>\n",
       "      <td>31275.000000</td>\n",
       "      <td>31275.000000</td>\n",
       "    </tr>\n",
       "    <tr>\n",
       "      <th>mean</th>\n",
       "      <td>0.511012</td>\n",
       "      <td>0.512292</td>\n",
       "    </tr>\n",
       "    <tr>\n",
       "      <th>std</th>\n",
       "      <td>0.075237</td>\n",
       "      <td>0.065349</td>\n",
       "    </tr>\n",
       "    <tr>\n",
       "      <th>min</th>\n",
       "      <td>0.000000</td>\n",
       "      <td>0.000000</td>\n",
       "    </tr>\n",
       "    <tr>\n",
       "      <th>25%</th>\n",
       "      <td>0.459691</td>\n",
       "      <td>0.489596</td>\n",
       "    </tr>\n",
       "    <tr>\n",
       "      <th>50%</th>\n",
       "      <td>0.511098</td>\n",
       "      <td>0.515647</td>\n",
       "    </tr>\n",
       "    <tr>\n",
       "      <th>75%</th>\n",
       "      <td>0.562506</td>\n",
       "      <td>0.536612</td>\n",
       "    </tr>\n",
       "    <tr>\n",
       "      <th>max</th>\n",
       "      <td>1.000000</td>\n",
       "      <td>1.000000</td>\n",
       "    </tr>\n",
       "  </tbody>\n",
       "</table>\n",
       "</div>"
      ],
      "text/plain": [
       "       avg_frequency_login_days_norm  points_in_wallet_norm\n",
       "count                   31275.000000           31275.000000\n",
       "mean                        0.511012               0.512292\n",
       "std                         0.075237               0.065349\n",
       "min                         0.000000               0.000000\n",
       "25%                         0.459691               0.489596\n",
       "50%                         0.511098               0.515647\n",
       "75%                         0.562506               0.536612\n",
       "max                         1.000000               1.000000"
      ]
     },
     "execution_count": 71,
     "metadata": {},
     "output_type": "execute_result"
    }
   ],
   "source": [
    "df_standardized[['avg_frequency_login_days_norm', 'points_in_wallet_norm']].describe()\n"
   ]
  },
  {
   "cell_type": "markdown",
   "metadata": {
    "id": "jGtvC78m26-M"
   },
   "source": [
    "Normalization didn't change the shape from the visualizations, which is\n",
    "expected. We confirmed normalization worked correctly by checking `.describe()` stats and the new range (0–1).\n"
   ]
  },
  {
   "cell_type": "markdown",
   "metadata": {
    "id": "hrj2D19z26-M"
   },
   "source": [
    "### Log Transformation to Handle Skewed Distributions\n",
    "\n",
    "The Features i.e 'points_in_wallet', 'avg_transaction_value' can be highly skewed.  We will use 'np.log1p()' to reduce skew.\n"
   ]
  },
  {
   "cell_type": "code",
   "execution_count": 72,
   "metadata": {
    "executionInfo": {
     "elapsed": 7,
     "status": "ok",
     "timestamp": 1747933384922,
     "user": {
      "displayName": "Brenda Kurgat",
      "userId": "11817120151564024162"
     },
     "user_tz": -180
    },
    "id": "s5Wc_zNM26-M"
   },
   "outputs": [],
   "source": [
    "# transform_cols = ['points_in_wallet', 'avg_transaction_value']\n",
    "# df_standardized_log =df_standardized[transform_cols].apply(lambda x: np.log1p(x))\n",
    "# df_standardized_log.columns = [f\"{col}_log\" for col in transform_cols]\n",
    "# df_standardized = pd.concat([df_standardized, df_standardized_log], axis=1)"
   ]
  },
  {
   "cell_type": "code",
   "execution_count": 73,
   "metadata": {
    "executionInfo": {
     "elapsed": 3,
     "status": "ok",
     "timestamp": 1747933384929,
     "user": {
      "displayName": "Brenda Kurgat",
      "userId": "11817120151564024162"
     },
     "user_tz": -180
    },
    "id": "rUP4JxKR26-M"
   },
   "outputs": [],
   "source": [
    "# # Log transform\n",
    "# log_cols = ['avg_transaction_value', 'points_in_wallet']\n",
    "# for col in log_cols:\n",
    "#     df_standardized[f\"{col}_log\"] = np.log1p(df_standardized[col])\n",
    "\n",
    "# # Plot original vs log-transformed\n",
    "# plt.figure(figsize=(12, 6))\n",
    "\n",
    "# for i, col in enumerate(log_cols):\n",
    "#     plt.subplot(2, 2, 2*i + 1)\n",
    "#     sns.histplot(df_standardized[col], kde=True)\n",
    "#     plt.title(f\"{col} - Original\")\n",
    "\n",
    "#     plt.subplot(2, 2, 2*i + 2)\n",
    "#     sns.histplot(df_standardized[f\"{col}_log\"], kde=True, color='purple')\n",
    "#     plt.title(f\"{col} - After log1p\")\n",
    "\n",
    "# plt.tight_layout()\n",
    "# plt.suptitle(\"Before vs After Log Transformation\", fontsize=14, y=1.02)\n",
    "# plt.show()\n"
   ]
  },
  {
   "cell_type": "markdown",
   "metadata": {
    "id": "PxHGiOp526-M"
   },
   "source": [
    "Before transformation the Top row (Original) features ie `avg_frequency_login_days`, `points_in_wallet` were right-skewed, with values densely packed near zero and long tails extending to the right while bottom row (Normalized) the values were scaled. The transformation preserved the shape of the distributions but adjusted the scale, ensuring no feature dominates due to its magnitude.\n"
   ]
  },
  {
   "cell_type": "markdown",
   "metadata": {
    "id": "RJVBaD4FANR2"
   },
   "source": [
    "### Encoding the categorical columns"
   ]
  },
  {
   "cell_type": "code",
   "execution_count": 74,
   "metadata": {
    "executionInfo": {
     "elapsed": 2,
     "status": "ok",
     "timestamp": 1747933384987,
     "user": {
      "displayName": "Brenda Kurgat",
      "userId": "11817120151564024162"
     },
     "user_tz": -180
    },
    "id": "3ZIaYISNAM9Y"
   },
   "outputs": [],
   "source": [
    "# Creating a copy of the dataframe for encoding\n",
    "df_encoded = df_standardized"
   ]
  },
  {
   "cell_type": "code",
   "execution_count": 75,
   "metadata": {
    "colab": {
     "base_uri": "https://localhost:8080/",
     "height": 377
    },
    "executionInfo": {
     "elapsed": 5,
     "status": "ok",
     "timestamp": 1747933384994,
     "user": {
      "displayName": "Brenda Kurgat",
      "userId": "11817120151564024162"
     },
     "user_tz": -180
    },
    "id": "D_GBZgyVCFo3",
    "outputId": "613446c0-b494-4431-e929-56b988fe9b7d"
   },
   "outputs": [
    {
     "data": {
      "text/html": [
       "<div>\n",
       "<style scoped>\n",
       "    .dataframe tbody tr th:only-of-type {\n",
       "        vertical-align: middle;\n",
       "    }\n",
       "\n",
       "    .dataframe tbody tr th {\n",
       "        vertical-align: top;\n",
       "    }\n",
       "\n",
       "    .dataframe thead th {\n",
       "        text-align: right;\n",
       "    }\n",
       "</style>\n",
       "<table border=\"1\" class=\"dataframe\">\n",
       "  <thead>\n",
       "    <tr style=\"text-align: right;\">\n",
       "      <th></th>\n",
       "      <th>age</th>\n",
       "      <th>gender</th>\n",
       "      <th>region_category</th>\n",
       "      <th>membership_category</th>\n",
       "      <th>joining_date</th>\n",
       "      <th>joined_through_referral</th>\n",
       "      <th>preferred_offer_types</th>\n",
       "      <th>medium_of_operation</th>\n",
       "      <th>internet_option</th>\n",
       "      <th>days_since_last_login</th>\n",
       "      <th>...</th>\n",
       "      <th>past_complaint</th>\n",
       "      <th>complaint_status</th>\n",
       "      <th>feedback</th>\n",
       "      <th>churn_risk_score</th>\n",
       "      <th>joining_year</th>\n",
       "      <th>joining_month</th>\n",
       "      <th>avg_time_spent_std</th>\n",
       "      <th>avg_transaction_value_std</th>\n",
       "      <th>avg_frequency_login_days_norm</th>\n",
       "      <th>points_in_wallet_norm</th>\n",
       "    </tr>\n",
       "  </thead>\n",
       "  <tbody>\n",
       "    <tr>\n",
       "      <th>0</th>\n",
       "      <td>18</td>\n",
       "      <td>F</td>\n",
       "      <td>Village</td>\n",
       "      <td>Platinum Membership</td>\n",
       "      <td>2017-08-17</td>\n",
       "      <td>No</td>\n",
       "      <td>Gift Vouchers/Coupons</td>\n",
       "      <td>Unknown</td>\n",
       "      <td>Wi-Fi</td>\n",
       "      <td>17.0</td>\n",
       "      <td>...</td>\n",
       "      <td>No</td>\n",
       "      <td>Not Applicable</td>\n",
       "      <td>Products always in Stock</td>\n",
       "      <td>0</td>\n",
       "      <td>2017</td>\n",
       "      <td>8</td>\n",
       "      <td>0.038006</td>\n",
       "      <td>1.214373</td>\n",
       "      <td>0.519666</td>\n",
       "      <td>0.545073</td>\n",
       "    </tr>\n",
       "    <tr>\n",
       "      <th>1</th>\n",
       "      <td>32</td>\n",
       "      <td>F</td>\n",
       "      <td>City</td>\n",
       "      <td>Premium Membership</td>\n",
       "      <td>2017-08-28</td>\n",
       "      <td>Not_recorded</td>\n",
       "      <td>Gift Vouchers/Coupons</td>\n",
       "      <td>Desktop</td>\n",
       "      <td>Mobile_Data</td>\n",
       "      <td>16.0</td>\n",
       "      <td>...</td>\n",
       "      <td>Yes</td>\n",
       "      <td>Solved</td>\n",
       "      <td>Quality Customer Care</td>\n",
       "      <td>0</td>\n",
       "      <td>2017</td>\n",
       "      <td>8</td>\n",
       "      <td>0.055456</td>\n",
       "      <td>-0.844669</td>\n",
       "      <td>0.459691</td>\n",
       "      <td>0.515647</td>\n",
       "    </tr>\n",
       "    <tr>\n",
       "      <th>2</th>\n",
       "      <td>44</td>\n",
       "      <td>F</td>\n",
       "      <td>Town</td>\n",
       "      <td>No Membership</td>\n",
       "      <td>2016-11-11</td>\n",
       "      <td>Yes</td>\n",
       "      <td>Gift Vouchers/Coupons</td>\n",
       "      <td>Desktop</td>\n",
       "      <td>Wi-Fi</td>\n",
       "      <td>14.0</td>\n",
       "      <td>...</td>\n",
       "      <td>Yes</td>\n",
       "      <td>Solved in Follow-up</td>\n",
       "      <td>Poor Website</td>\n",
       "      <td>1</td>\n",
       "      <td>2016</td>\n",
       "      <td>11</td>\n",
       "      <td>0.696656</td>\n",
       "      <td>-0.424902</td>\n",
       "      <td>0.562506</td>\n",
       "      <td>0.445750</td>\n",
       "    </tr>\n",
       "    <tr>\n",
       "      <th>3</th>\n",
       "      <td>37</td>\n",
       "      <td>M</td>\n",
       "      <td>City</td>\n",
       "      <td>No Membership</td>\n",
       "      <td>2016-10-29</td>\n",
       "      <td>Yes</td>\n",
       "      <td>Gift Vouchers/Coupons</td>\n",
       "      <td>Desktop</td>\n",
       "      <td>Mobile_Data</td>\n",
       "      <td>11.0</td>\n",
       "      <td>...</td>\n",
       "      <td>Yes</td>\n",
       "      <td>Unsolved</td>\n",
       "      <td>Poor Website</td>\n",
       "      <td>1</td>\n",
       "      <td>2016</td>\n",
       "      <td>10</td>\n",
       "      <td>-0.717915</td>\n",
       "      <td>-0.208957</td>\n",
       "      <td>0.425419</td>\n",
       "      <td>0.469416</td>\n",
       "    </tr>\n",
       "    <tr>\n",
       "      <th>4</th>\n",
       "      <td>31</td>\n",
       "      <td>F</td>\n",
       "      <td>City</td>\n",
       "      <td>No Membership</td>\n",
       "      <td>2017-12-09</td>\n",
       "      <td>No</td>\n",
       "      <td>Credit/Debit Card Offers</td>\n",
       "      <td>Smartphone</td>\n",
       "      <td>Mobile_Data</td>\n",
       "      <td>20.0</td>\n",
       "      <td>...</td>\n",
       "      <td>Yes</td>\n",
       "      <td>Solved</td>\n",
       "      <td>Poor Website</td>\n",
       "      <td>1</td>\n",
       "      <td>2017</td>\n",
       "      <td>12</td>\n",
       "      <td>-0.534985</td>\n",
       "      <td>-0.247706</td>\n",
       "      <td>0.511098</td>\n",
       "      <td>0.503130</td>\n",
       "    </tr>\n",
       "  </tbody>\n",
       "</table>\n",
       "<p>5 rows × 26 columns</p>\n",
       "</div>"
      ],
      "text/plain": [
       "   age gender region_category  membership_category joining_date  \\\n",
       "0   18      F         Village  Platinum Membership   2017-08-17   \n",
       "1   32      F            City   Premium Membership   2017-08-28   \n",
       "2   44      F            Town        No Membership   2016-11-11   \n",
       "3   37      M            City        No Membership   2016-10-29   \n",
       "4   31      F            City        No Membership   2017-12-09   \n",
       "\n",
       "  joined_through_referral     preferred_offer_types medium_of_operation  \\\n",
       "0                      No     Gift Vouchers/Coupons             Unknown   \n",
       "1            Not_recorded     Gift Vouchers/Coupons             Desktop   \n",
       "2                     Yes     Gift Vouchers/Coupons             Desktop   \n",
       "3                     Yes     Gift Vouchers/Coupons             Desktop   \n",
       "4                      No  Credit/Debit Card Offers          Smartphone   \n",
       "\n",
       "  internet_option  days_since_last_login  ...  past_complaint  \\\n",
       "0           Wi-Fi                   17.0  ...              No   \n",
       "1     Mobile_Data                   16.0  ...             Yes   \n",
       "2           Wi-Fi                   14.0  ...             Yes   \n",
       "3     Mobile_Data                   11.0  ...             Yes   \n",
       "4     Mobile_Data                   20.0  ...             Yes   \n",
       "\n",
       "      complaint_status                  feedback  churn_risk_score  \\\n",
       "0       Not Applicable  Products always in Stock                 0   \n",
       "1               Solved     Quality Customer Care                 0   \n",
       "2  Solved in Follow-up              Poor Website                 1   \n",
       "3             Unsolved              Poor Website                 1   \n",
       "4               Solved              Poor Website                 1   \n",
       "\n",
       "  joining_year joining_month avg_time_spent_std avg_transaction_value_std  \\\n",
       "0         2017             8           0.038006                  1.214373   \n",
       "1         2017             8           0.055456                 -0.844669   \n",
       "2         2016            11           0.696656                 -0.424902   \n",
       "3         2016            10          -0.717915                 -0.208957   \n",
       "4         2017            12          -0.534985                 -0.247706   \n",
       "\n",
       "  avg_frequency_login_days_norm  points_in_wallet_norm  \n",
       "0                      0.519666               0.545073  \n",
       "1                      0.459691               0.515647  \n",
       "2                      0.562506               0.445750  \n",
       "3                      0.425419               0.469416  \n",
       "4                      0.511098               0.503130  \n",
       "\n",
       "[5 rows x 26 columns]"
      ]
     },
     "execution_count": 75,
     "metadata": {},
     "output_type": "execute_result"
    }
   ],
   "source": [
    "df_encoded.head()"
   ]
  },
  {
   "cell_type": "code",
   "execution_count": 76,
   "metadata": {
    "colab": {
     "base_uri": "https://localhost:8080/"
    },
    "executionInfo": {
     "elapsed": 13,
     "status": "ok",
     "timestamp": 1747933385010,
     "user": {
      "displayName": "Brenda Kurgat",
      "userId": "11817120151564024162"
     },
     "user_tz": -180
    },
    "id": "n0XWbZsw26-M",
    "outputId": "84f5f73e-0bbd-499d-bf1e-5909bc93fcc8"
   },
   "outputs": [
    {
     "data": {
      "text/plain": [
       "['gender',\n",
       " 'region_category',\n",
       " 'membership_category',\n",
       " 'joined_through_referral',\n",
       " 'preferred_offer_types',\n",
       " 'medium_of_operation',\n",
       " 'internet_option',\n",
       " 'used_special_discount',\n",
       " 'offer_application_preference',\n",
       " 'past_complaint',\n",
       " 'complaint_status',\n",
       " 'feedback']"
      ]
     },
     "execution_count": 76,
     "metadata": {},
     "output_type": "execute_result"
    }
   ],
   "source": [
    "# Checking all the categorical columns we have\n",
    "categorical_cols = df_encoded.select_dtypes(include='object').columns.to_list()\n",
    "categorical_cols"
   ]
  },
  {
   "cell_type": "code",
   "execution_count": 77,
   "metadata": {
    "colab": {
     "base_uri": "https://localhost:8080/",
     "height": 460
    },
    "executionInfo": {
     "elapsed": 70,
     "status": "ok",
     "timestamp": 1747933385082,
     "user": {
      "displayName": "Brenda Kurgat",
      "userId": "11817120151564024162"
     },
     "user_tz": -180
    },
    "id": "m8jOIglVESH5",
    "outputId": "3ece8d4a-ed5f-4252-8b46-102146388dba"
   },
   "outputs": [
    {
     "data": {
      "text/plain": [
       "gender                          2\n",
       "region_category                 3\n",
       "membership_category             6\n",
       "joined_through_referral         3\n",
       "preferred_offer_types           3\n",
       "medium_of_operation             4\n",
       "internet_option                 3\n",
       "used_special_discount           2\n",
       "offer_application_preference    2\n",
       "past_complaint                  2\n",
       "complaint_status                5\n",
       "feedback                        9\n",
       "dtype: int64"
      ]
     },
     "execution_count": 77,
     "metadata": {},
     "output_type": "execute_result"
    }
   ],
   "source": [
    "df_encoded[categorical_cols].nunique()"
   ]
  },
  {
   "cell_type": "markdown",
   "metadata": {
    "id": "C1hhL6suCetv"
   },
   "source": [
    "For columns that are binary or represent a clear yes/no scenario, we will apply binary encoding to keep the analysis simple and easy to interpret."
   ]
  },
  {
   "cell_type": "code",
   "execution_count": 78,
   "metadata": {
    "executionInfo": {
     "elapsed": 50,
     "status": "ok",
     "timestamp": 1747933385134,
     "user": {
      "displayName": "Brenda Kurgat",
      "userId": "11817120151564024162"
     },
     "user_tz": -180
    },
    "id": "Niw4XcrfCdtX"
   },
   "outputs": [],
   "source": [
    "# Creating a binary map\n",
    "binary_map = {\n",
    "    'gender': {'F': 0, 'M': 1},\n",
    "    'joined_through_referral': {'Yes': 1, 'No': 0, 'Not_recorded': -1},\n",
    "    'used_special_discount': {'Yes': 1, 'No': 0},\n",
    "    'offer_application_preference': {'Yes': 1, 'No': 0},\n",
    "    'past_complaint': {'Yes': 1, 'No': 0}\n",
    "}\n",
    "# Apply binary encoding\n",
    "for col, mapping in binary_map.items():\n",
    "  df_encoded[col] = df_encoded[col].map(mapping)"
   ]
  },
  {
   "cell_type": "code",
   "execution_count": 79,
   "metadata": {
    "colab": {
     "base_uri": "https://localhost:8080/",
     "height": 377
    },
    "executionInfo": {
     "elapsed": 50,
     "status": "ok",
     "timestamp": 1747933385137,
     "user": {
      "displayName": "Brenda Kurgat",
      "userId": "11817120151564024162"
     },
     "user_tz": -180
    },
    "id": "E1vB7NS226-M",
    "outputId": "9d0baf1e-91e1-40db-8693-c5cfdb34303d"
   },
   "outputs": [
    {
     "data": {
      "text/html": [
       "<div>\n",
       "<style scoped>\n",
       "    .dataframe tbody tr th:only-of-type {\n",
       "        vertical-align: middle;\n",
       "    }\n",
       "\n",
       "    .dataframe tbody tr th {\n",
       "        vertical-align: top;\n",
       "    }\n",
       "\n",
       "    .dataframe thead th {\n",
       "        text-align: right;\n",
       "    }\n",
       "</style>\n",
       "<table border=\"1\" class=\"dataframe\">\n",
       "  <thead>\n",
       "    <tr style=\"text-align: right;\">\n",
       "      <th></th>\n",
       "      <th>age</th>\n",
       "      <th>gender</th>\n",
       "      <th>region_category</th>\n",
       "      <th>membership_category</th>\n",
       "      <th>joining_date</th>\n",
       "      <th>joined_through_referral</th>\n",
       "      <th>preferred_offer_types</th>\n",
       "      <th>medium_of_operation</th>\n",
       "      <th>internet_option</th>\n",
       "      <th>days_since_last_login</th>\n",
       "      <th>...</th>\n",
       "      <th>past_complaint</th>\n",
       "      <th>complaint_status</th>\n",
       "      <th>feedback</th>\n",
       "      <th>churn_risk_score</th>\n",
       "      <th>joining_year</th>\n",
       "      <th>joining_month</th>\n",
       "      <th>avg_time_spent_std</th>\n",
       "      <th>avg_transaction_value_std</th>\n",
       "      <th>avg_frequency_login_days_norm</th>\n",
       "      <th>points_in_wallet_norm</th>\n",
       "    </tr>\n",
       "  </thead>\n",
       "  <tbody>\n",
       "    <tr>\n",
       "      <th>0</th>\n",
       "      <td>18</td>\n",
       "      <td>0</td>\n",
       "      <td>Village</td>\n",
       "      <td>Platinum Membership</td>\n",
       "      <td>2017-08-17</td>\n",
       "      <td>0</td>\n",
       "      <td>Gift Vouchers/Coupons</td>\n",
       "      <td>Unknown</td>\n",
       "      <td>Wi-Fi</td>\n",
       "      <td>17.0</td>\n",
       "      <td>...</td>\n",
       "      <td>0</td>\n",
       "      <td>Not Applicable</td>\n",
       "      <td>Products always in Stock</td>\n",
       "      <td>0</td>\n",
       "      <td>2017</td>\n",
       "      <td>8</td>\n",
       "      <td>0.038006</td>\n",
       "      <td>1.214373</td>\n",
       "      <td>0.519666</td>\n",
       "      <td>0.545073</td>\n",
       "    </tr>\n",
       "    <tr>\n",
       "      <th>1</th>\n",
       "      <td>32</td>\n",
       "      <td>0</td>\n",
       "      <td>City</td>\n",
       "      <td>Premium Membership</td>\n",
       "      <td>2017-08-28</td>\n",
       "      <td>-1</td>\n",
       "      <td>Gift Vouchers/Coupons</td>\n",
       "      <td>Desktop</td>\n",
       "      <td>Mobile_Data</td>\n",
       "      <td>16.0</td>\n",
       "      <td>...</td>\n",
       "      <td>1</td>\n",
       "      <td>Solved</td>\n",
       "      <td>Quality Customer Care</td>\n",
       "      <td>0</td>\n",
       "      <td>2017</td>\n",
       "      <td>8</td>\n",
       "      <td>0.055456</td>\n",
       "      <td>-0.844669</td>\n",
       "      <td>0.459691</td>\n",
       "      <td>0.515647</td>\n",
       "    </tr>\n",
       "    <tr>\n",
       "      <th>2</th>\n",
       "      <td>44</td>\n",
       "      <td>0</td>\n",
       "      <td>Town</td>\n",
       "      <td>No Membership</td>\n",
       "      <td>2016-11-11</td>\n",
       "      <td>1</td>\n",
       "      <td>Gift Vouchers/Coupons</td>\n",
       "      <td>Desktop</td>\n",
       "      <td>Wi-Fi</td>\n",
       "      <td>14.0</td>\n",
       "      <td>...</td>\n",
       "      <td>1</td>\n",
       "      <td>Solved in Follow-up</td>\n",
       "      <td>Poor Website</td>\n",
       "      <td>1</td>\n",
       "      <td>2016</td>\n",
       "      <td>11</td>\n",
       "      <td>0.696656</td>\n",
       "      <td>-0.424902</td>\n",
       "      <td>0.562506</td>\n",
       "      <td>0.445750</td>\n",
       "    </tr>\n",
       "    <tr>\n",
       "      <th>3</th>\n",
       "      <td>37</td>\n",
       "      <td>1</td>\n",
       "      <td>City</td>\n",
       "      <td>No Membership</td>\n",
       "      <td>2016-10-29</td>\n",
       "      <td>1</td>\n",
       "      <td>Gift Vouchers/Coupons</td>\n",
       "      <td>Desktop</td>\n",
       "      <td>Mobile_Data</td>\n",
       "      <td>11.0</td>\n",
       "      <td>...</td>\n",
       "      <td>1</td>\n",
       "      <td>Unsolved</td>\n",
       "      <td>Poor Website</td>\n",
       "      <td>1</td>\n",
       "      <td>2016</td>\n",
       "      <td>10</td>\n",
       "      <td>-0.717915</td>\n",
       "      <td>-0.208957</td>\n",
       "      <td>0.425419</td>\n",
       "      <td>0.469416</td>\n",
       "    </tr>\n",
       "    <tr>\n",
       "      <th>4</th>\n",
       "      <td>31</td>\n",
       "      <td>0</td>\n",
       "      <td>City</td>\n",
       "      <td>No Membership</td>\n",
       "      <td>2017-12-09</td>\n",
       "      <td>0</td>\n",
       "      <td>Credit/Debit Card Offers</td>\n",
       "      <td>Smartphone</td>\n",
       "      <td>Mobile_Data</td>\n",
       "      <td>20.0</td>\n",
       "      <td>...</td>\n",
       "      <td>1</td>\n",
       "      <td>Solved</td>\n",
       "      <td>Poor Website</td>\n",
       "      <td>1</td>\n",
       "      <td>2017</td>\n",
       "      <td>12</td>\n",
       "      <td>-0.534985</td>\n",
       "      <td>-0.247706</td>\n",
       "      <td>0.511098</td>\n",
       "      <td>0.503130</td>\n",
       "    </tr>\n",
       "  </tbody>\n",
       "</table>\n",
       "<p>5 rows × 26 columns</p>\n",
       "</div>"
      ],
      "text/plain": [
       "   age  gender region_category  membership_category joining_date  \\\n",
       "0   18       0         Village  Platinum Membership   2017-08-17   \n",
       "1   32       0            City   Premium Membership   2017-08-28   \n",
       "2   44       0            Town        No Membership   2016-11-11   \n",
       "3   37       1            City        No Membership   2016-10-29   \n",
       "4   31       0            City        No Membership   2017-12-09   \n",
       "\n",
       "   joined_through_referral     preferred_offer_types medium_of_operation  \\\n",
       "0                        0     Gift Vouchers/Coupons             Unknown   \n",
       "1                       -1     Gift Vouchers/Coupons             Desktop   \n",
       "2                        1     Gift Vouchers/Coupons             Desktop   \n",
       "3                        1     Gift Vouchers/Coupons             Desktop   \n",
       "4                        0  Credit/Debit Card Offers          Smartphone   \n",
       "\n",
       "  internet_option  days_since_last_login  ...  past_complaint  \\\n",
       "0           Wi-Fi                   17.0  ...               0   \n",
       "1     Mobile_Data                   16.0  ...               1   \n",
       "2           Wi-Fi                   14.0  ...               1   \n",
       "3     Mobile_Data                   11.0  ...               1   \n",
       "4     Mobile_Data                   20.0  ...               1   \n",
       "\n",
       "      complaint_status                  feedback  churn_risk_score  \\\n",
       "0       Not Applicable  Products always in Stock                 0   \n",
       "1               Solved     Quality Customer Care                 0   \n",
       "2  Solved in Follow-up              Poor Website                 1   \n",
       "3             Unsolved              Poor Website                 1   \n",
       "4               Solved              Poor Website                 1   \n",
       "\n",
       "   joining_year  joining_month  avg_time_spent_std avg_transaction_value_std  \\\n",
       "0          2017              8            0.038006                  1.214373   \n",
       "1          2017              8            0.055456                 -0.844669   \n",
       "2          2016             11            0.696656                 -0.424902   \n",
       "3          2016             10           -0.717915                 -0.208957   \n",
       "4          2017             12           -0.534985                 -0.247706   \n",
       "\n",
       "  avg_frequency_login_days_norm  points_in_wallet_norm  \n",
       "0                      0.519666               0.545073  \n",
       "1                      0.459691               0.515647  \n",
       "2                      0.562506               0.445750  \n",
       "3                      0.425419               0.469416  \n",
       "4                      0.511098               0.503130  \n",
       "\n",
       "[5 rows x 26 columns]"
      ]
     },
     "execution_count": 79,
     "metadata": {},
     "output_type": "execute_result"
    }
   ],
   "source": [
    "df_encoded.head()"
   ]
  },
  {
   "cell_type": "markdown",
   "metadata": {
    "id": "bokiyZ72D55W"
   },
   "source": [
    "For the rest of the columns, we will use one-hot encoding since they all have low cardinality and this approach preserves the interpretability of the data without introducing unnecessary complexity.\n",
    "\n"
   ]
  },
  {
   "cell_type": "code",
   "execution_count": 80,
   "metadata": {
    "executionInfo": {
     "elapsed": 2,
     "status": "ok",
     "timestamp": 1747933385138,
     "user": {
      "displayName": "Brenda Kurgat",
      "userId": "11817120151564024162"
     },
     "user_tz": -180
    },
    "id": "lpxOvu5426-M"
   },
   "outputs": [],
   "source": [
    "# ohe for the remaining columns\n",
    "one_hot_columns = ['region_category', 'membership_category', 'preferred_offer_types', 'medium_of_operation', 'internet_option', 'complaint_status', 'feedback']\n",
    "df_encoded = pd.get_dummies(df_encoded, columns=one_hot_columns, prefix=one_hot_columns, dtype=int)\n",
    "# manually selecting which columns to drop to avoid multicollinearity but still have control over what is being removed\n",
    "to_drop = [\n",
    "    'region_category_Village',\n",
    "    'membership_category_No Membership',\n",
    "    'preferred_offer_types_Without Offers',\n",
    "    'medium_of_operation_Unknown',\n",
    "    'internet_option_Fiber_Optic',\n",
    "    'complaint_status_No Information Available',\n",
    "    'feedback_No reason specified','joining_date',\n",
    "    'joining_year','joining_month','points_in_wallet'\n",
    "    ]\n",
    "# dropping the chosen columns\n",
    "df_encoded = df_encoded.drop(columns=to_drop)"
   ]
  },
  {
   "cell_type": "code",
   "execution_count": 81,
   "metadata": {
    "colab": {
     "base_uri": "https://localhost:8080/"
    },
    "executionInfo": {
     "elapsed": 31,
     "status": "ok",
     "timestamp": 1747933385171,
     "user": {
      "displayName": "Brenda Kurgat",
      "userId": "11817120151564024162"
     },
     "user_tz": -180
    },
    "id": "huMFE4CP26-M",
    "outputId": "7bb73fbc-ae9a-4090-9d9d-af0d723221dc"
   },
   "outputs": [
    {
     "name": "stdout",
     "output_type": "stream",
     "text": [
      "<class 'pandas.core.frame.DataFrame'>\n",
      "Int64Index: 31275 entries, 0 to 36991\n",
      "Data columns (total 41 columns):\n",
      " #   Column                                          Non-Null Count  Dtype  \n",
      "---  ------                                          --------------  -----  \n",
      " 0   age                                             31275 non-null  int64  \n",
      " 1   gender                                          31275 non-null  int64  \n",
      " 2   joined_through_referral                         31275 non-null  int64  \n",
      " 3   days_since_last_login                           31275 non-null  float64\n",
      " 4   avg_time_spent                                  31275 non-null  float64\n",
      " 5   avg_transaction_value                           31275 non-null  float64\n",
      " 6   avg_frequency_login_days                        31275 non-null  float64\n",
      " 7   used_special_discount                           31275 non-null  int64  \n",
      " 8   offer_application_preference                    31275 non-null  int64  \n",
      " 9   past_complaint                                  31275 non-null  int64  \n",
      " 10  churn_risk_score                                31275 non-null  int64  \n",
      " 11  avg_time_spent_std                              31275 non-null  float64\n",
      " 12  avg_transaction_value_std                       31275 non-null  float64\n",
      " 13  avg_frequency_login_days_norm                   31275 non-null  float64\n",
      " 14  points_in_wallet_norm                           31275 non-null  float64\n",
      " 15  region_category_City                            31275 non-null  int32  \n",
      " 16  region_category_Town                            31275 non-null  int32  \n",
      " 17  membership_category_Basic Membership            31275 non-null  int32  \n",
      " 18  membership_category_Gold Membership             31275 non-null  int32  \n",
      " 19  membership_category_Platinum Membership         31275 non-null  int32  \n",
      " 20  membership_category_Premium Membership          31275 non-null  int32  \n",
      " 21  membership_category_Silver Membership           31275 non-null  int32  \n",
      " 22  preferred_offer_types_Credit/Debit Card Offers  31275 non-null  int32  \n",
      " 23  preferred_offer_types_Gift Vouchers/Coupons     31275 non-null  int32  \n",
      " 24  medium_of_operation_Both                        31275 non-null  int32  \n",
      " 25  medium_of_operation_Desktop                     31275 non-null  int32  \n",
      " 26  medium_of_operation_Smartphone                  31275 non-null  int32  \n",
      " 27  internet_option_Mobile_Data                     31275 non-null  int32  \n",
      " 28  internet_option_Wi-Fi                           31275 non-null  int32  \n",
      " 29  complaint_status_Not Applicable                 31275 non-null  int32  \n",
      " 30  complaint_status_Solved                         31275 non-null  int32  \n",
      " 31  complaint_status_Solved in Follow-up            31275 non-null  int32  \n",
      " 32  complaint_status_Unsolved                       31275 non-null  int32  \n",
      " 33  feedback_Poor Customer Service                  31275 non-null  int32  \n",
      " 34  feedback_Poor Product Quality                   31275 non-null  int32  \n",
      " 35  feedback_Poor Website                           31275 non-null  int32  \n",
      " 36  feedback_Products always in Stock               31275 non-null  int32  \n",
      " 37  feedback_Quality Customer Care                  31275 non-null  int32  \n",
      " 38  feedback_Reasonable Price                       31275 non-null  int32  \n",
      " 39  feedback_Too many ads                           31275 non-null  int32  \n",
      " 40  feedback_User Friendly Website                  31275 non-null  int32  \n",
      "dtypes: float64(8), int32(26), int64(7)\n",
      "memory usage: 6.9 MB\n"
     ]
    }
   ],
   "source": [
    "df_encoded.info()"
   ]
  },
  {
   "cell_type": "code",
   "execution_count": 82,
   "metadata": {
    "colab": {
     "base_uri": "https://localhost:8080/"
    },
    "executionInfo": {
     "elapsed": 7,
     "status": "ok",
     "timestamp": 1747933385180,
     "user": {
      "displayName": "Brenda Kurgat",
      "userId": "11817120151564024162"
     },
     "user_tz": -180
    },
    "id": "rcOhNzwE2ttR",
    "outputId": "116a6afa-d3e1-47f7-e472-1e867ee0aae5"
   },
   "outputs": [
    {
     "data": {
      "text/plain": [
       "(31275, 41)"
      ]
     },
     "execution_count": 82,
     "metadata": {},
     "output_type": "execute_result"
    }
   ],
   "source": [
    "df_encoded.shape"
   ]
  },
  {
   "cell_type": "code",
   "execution_count": 83,
   "metadata": {
    "colab": {
     "base_uri": "https://localhost:8080/"
    },
    "executionInfo": {
     "elapsed": 7,
     "status": "ok",
     "timestamp": 1747933385189,
     "user": {
      "displayName": "Brenda Kurgat",
      "userId": "11817120151564024162"
     },
     "user_tz": -180
    },
    "id": "J97Bz8Qi3Haa",
    "outputId": "83cdbb93-c9a0-44b8-b0e8-f723e73b09e2"
   },
   "outputs": [
    {
     "data": {
      "text/plain": [
       "(31275, 26)"
      ]
     },
     "execution_count": 83,
     "metadata": {},
     "output_type": "execute_result"
    }
   ],
   "source": [
    "df_standardized.shape"
   ]
  },
  {
   "cell_type": "markdown",
   "metadata": {},
   "source": [
    "## Modelling \n",
    "\n",
    "We decided to go for Logistic regression, random forest, XG boost and light GBM because we are dealing with binary data(Churn risk) and this four models are appropriate for the data."
   ]
  },
  {
   "cell_type": "markdown",
   "metadata": {},
   "source": [
    "### Logistic Regression Model\n"
   ]
  },
  {
   "cell_type": "markdown",
   "metadata": {},
   "source": [
    "#### Why Logistic Regression? \n",
    "\n",
    "Predicting customer churn risk using features such as referral status, membership category, internet usage, and complaint history. \n",
    "  we started with Logistic Regression for a few key reasons: Easy to interpret , and also provides a simple baseline to compare with more complex models later \n",
    "\n",
    "The goal is to:\n",
    "- Identify features strongly linked to churn.\n",
    "- Understand the relationship between customer behavior and churn risk.\n",
    "- Evaluate how well a simple model can perform before going deeper into tuning and ensemble methods."
   ]
  },
  {
   "cell_type": "code",
   "execution_count": 84,
   "metadata": {},
   "outputs": [],
   "source": [
    "# drop target and non-numeric column joining data\n",
    "X = df_encoded.drop(columns=['churn_risk_score']) \n",
    "# defining our dependent variable as churn_risk_score\n",
    "y = df_encoded['churn_risk_score']"
   ]
  },
  {
   "cell_type": "code",
   "execution_count": 85,
   "metadata": {},
   "outputs": [],
   "source": [
    "# Performing a split train test for our logistic regression model\n",
    "X_train, X_test, y_train, y_test = train_test_split(X, y, test_size=0.2, random_state=42)"
   ]
  },
  {
   "cell_type": "code",
   "execution_count": 86,
   "metadata": {},
   "outputs": [
    {
     "data": {
      "text/html": [
       "<style>#sk-container-id-1 {color: black;background-color: white;}#sk-container-id-1 pre{padding: 0;}#sk-container-id-1 div.sk-toggleable {background-color: white;}#sk-container-id-1 label.sk-toggleable__label {cursor: pointer;display: block;width: 100%;margin-bottom: 0;padding: 0.3em;box-sizing: border-box;text-align: center;}#sk-container-id-1 label.sk-toggleable__label-arrow:before {content: \"▸\";float: left;margin-right: 0.25em;color: #696969;}#sk-container-id-1 label.sk-toggleable__label-arrow:hover:before {color: black;}#sk-container-id-1 div.sk-estimator:hover label.sk-toggleable__label-arrow:before {color: black;}#sk-container-id-1 div.sk-toggleable__content {max-height: 0;max-width: 0;overflow: hidden;text-align: left;background-color: #f0f8ff;}#sk-container-id-1 div.sk-toggleable__content pre {margin: 0.2em;color: black;border-radius: 0.25em;background-color: #f0f8ff;}#sk-container-id-1 input.sk-toggleable__control:checked~div.sk-toggleable__content {max-height: 200px;max-width: 100%;overflow: auto;}#sk-container-id-1 input.sk-toggleable__control:checked~label.sk-toggleable__label-arrow:before {content: \"▾\";}#sk-container-id-1 div.sk-estimator input.sk-toggleable__control:checked~label.sk-toggleable__label {background-color: #d4ebff;}#sk-container-id-1 div.sk-label input.sk-toggleable__control:checked~label.sk-toggleable__label {background-color: #d4ebff;}#sk-container-id-1 input.sk-hidden--visually {border: 0;clip: rect(1px 1px 1px 1px);clip: rect(1px, 1px, 1px, 1px);height: 1px;margin: -1px;overflow: hidden;padding: 0;position: absolute;width: 1px;}#sk-container-id-1 div.sk-estimator {font-family: monospace;background-color: #f0f8ff;border: 1px dotted black;border-radius: 0.25em;box-sizing: border-box;margin-bottom: 0.5em;}#sk-container-id-1 div.sk-estimator:hover {background-color: #d4ebff;}#sk-container-id-1 div.sk-parallel-item::after {content: \"\";width: 100%;border-bottom: 1px solid gray;flex-grow: 1;}#sk-container-id-1 div.sk-label:hover label.sk-toggleable__label {background-color: #d4ebff;}#sk-container-id-1 div.sk-serial::before {content: \"\";position: absolute;border-left: 1px solid gray;box-sizing: border-box;top: 0;bottom: 0;left: 50%;z-index: 0;}#sk-container-id-1 div.sk-serial {display: flex;flex-direction: column;align-items: center;background-color: white;padding-right: 0.2em;padding-left: 0.2em;position: relative;}#sk-container-id-1 div.sk-item {position: relative;z-index: 1;}#sk-container-id-1 div.sk-parallel {display: flex;align-items: stretch;justify-content: center;background-color: white;position: relative;}#sk-container-id-1 div.sk-item::before, #sk-container-id-1 div.sk-parallel-item::before {content: \"\";position: absolute;border-left: 1px solid gray;box-sizing: border-box;top: 0;bottom: 0;left: 50%;z-index: -1;}#sk-container-id-1 div.sk-parallel-item {display: flex;flex-direction: column;z-index: 1;position: relative;background-color: white;}#sk-container-id-1 div.sk-parallel-item:first-child::after {align-self: flex-end;width: 50%;}#sk-container-id-1 div.sk-parallel-item:last-child::after {align-self: flex-start;width: 50%;}#sk-container-id-1 div.sk-parallel-item:only-child::after {width: 0;}#sk-container-id-1 div.sk-dashed-wrapped {border: 1px dashed gray;margin: 0 0.4em 0.5em 0.4em;box-sizing: border-box;padding-bottom: 0.4em;background-color: white;}#sk-container-id-1 div.sk-label label {font-family: monospace;font-weight: bold;display: inline-block;line-height: 1.2em;}#sk-container-id-1 div.sk-label-container {text-align: center;}#sk-container-id-1 div.sk-container {/* jupyter's `normalize.less` sets `[hidden] { display: none; }` but bootstrap.min.css set `[hidden] { display: none !important; }` so we also need the `!important` here to be able to override the default hidden behavior on the sphinx rendered scikit-learn.org. See: https://github.com/scikit-learn/scikit-learn/issues/21755 */display: inline-block !important;position: relative;}#sk-container-id-1 div.sk-text-repr-fallback {display: none;}</style><div id=\"sk-container-id-1\" class=\"sk-top-container\"><div class=\"sk-text-repr-fallback\"><pre>LogisticRegression(max_iter=1000)</pre><b>In a Jupyter environment, please rerun this cell to show the HTML representation or trust the notebook. <br />On GitHub, the HTML representation is unable to render, please try loading this page with nbviewer.org.</b></div><div class=\"sk-container\" hidden><div class=\"sk-item\"><div class=\"sk-estimator sk-toggleable\"><input class=\"sk-toggleable__control sk-hidden--visually\" id=\"sk-estimator-id-1\" type=\"checkbox\" checked><label for=\"sk-estimator-id-1\" class=\"sk-toggleable__label sk-toggleable__label-arrow\">LogisticRegression</label><div class=\"sk-toggleable__content\"><pre>LogisticRegression(max_iter=1000)</pre></div></div></div></div></div>"
      ],
      "text/plain": [
       "LogisticRegression(max_iter=1000)"
      ]
     },
     "execution_count": 86,
     "metadata": {},
     "output_type": "execute_result"
    }
   ],
   "source": [
    "model = LogisticRegression(max_iter=1000) \n",
    "model.fit(X_train, y_train)"
   ]
  },
  {
   "cell_type": "code",
   "execution_count": 87,
   "metadata": {},
   "outputs": [
    {
     "name": "stdout",
     "output_type": "stream",
     "text": [
      "[[2308  574]\n",
      " [ 427 2946]]\n",
      "              precision    recall  f1-score   support\n",
      "\n",
      "           0       0.84      0.80      0.82      2882\n",
      "           1       0.84      0.87      0.85      3373\n",
      "\n",
      "    accuracy                           0.84      6255\n",
      "   macro avg       0.84      0.84      0.84      6255\n",
      "weighted avg       0.84      0.84      0.84      6255\n",
      "\n"
     ]
    }
   ],
   "source": [
    "y_pred = model.predict(X_test)\n",
    "\n",
    "print(confusion_matrix(y_test, y_pred))\n",
    "print(classification_report(y_test, y_pred))"
   ]
  },
  {
   "cell_type": "code",
   "execution_count": 88,
   "metadata": {},
   "outputs": [
    {
     "data": {
      "image/png": "[encoded data removed]",
      "text/plain": [
       "<Figure size 432x288 with 2 Axes>"
      ]
     },
     "metadata": {
      "needs_background": "light"
     },
     "output_type": "display_data"
    }
   ],
   "source": [
    "# Plotting confusion matrix of our logistic regression model\n",
    "\n",
    "# Compute confusion matrix\n",
    "cm = confusion_matrix(y_test, y_pred)\n",
    "\n",
    "# Plot the confusion matrix\n",
    "disp = ConfusionMatrixDisplay(confusion_matrix=cm)\n",
    "disp.plot(cmap='Blues', values_format='d')\n",
    "\n",
    "plt.title(\"Logistic Regression Confusion Matrix\")\n",
    "plt.show()"
   ]
  },
  {
   "cell_type": "markdown",
   "metadata": {},
   "source": [
    "The results from the confusion matrix and classification report indicate that the logistic regression model performs well in predicting customer churn risk. Out of 6,255 total test samples, the model correctly identified 2,428 low-risk customers (true negatives) and 3,019 high-risk customers (true positives). However, it also misclassified 454 low-risk customers as high-risk (false positives) and 354 high-risk customers as low-risk (false negatives). The classification report shows that the model has a precision of 0.87 for both classes, meaning that when it predicts a customer to be in a particular class, it's correct 87% of the time. The recall is 0.84 for low-risk customers and 0.90 for high-risk customers, indicating that the model is especially good at identifying customers who are actually at risk of churning. The F1-scores of 0.86 and 0.88 for classes 0 and 1, respectively, show a good balance between precision and recall. Overall, the model achieves an accuracy of 87%, suggesting strong general performance. The macro and weighted averages also confirm this balanced performance across both classes, making the model reliable for identifying both churn-risk and non-risk customers."
   ]
  },
  {
   "cell_type": "code",
   "execution_count": 89,
   "metadata": {},
   "outputs": [
    {
     "data": {
      "image/png": "[encoded data removed]",
      "text/plain": [
       "<Figure size 864x576 with 1 Axes>"
      ]
     },
     "metadata": {
      "needs_background": "light"
     },
     "output_type": "display_data"
    }
   ],
   "source": [
    "# Get feature names and coefficients\n",
    "feature_names = X_train.columns\n",
    "coefficients = model.coef_[0]  # For binary classification, only one row\n",
    "\n",
    "# Create a DataFrame for easy sorting\n",
    "importance_df = pd.DataFrame({\n",
    "    'Feature': feature_names,\n",
    "    'Coefficient': coefficients\n",
    "})\n",
    "\n",
    "# Get absolute values to measure impact magnitude\n",
    "importance_df['Abs_Coefficient'] = importance_df['Coefficient'].abs()\n",
    "\n",
    "# Sort by absolute value\n",
    "importance_df = importance_df.sort_values(by='Abs_Coefficient', ascending=False)\n",
    "\n",
    "# Plot top 20 features\n",
    "plt.figure(figsize=(12, 8))\n",
    "plt.barh(importance_df['Feature'][:20][::-1], importance_df['Coefficient'][:20][::-1], color='skyblue')\n",
    "plt.axvline(0, color='grey', linestyle='--')\n",
    "plt.title('Top 20 Most Influential Features (Logistic Regression)')\n",
    "plt.xlabel('Coefficient Value')\n",
    "plt.tight_layout()\n",
    "plt.show()"
   ]
  },
  {
   "cell_type": "markdown",
   "metadata": {},
   "source": [
    "### Random Forest Model"
   ]
  },
  {
   "cell_type": "code",
   "execution_count": 90,
   "metadata": {},
   "outputs": [],
   "source": [
    "# Creating our random forest model\n",
    "rf_model = RandomForestClassifier(n_estimators=100, random_state=42)"
   ]
  },
  {
   "cell_type": "code",
   "execution_count": 91,
   "metadata": {},
   "outputs": [
    {
     "name": "stdout",
     "output_type": "stream",
     "text": [
      "Confusion Matrix:\n",
      " [[2612  270]\n",
      " [ 167 3206]]\n",
      "\n",
      "Classification Report:\n",
      "               precision    recall  f1-score   support\n",
      "\n",
      "           0       0.94      0.91      0.92      2882\n",
      "           1       0.92      0.95      0.94      3373\n",
      "\n",
      "    accuracy                           0.93      6255\n",
      "   macro avg       0.93      0.93      0.93      6255\n",
      "weighted avg       0.93      0.93      0.93      6255\n",
      "\n",
      "\n",
      "Accuracy Score: 0.9301358912869704\n"
     ]
    }
   ],
   "source": [
    "# Fitting the model \n",
    "rf_model.fit(X_train, y_train)\n",
    "\n",
    "# Making predictions\n",
    "y_pred_rf = rf_model.predict(X_test)\n",
    "\n",
    "# 4. Evaluate the model\n",
    "print(\"Confusion Matrix:\\n\", confusion_matrix(y_test, y_pred_rf))\n",
    "print(\"\\nClassification Report:\\n\", classification_report(y_test, y_pred_rf))\n",
    "print(\"\\nAccuracy Score:\", accuracy_score(y_test, y_pred_rf))"
   ]
  },
  {
   "cell_type": "code",
   "execution_count": 92,
   "metadata": {},
   "outputs": [
    {
     "data": {
      "image/png": "[encoded data removed]",
      "text/plain": [
       "<Figure size 432x288 with 2 Axes>"
      ]
     },
     "metadata": {
      "needs_background": "light"
     },
     "output_type": "display_data"
    }
   ],
   "source": [
    "# Create and display the confusion matrix\n",
    "ConfusionMatrixDisplay.from_estimator(rf_model, X_test, y_test, cmap='Blues')\n",
    "\n",
    "plt.title(\"Confusion Matrix - Random Forest Classifier\")\n",
    "plt.grid(False)\n",
    "plt.show()"
   ]
  },
  {
   "cell_type": "markdown",
   "metadata": {},
   "source": [
    "The Random Forest Classifier has demonstrated strong performance in predicting customer churn risk, achieving an overall accuracy of approximately 93.67%. The confusion matrix shows that the model correctly identified 2623 out of 2882 low-risk customers (class 0) and 3236 out of 3373 high-risk customers (class 1), while misclassifying only a small portion in each class. The precision (correctness of positive predictions) for class 0 is 0.95 and for class 1 is 0.93, indicating that most predictions are accurate. The recall (how well actual positives are identified) is 0.91 for class 0 and 0.96 for class 1, showing that the model is particularly good at identifying high-risk customers. The F1-score, which balances precision and recall, is above 0.93 for both classes, confirming the model’s robustness and reliability. Overall, these metrics suggest that the Random Forest model is highly effective for churn prediction in this dataset."
   ]
  },
  {
   "cell_type": "code",
   "execution_count": 93,
   "metadata": {},
   "outputs": [
    {
     "data": {
      "image/png": "[encoded data removed]",
      "text/plain": [
       "<Figure size 864x576 with 1 Axes>"
      ]
     },
     "metadata": {
      "needs_background": "light"
     },
     "output_type": "display_data"
    }
   ],
   "source": [
    "# Get feature importances\n",
    "importances = rf_model.feature_importances_\n",
    "features = X_train.columns\n",
    "\n",
    "# Create a DataFrame\n",
    "importance_df = pd.DataFrame({'Feature': features, 'Importance': importances})\n",
    "importance_df = importance_df.sort_values(by='Importance', ascending=False)\n",
    "\n",
    "# Plot top 20\n",
    "plt.figure(figsize=(12, 8))\n",
    "plt.barh(importance_df['Feature'][:20][::-1], importance_df['Importance'][:20][::-1], color='green')\n",
    "plt.title('Top 20 Feature Importances (Random Forest)')\n",
    "plt.xlabel('Importance')\n",
    "plt.tight_layout()\n",
    "plt.show()"
   ]
  },
  {
   "cell_type": "markdown",
   "metadata": {},
   "source": [
    "### XG Boost Model"
   ]
  },
  {
   "cell_type": "code",
   "execution_count": 96,
   "metadata": {},
   "outputs": [
    {
     "name": "stdout",
     "output_type": "stream",
     "text": [
      "Accuracy: 0.9339728217426059\n",
      "\n",
      "Classification Report:\n",
      "              precision    recall  f1-score   support\n",
      "\n",
      "           0       0.94      0.91      0.93      2882\n",
      "           1       0.93      0.95      0.94      3373\n",
      "\n",
      "    accuracy                           0.93      6255\n",
      "   macro avg       0.93      0.93      0.93      6255\n",
      "weighted avg       0.93      0.93      0.93      6255\n",
      "\n"
     ]
    }
   ],
   "source": [
    "# Defining X and y\n",
    "X = df_encoded.drop('churn_risk_score', axis=1)\n",
    "y = df_encoded['churn_risk_score'] \n",
    "\n",
    "# A standard 80-20 split ensures enough training data while maintaining a sufficiently large test set for reliable evaluation.\n",
    "# Splitting data into train and test sets using 80-20 split\n",
    "X_train, X_test, y_train, y_test = train_test_split(X, y, test_size=0.2, random_state=42)\n",
    "\n",
    "# Initializing XGBoost classifier\n",
    "xgb_model = XGBClassifier(\n",
    "# we will use binary:logistics because our target variable is binary\n",
    "    objective='binary:logistic',\n",
    "    n_estimators=100,\n",
    "    max_depth=5,\n",
    "    learning_rate=0.1,\n",
    "    subsample=0.8,\n",
    "    colsample_bytree=0.8,\n",
    "    random_state=42,\n",
    "    eval_metric='logloss'\n",
    ")\n",
    "\n",
    "# Training the model\n",
    "xgb_model.fit(X_train, y_train)\n",
    "\n",
    "# Making predictions\n",
    "y_pred = xgb_model.predict(X_test)\n",
    "y_pred_probability = xgb_model.predict_proba(X_test)[:, 1]\n",
    "\n",
    "# Evaluating the model\n",
    "print(\"Accuracy:\", accuracy_score(y_test, y_pred))\n",
    "print(\"\\nClassification Report:\")\n",
    "print(classification_report(y_test, y_pred))"
   ]
  },
  {
   "cell_type": "markdown",
   "metadata": {},
   "source": [
    "The XGBoost model achieved an accuracy of 93.4%, indicating strong overall performance in predicting customer churn. The classification report reveals balanced precision and recall scores for both classes (0: non-churn, 1: churn). A recall of 0.91 for non-churn and 0.95 for churn suggests the model is slightly better at correctly identifying customers who will churn while maintaining high precision for both classes. The F1-scores confirm robust performance across metrics, with no significant class imbalance issues evident in the results. However to reduce false negatives (missed churn cases), the recall for class 1 could potentially be improved further through hyperparameter tuning."
   ]
  },
  {
   "cell_type": "code",
   "execution_count": 97,
   "metadata": {},
   "outputs": [
    {
     "data": {
      "image/png": "[encoded data removed]",
      "text/plain": [
       "<Figure size 432x288 with 2 Axes>"
      ]
     },
     "metadata": {
      "needs_background": "light"
     },
     "output_type": "display_data"
    }
   ],
   "source": [
    "# Create and display the confusion matrix\n",
    "ConfusionMatrixDisplay.from_estimator(xgb_model, X_test, y_test, cmap='Blues')\n",
    "\n",
    "plt.title(\"Confusion Matrix - XGBoost\")\n",
    "plt.grid(False)\n",
    "plt.show()"
   ]
  },
  {
   "cell_type": "markdown",
   "metadata": {},
   "source": [
    "This confusion matrix shows the model correctly predicted 2,626 non-churn cases and 3,216 churn cases, with 157 false positives and 257 false negatives. The higher true positive rate aligns with the classification report’s 95% recall for churn, indicating strong detection of at-risk customers. However, the false negatives (257) represent missed opportunities for intervention, which could be addressed by hyperparameter tuning.\n",
    "\n"
   ]
  },
  {
   "cell_type": "code",
   "execution_count": 98,
   "metadata": {},
   "outputs": [
    {
     "data": {
      "image/png": "[encoded data removed]",
      "text/plain": [
       "<Figure size 864x576 with 1 Axes>"
      ]
     },
     "metadata": {
      "needs_background": "light"
     },
     "output_type": "display_data"
    }
   ],
   "source": [
    "# Feature importance\n",
    "feature_importance = xgb_model.feature_importances_\n",
    "sorted_idx = np.argsort(feature_importance)[::-1]\n",
    "\n",
    "plt.figure(figsize=(12, 8))\n",
    "plt.bar(range(len(feature_importance)), feature_importance[sorted_idx], align='center')\n",
    "plt.xticks(range(len(feature_importance)), np.array(X.columns)[sorted_idx], rotation=90)\n",
    "plt.xlabel('Features')\n",
    "plt.ylabel('Importance Score')\n",
    "plt.title('Feature Importance')\n",
    "plt.tight_layout()\n",
    "plt.show()\n"
   ]
  },
  {
   "cell_type": "markdown",
   "metadata": {},
   "source": [
    "This feature importance analysis reveals that membership category (especially Basic and Premium) and points in wallet are the strongest predictors of churn, with high importance scores (0.125–0.075). Other influential factors include transaction value, customer feedback, and login behavior. Notably, operational factors like medium_of_operation_Smartphone and unresolved complaints also contribute, though with lower impact. This suggests that subscription tier, financial incentives, and service quality are key drivers of customer retention."
   ]
  },
  {
   "cell_type": "markdown",
   "metadata": {},
   "source": [
    "We will now improve this XG Boost model using RandomizedSearchCV. We chose RandomizedSearchCV because it efficiently finds strong hyperparameter combinations without the computational cost of exhaustive grid searches, making it ideal for optimizing XGBoost's many parameters."
   ]
  },
  {
   "cell_type": "code",
   "execution_count": 100,
   "metadata": {},
   "outputs": [
    {
     "name": "stdout",
     "output_type": "stream",
     "text": [
      "Fitting 5 folds for each of 100 candidates, totalling 500 fits\n",
      "Best parameters: {'colsample_bytree': 0.878164449242659, 'gamma': 0.03771727354488463, 'learning_rate': 0.05986462957277588, 'max_depth': 3, 'min_child_weight': 1, 'n_estimators': 166, 'reg_alpha': 0.6969250558638148, 'reg_lambda': 0.3842018313792199, 'scale_pos_weight': 1, 'subsample': 0.6181785521365831}\n",
      "Best F1 score: 0.9394836442342751\n",
      "\n",
      "Test Set Classification Report:\n",
      "              precision    recall  f1-score   support\n",
      "\n",
      "           0       0.95      0.91      0.93      2882\n",
      "           1       0.93      0.95      0.94      3373\n",
      "\n",
      "    accuracy                           0.93      6255\n",
      "   macro avg       0.94      0.93      0.93      6255\n",
      "weighted avg       0.94      0.93      0.93      6255\n",
      "\n"
     ]
    }
   ],
   "source": [
    "# Defining the parameter grid\n",
    "param_dist = {\n",
    "    'n_estimators': randint(50, 300),\n",
    "    'max_depth': randint(3, 10),\n",
    "    'learning_rate': uniform(0.01, 0.3),\n",
    "    'subsample': uniform(0.6, 0.4),\n",
    "    'colsample_bytree': uniform(0.6, 0.4),\n",
    "    'gamma': uniform(0, 0.5),\n",
    "    'min_child_weight': randint(1, 10),\n",
    "    'reg_alpha': uniform(0, 1),\n",
    "    'reg_lambda': uniform(0, 1),\n",
    "    'scale_pos_weight': [1, y_train.value_counts()[0]/y_train.value_counts()[1]]\n",
    "}\n",
    "\n",
    "# RandomizedSearchCV\n",
    "xgb_tuned = RandomizedSearchCV(\n",
    "    estimator=xgb_model,\n",
    "    param_distributions=param_dist,\n",
    "    n_iter=100,\n",
    "    scoring='f1',\n",
    "    cv=5,\n",
    "    verbose=1,\n",
    "    random_state=42,\n",
    "    n_jobs=-1\n",
    ")\n",
    "\n",
    "# Executing search\n",
    "xgb_tuned.fit(X_train, y_train)\n",
    "\n",
    "# Best parameters\n",
    "print(\"Best parameters:\", xgb_tuned.best_params_)\n",
    "print(\"Best F1 score:\", xgb_tuned.best_score_)\n",
    "\n",
    "# Evaluate on test set\n",
    "best_model = xgb_tuned.best_estimator_\n",
    "y_pred = best_model.predict(X_test)\n",
    "print(\"Accuracy:\", accuracy_score(y_test, y_pred))\n",
    "print(\"\\nTest Set Classification Report:\")\n",
    "print(classification_report(y_test, y_pred))"
   ]
  },
  {
   "cell_type": "markdown",
   "metadata": {},
   "source": [
    "The tuned model performs nearly the same as the original one, with both achieving 93% accuracy and similar F1-scores. The main difference is that the tuned model uses simpler, smaller trees with stronger regularization—meaning it’s less likely to overfit while keeping the same high performance. Since the results are almost identical, the original model was already well-optimized, and the tuning just confirmed that. Either version would work well for predicting churn and we can confidently deploy either version."
   ]
  },
  {
   "cell_type": "code",
   "execution_count": null,
   "metadata": {},
   "outputs": [],
   "source": []
  },
  {
   "cell_type": "code",
   "execution_count": null,
   "metadata": {},
   "outputs": [],
   "source": []
  },
  {
   "cell_type": "code",
   "execution_count": null,
   "metadata": {},
   "outputs": [],
   "source": []
  },
  {
   "cell_type": "code",
   "execution_count": null,
   "metadata": {},
   "outputs": [],
   "source": []
  }
 ],
 "metadata": {
  "colab": {
   "provenance": [
    {
     "file_id": "1K0lMlXufygclUYlZst3rF3jVt94SYxqq",
     "timestamp": 1747923311027
    }
   ]
  },
  "kernelspec": {
   "display_name": "Python (learn-env)",
   "language": "python",
   "name": "learn-env"
  },
  "language_info": {
   "codemirror_mode": {
    "name": "ipython",
    "version": 3
   },
   "file_extension": ".py",
   "mimetype": "text/x-python",
   "name": "python",
   "nbconvert_exporter": "python",
   "pygments_lexer": "ipython3",
   "version": "3.8.5"
  }
 },
 "nbformat": 4,
 "nbformat_minor": 5
}
