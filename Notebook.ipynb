{
 "cells": [
  {
   "cell_type": "code",
   "execution_count": 1,
   "metadata": {
    "id": "3af69fd9-5a56-4bfb-8cc7-f641fb6e7aa3"
   },
   "outputs": [],
   "source": [
    "#Import necessary libraries\n",
    "import pandas as pd\n",
    "import numpy as np\n",
    "import matplotlib.pyplot as plt\n",
    "import seaborn as sns\n",
    "from sklearn.model_selection import train_test_split\n",
    "from sklearn.preprocessing import StandardScaler\n",
    "from sklearn.model_selection import train_test_split\n",
    "from sklearn.preprocessing import StandardScaler, LabelEncoder\n",
    "\n",
    "from sklearn.linear_model import LogisticRegression\n",
    "from sklearn.ensemble import RandomForestClassifier\n",
    "from xgboost import XGBClassifier\n",
    "\n",
    "import warnings\n",
    "warnings.filterwarnings('ignore')"
   ]
  },
  {
   "cell_type": "code",
   "execution_count": 2,
   "metadata": {
    "colab": {
     "base_uri": "https://localhost:8080/",
     "height": 394
    },
    "id": "f23cef2c-57f7-43cf-ab84-58af9ec57f11",
    "outputId": "89cbd2eb-c8c1-462d-cb89-7c8f3beab45c"
   },
   "outputs": [
    {
     "data": {
      "text/html": [
       "<div>\n",
       "<style scoped>\n",
       "    .dataframe tbody tr th:only-of-type {\n",
       "        vertical-align: middle;\n",
       "    }\n",
       "\n",
       "    .dataframe tbody tr th {\n",
       "        vertical-align: top;\n",
       "    }\n",
       "\n",
       "    .dataframe thead th {\n",
       "        text-align: right;\n",
       "    }\n",
       "</style>\n",
       "<table border=\"1\" class=\"dataframe\">\n",
       "  <thead>\n",
       "    <tr style=\"text-align: right;\">\n",
       "      <th></th>\n",
       "      <th>age</th>\n",
       "      <th>gender</th>\n",
       "      <th>security_no</th>\n",
       "      <th>region_category</th>\n",
       "      <th>membership_category</th>\n",
       "      <th>joining_date</th>\n",
       "      <th>joined_through_referral</th>\n",
       "      <th>referral_id</th>\n",
       "      <th>preferred_offer_types</th>\n",
       "      <th>medium_of_operation</th>\n",
       "      <th>...</th>\n",
       "      <th>avg_time_spent</th>\n",
       "      <th>avg_transaction_value</th>\n",
       "      <th>avg_frequency_login_days</th>\n",
       "      <th>points_in_wallet</th>\n",
       "      <th>used_special_discount</th>\n",
       "      <th>offer_application_preference</th>\n",
       "      <th>past_complaint</th>\n",
       "      <th>complaint_status</th>\n",
       "      <th>feedback</th>\n",
       "      <th>churn_risk_score</th>\n",
       "    </tr>\n",
       "  </thead>\n",
       "  <tbody>\n",
       "    <tr>\n",
       "      <th>0</th>\n",
       "      <td>18</td>\n",
       "      <td>F</td>\n",
       "      <td>XW0DQ7H</td>\n",
       "      <td>Village</td>\n",
       "      <td>Platinum Membership</td>\n",
       "      <td>17-08-2017</td>\n",
       "      <td>No</td>\n",
       "      <td>xxxxxxxx</td>\n",
       "      <td>Gift Vouchers/Coupons</td>\n",
       "      <td>?</td>\n",
       "      <td>...</td>\n",
       "      <td>300.63</td>\n",
       "      <td>53005.25</td>\n",
       "      <td>17</td>\n",
       "      <td>781.75</td>\n",
       "      <td>Yes</td>\n",
       "      <td>Yes</td>\n",
       "      <td>No</td>\n",
       "      <td>Not Applicable</td>\n",
       "      <td>Products always in Stock</td>\n",
       "      <td>0</td>\n",
       "    </tr>\n",
       "    <tr>\n",
       "      <th>1</th>\n",
       "      <td>32</td>\n",
       "      <td>F</td>\n",
       "      <td>5K0N3X1</td>\n",
       "      <td>City</td>\n",
       "      <td>Premium Membership</td>\n",
       "      <td>28-08-2017</td>\n",
       "      <td>?</td>\n",
       "      <td>CID21329</td>\n",
       "      <td>Gift Vouchers/Coupons</td>\n",
       "      <td>Desktop</td>\n",
       "      <td>...</td>\n",
       "      <td>306.34</td>\n",
       "      <td>12838.38</td>\n",
       "      <td>10</td>\n",
       "      <td>NaN</td>\n",
       "      <td>Yes</td>\n",
       "      <td>No</td>\n",
       "      <td>Yes</td>\n",
       "      <td>Solved</td>\n",
       "      <td>Quality Customer Care</td>\n",
       "      <td>0</td>\n",
       "    </tr>\n",
       "    <tr>\n",
       "      <th>2</th>\n",
       "      <td>44</td>\n",
       "      <td>F</td>\n",
       "      <td>1F2TCL3</td>\n",
       "      <td>Town</td>\n",
       "      <td>No Membership</td>\n",
       "      <td>11/11/2016</td>\n",
       "      <td>Yes</td>\n",
       "      <td>CID12313</td>\n",
       "      <td>Gift Vouchers/Coupons</td>\n",
       "      <td>Desktop</td>\n",
       "      <td>...</td>\n",
       "      <td>516.16</td>\n",
       "      <td>21027.00</td>\n",
       "      <td>22</td>\n",
       "      <td>500.69</td>\n",
       "      <td>No</td>\n",
       "      <td>Yes</td>\n",
       "      <td>Yes</td>\n",
       "      <td>Solved in Follow-up</td>\n",
       "      <td>Poor Website</td>\n",
       "      <td>1</td>\n",
       "    </tr>\n",
       "    <tr>\n",
       "      <th>3</th>\n",
       "      <td>37</td>\n",
       "      <td>M</td>\n",
       "      <td>VJGJ33N</td>\n",
       "      <td>City</td>\n",
       "      <td>No Membership</td>\n",
       "      <td>29-10-2016</td>\n",
       "      <td>Yes</td>\n",
       "      <td>CID3793</td>\n",
       "      <td>Gift Vouchers/Coupons</td>\n",
       "      <td>Desktop</td>\n",
       "      <td>...</td>\n",
       "      <td>53.27</td>\n",
       "      <td>25239.56</td>\n",
       "      <td>6</td>\n",
       "      <td>567.66</td>\n",
       "      <td>No</td>\n",
       "      <td>Yes</td>\n",
       "      <td>Yes</td>\n",
       "      <td>Unsolved</td>\n",
       "      <td>Poor Website</td>\n",
       "      <td>1</td>\n",
       "    </tr>\n",
       "    <tr>\n",
       "      <th>4</th>\n",
       "      <td>31</td>\n",
       "      <td>F</td>\n",
       "      <td>SVZXCWB</td>\n",
       "      <td>City</td>\n",
       "      <td>No Membership</td>\n",
       "      <td>12/9/2017</td>\n",
       "      <td>No</td>\n",
       "      <td>xxxxxxxx</td>\n",
       "      <td>Credit/Debit Card Offers</td>\n",
       "      <td>Smartphone</td>\n",
       "      <td>...</td>\n",
       "      <td>113.13</td>\n",
       "      <td>24483.66</td>\n",
       "      <td>16</td>\n",
       "      <td>663.06</td>\n",
       "      <td>No</td>\n",
       "      <td>Yes</td>\n",
       "      <td>Yes</td>\n",
       "      <td>Solved</td>\n",
       "      <td>Poor Website</td>\n",
       "      <td>1</td>\n",
       "    </tr>\n",
       "  </tbody>\n",
       "</table>\n",
       "<p>5 rows × 23 columns</p>\n",
       "</div>"
      ],
      "text/plain": [
       "   age gender security_no region_category  membership_category joining_date  \\\n",
       "0   18      F     XW0DQ7H         Village  Platinum Membership   17-08-2017   \n",
       "1   32      F     5K0N3X1            City   Premium Membership   28-08-2017   \n",
       "2   44      F     1F2TCL3            Town        No Membership   11/11/2016   \n",
       "3   37      M     VJGJ33N            City        No Membership   29-10-2016   \n",
       "4   31      F     SVZXCWB            City        No Membership    12/9/2017   \n",
       "\n",
       "  joined_through_referral referral_id     preferred_offer_types  \\\n",
       "0                      No    xxxxxxxx     Gift Vouchers/Coupons   \n",
       "1                       ?    CID21329     Gift Vouchers/Coupons   \n",
       "2                     Yes    CID12313     Gift Vouchers/Coupons   \n",
       "3                     Yes     CID3793     Gift Vouchers/Coupons   \n",
       "4                      No    xxxxxxxx  Credit/Debit Card Offers   \n",
       "\n",
       "  medium_of_operation  ... avg_time_spent avg_transaction_value  \\\n",
       "0                   ?  ...         300.63              53005.25   \n",
       "1             Desktop  ...         306.34              12838.38   \n",
       "2             Desktop  ...         516.16              21027.00   \n",
       "3             Desktop  ...          53.27              25239.56   \n",
       "4          Smartphone  ...         113.13              24483.66   \n",
       "\n",
       "   avg_frequency_login_days  points_in_wallet  used_special_discount  \\\n",
       "0                        17            781.75                    Yes   \n",
       "1                        10               NaN                    Yes   \n",
       "2                        22            500.69                     No   \n",
       "3                         6            567.66                     No   \n",
       "4                        16            663.06                     No   \n",
       "\n",
       "  offer_application_preference  past_complaint     complaint_status  \\\n",
       "0                          Yes              No       Not Applicable   \n",
       "1                           No             Yes               Solved   \n",
       "2                          Yes             Yes  Solved in Follow-up   \n",
       "3                          Yes             Yes             Unsolved   \n",
       "4                          Yes             Yes               Solved   \n",
       "\n",
       "                   feedback churn_risk_score  \n",
       "0  Products always in Stock                0  \n",
       "1     Quality Customer Care                0  \n",
       "2              Poor Website                1  \n",
       "3              Poor Website                1  \n",
       "4              Poor Website                1  \n",
       "\n",
       "[5 rows x 23 columns]"
      ]
     },
     "execution_count": 2,
     "metadata": {},
     "output_type": "execute_result"
    }
   ],
   "source": [
    "# Load dataset from absolute path\n",
    "df = pd.read_csv(\"customer_churn.csv\")\n",
    "#load the first 5 columns\n",
    "df.head()"
   ]
  },
  {
   "cell_type": "code",
   "execution_count": 3,
   "metadata": {
    "colab": {
     "base_uri": "https://localhost:8080/"
    },
    "id": "86754194-a187-4b13-95ca-45e10e709923",
    "outputId": "316bab6b-8ad7-4a0e-ace2-3d095b5e243a"
   },
   "outputs": [
    {
     "data": {
      "text/plain": [
       "(36992, 23)"
      ]
     },
     "execution_count": 3,
     "metadata": {},
     "output_type": "execute_result"
    }
   ],
   "source": [
    "#Getting the shape of dataframe\n",
    "df.shape"
   ]
  },
  {
   "cell_type": "code",
   "execution_count": 4,
   "metadata": {
    "colab": {
     "base_uri": "https://localhost:8080/"
    },
    "id": "623b4b8e-eb20-412a-884d-3cc519ce93ac",
    "outputId": "9fb40b08-658b-4cd0-c562-21db1b2051d2"
   },
   "outputs": [
    {
     "data": {
      "text/plain": [
       "Index(['age', 'gender', 'security_no', 'region_category',\n",
       "       'membership_category', 'joining_date', 'joined_through_referral',\n",
       "       'referral_id', 'preferred_offer_types', 'medium_of_operation',\n",
       "       'internet_option', 'last_visit_time', 'days_since_last_login',\n",
       "       'avg_time_spent', 'avg_transaction_value', 'avg_frequency_login_days',\n",
       "       'points_in_wallet', 'used_special_discount',\n",
       "       'offer_application_preference', 'past_complaint', 'complaint_status',\n",
       "       'feedback', 'churn_risk_score'],\n",
       "      dtype='object')"
      ]
     },
     "execution_count": 4,
     "metadata": {},
     "output_type": "execute_result"
    }
   ],
   "source": [
    "# Loading all columns that exist in our dataframe\n",
    "df.columns"
   ]
  },
  {
   "cell_type": "code",
   "execution_count": 5,
   "metadata": {
    "colab": {
     "base_uri": "https://localhost:8080/"
    },
    "id": "6df76862-4953-4509-8732-5111fb89f084",
    "outputId": "23c64855-0eb9-4c88-8f44-8232cd2ae91e"
   },
   "outputs": [
    {
     "name": "stdout",
     "output_type": "stream",
     "text": [
      "<class 'pandas.core.frame.DataFrame'>\n",
      "RangeIndex: 36992 entries, 0 to 36991\n",
      "Data columns (total 23 columns):\n",
      " #   Column                        Non-Null Count  Dtype  \n",
      "---  ------                        --------------  -----  \n",
      " 0   age                           36992 non-null  int64  \n",
      " 1   gender                        36992 non-null  object \n",
      " 2   security_no                   36992 non-null  object \n",
      " 3   region_category               31564 non-null  object \n",
      " 4   membership_category           36992 non-null  object \n",
      " 5   joining_date                  36992 non-null  object \n",
      " 6   joined_through_referral       36992 non-null  object \n",
      " 7   referral_id                   36992 non-null  object \n",
      " 8   preferred_offer_types         36704 non-null  object \n",
      " 9   medium_of_operation           36992 non-null  object \n",
      " 10  internet_option               36992 non-null  object \n",
      " 11  last_visit_time               36992 non-null  object \n",
      " 12  days_since_last_login         36992 non-null  int64  \n",
      " 13  avg_time_spent                36992 non-null  float64\n",
      " 14  avg_transaction_value         36992 non-null  float64\n",
      " 15  avg_frequency_login_days      36992 non-null  object \n",
      " 16  points_in_wallet              33549 non-null  float64\n",
      " 17  used_special_discount         36992 non-null  object \n",
      " 18  offer_application_preference  36992 non-null  object \n",
      " 19  past_complaint                36992 non-null  object \n",
      " 20  complaint_status              36992 non-null  object \n",
      " 21  feedback                      36992 non-null  object \n",
      " 22  churn_risk_score              36992 non-null  int64  \n",
      "dtypes: float64(3), int64(3), object(17)\n",
      "memory usage: 6.5+ MB\n"
     ]
    }
   ],
   "source": [
    "#Data types in our dataframe\n",
    "df.info()"
   ]
  },
  {
   "cell_type": "code",
   "execution_count": 6,
   "metadata": {
    "colab": {
     "base_uri": "https://localhost:8080/",
     "height": 300
    },
    "id": "fddd1729-8571-4632-a610-c4d92c2039b5",
    "outputId": "d3a6b019-55ec-4a65-d976-56071a8f6f68"
   },
   "outputs": [
    {
     "data": {
      "text/html": [
       "<div>\n",
       "<style scoped>\n",
       "    .dataframe tbody tr th:only-of-type {\n",
       "        vertical-align: middle;\n",
       "    }\n",
       "\n",
       "    .dataframe tbody tr th {\n",
       "        vertical-align: top;\n",
       "    }\n",
       "\n",
       "    .dataframe thead th {\n",
       "        text-align: right;\n",
       "    }\n",
       "</style>\n",
       "<table border=\"1\" class=\"dataframe\">\n",
       "  <thead>\n",
       "    <tr style=\"text-align: right;\">\n",
       "      <th></th>\n",
       "      <th>age</th>\n",
       "      <th>days_since_last_login</th>\n",
       "      <th>avg_time_spent</th>\n",
       "      <th>avg_transaction_value</th>\n",
       "      <th>points_in_wallet</th>\n",
       "      <th>churn_risk_score</th>\n",
       "    </tr>\n",
       "  </thead>\n",
       "  <tbody>\n",
       "    <tr>\n",
       "      <th>count</th>\n",
       "      <td>36992.000000</td>\n",
       "      <td>36992.000000</td>\n",
       "      <td>36992.000000</td>\n",
       "      <td>36992.000000</td>\n",
       "      <td>33549.000000</td>\n",
       "      <td>36992.000000</td>\n",
       "    </tr>\n",
       "    <tr>\n",
       "      <th>mean</th>\n",
       "      <td>37.118161</td>\n",
       "      <td>-41.915576</td>\n",
       "      <td>243.472334</td>\n",
       "      <td>29271.194003</td>\n",
       "      <td>686.882199</td>\n",
       "      <td>0.540982</td>\n",
       "    </tr>\n",
       "    <tr>\n",
       "      <th>std</th>\n",
       "      <td>15.867412</td>\n",
       "      <td>228.819900</td>\n",
       "      <td>398.289149</td>\n",
       "      <td>19444.806226</td>\n",
       "      <td>194.063624</td>\n",
       "      <td>0.498324</td>\n",
       "    </tr>\n",
       "    <tr>\n",
       "      <th>min</th>\n",
       "      <td>10.000000</td>\n",
       "      <td>-999.000000</td>\n",
       "      <td>-2814.109110</td>\n",
       "      <td>800.460000</td>\n",
       "      <td>-760.661236</td>\n",
       "      <td>0.000000</td>\n",
       "    </tr>\n",
       "    <tr>\n",
       "      <th>25%</th>\n",
       "      <td>23.000000</td>\n",
       "      <td>8.000000</td>\n",
       "      <td>60.102500</td>\n",
       "      <td>14177.540000</td>\n",
       "      <td>616.150000</td>\n",
       "      <td>0.000000</td>\n",
       "    </tr>\n",
       "    <tr>\n",
       "      <th>50%</th>\n",
       "      <td>37.000000</td>\n",
       "      <td>12.000000</td>\n",
       "      <td>161.765000</td>\n",
       "      <td>27554.485000</td>\n",
       "      <td>697.620000</td>\n",
       "      <td>1.000000</td>\n",
       "    </tr>\n",
       "    <tr>\n",
       "      <th>75%</th>\n",
       "      <td>51.000000</td>\n",
       "      <td>16.000000</td>\n",
       "      <td>356.515000</td>\n",
       "      <td>40855.110000</td>\n",
       "      <td>763.950000</td>\n",
       "      <td>1.000000</td>\n",
       "    </tr>\n",
       "    <tr>\n",
       "      <th>max</th>\n",
       "      <td>64.000000</td>\n",
       "      <td>26.000000</td>\n",
       "      <td>3235.578521</td>\n",
       "      <td>99914.050000</td>\n",
       "      <td>2069.069761</td>\n",
       "      <td>1.000000</td>\n",
       "    </tr>\n",
       "  </tbody>\n",
       "</table>\n",
       "</div>"
      ],
      "text/plain": [
       "                age  days_since_last_login  avg_time_spent  \\\n",
       "count  36992.000000           36992.000000    36992.000000   \n",
       "mean      37.118161             -41.915576      243.472334   \n",
       "std       15.867412             228.819900      398.289149   \n",
       "min       10.000000            -999.000000    -2814.109110   \n",
       "25%       23.000000               8.000000       60.102500   \n",
       "50%       37.000000              12.000000      161.765000   \n",
       "75%       51.000000              16.000000      356.515000   \n",
       "max       64.000000              26.000000     3235.578521   \n",
       "\n",
       "       avg_transaction_value  points_in_wallet  churn_risk_score  \n",
       "count           36992.000000      33549.000000      36992.000000  \n",
       "mean            29271.194003        686.882199          0.540982  \n",
       "std             19444.806226        194.063624          0.498324  \n",
       "min               800.460000       -760.661236          0.000000  \n",
       "25%             14177.540000        616.150000          0.000000  \n",
       "50%             27554.485000        697.620000          1.000000  \n",
       "75%             40855.110000        763.950000          1.000000  \n",
       "max             99914.050000       2069.069761          1.000000  "
      ]
     },
     "execution_count": 6,
     "metadata": {},
     "output_type": "execute_result"
    }
   ],
   "source": [
    "#Distribution of values in the dataframe\n",
    "df.describe()"
   ]
  },
  {
   "cell_type": "markdown",
   "metadata": {
    "id": "5c2fcbd8-b13d-4f9c-b398-a6452d5cba38"
   },
   "source": [
    "### Step 2: Clean Column Names\n",
    "\n",
    "Standardize the column names by converting them to lowercase and replacing spaces with underscores.\n"
   ]
  },
  {
   "cell_type": "code",
   "execution_count": 7,
   "metadata": {
    "id": "6286454d-5edb-4bee-bd76-fa4e066a5a9f"
   },
   "outputs": [],
   "source": [
    "df.columns = df.columns.str.lower().str.replace(' ', '_')"
   ]
  },
  {
   "cell_type": "markdown",
   "metadata": {
    "id": "2989c7ee-88a7-471f-832b-0b2e46fa3f48"
   },
   "source": [
    "Calculating percentages of null values on each column. This is to determine the best approach of dealing with the missing values"
   ]
  },
  {
   "cell_type": "code",
   "execution_count": 8,
   "metadata": {},
   "outputs": [
    {
     "data": {
      "text/plain": [
       "age                                0\n",
       "gender                             0\n",
       "security_no                        0\n",
       "region_category                 5428\n",
       "membership_category                0\n",
       "joining_date                       0\n",
       "joined_through_referral            0\n",
       "referral_id                        0\n",
       "preferred_offer_types            288\n",
       "medium_of_operation                0\n",
       "internet_option                    0\n",
       "last_visit_time                    0\n",
       "days_since_last_login              0\n",
       "avg_time_spent                     0\n",
       "avg_transaction_value              0\n",
       "avg_frequency_login_days           0\n",
       "points_in_wallet                3443\n",
       "used_special_discount              0\n",
       "offer_application_preference       0\n",
       "past_complaint                     0\n",
       "complaint_status                   0\n",
       "feedback                           0\n",
       "churn_risk_score                   0\n",
       "dtype: int64"
      ]
     },
     "execution_count": 8,
     "metadata": {},
     "output_type": "execute_result"
    }
   ],
   "source": [
    "# Check for missing values\n",
    "df.isnull().sum()"
   ]
  },
  {
   "cell_type": "code",
   "execution_count": 9,
   "metadata": {},
   "outputs": [
    {
     "data": {
      "image/png": "[encoded data removed]",
      "text/plain": [
       "<Figure size 720x432 with 1 Axes>"
      ]
     },
     "metadata": {
      "needs_background": "light"
     },
     "output_type": "display_data"
    }
   ],
   "source": [
    "# Missing values heatmap\n",
    "plt.figure(figsize=(10, 6))\n",
    "sns.heatmap(df.isnull(), cbar=False, cmap='viridis')\n",
    "plt.title(\"Missing Values Heatmap\")\n",
    "plt.show()"
   ]
  },
  {
   "cell_type": "markdown",
   "metadata": {
    "id": "28db8a78-755d-4dca-a92f-27f35aa45102"
   },
   "source": [
    "This chart shows how customers are spread across different churn risk scores (0 = low risk, 1 = high risk). This helps us see if churn is a big concern.\n"
   ]
  },
  {
   "cell_type": "code",
   "execution_count": 10,
   "metadata": {
    "colab": {
     "base_uri": "https://localhost:8080/"
    },
    "id": "062995be-4097-4245-bcf3-a2d4512613e4",
    "outputId": "754acd4b-9ad8-4fc6-e014-e8dba0260244"
   },
   "outputs": [
    {
     "name": "stdout",
     "output_type": "stream",
     "text": [
      "Percentage of null values per column:\n",
      "age                              0.000000\n",
      "gender                           0.000000\n",
      "security_no                      0.000000\n",
      "region_category                 14.673443\n",
      "membership_category              0.000000\n",
      "joining_date                     0.000000\n",
      "joined_through_referral          0.000000\n",
      "referral_id                      0.000000\n",
      "preferred_offer_types            0.778547\n",
      "medium_of_operation              0.000000\n",
      "internet_option                  0.000000\n",
      "last_visit_time                  0.000000\n",
      "days_since_last_login            0.000000\n",
      "avg_time_spent                   0.000000\n",
      "avg_transaction_value            0.000000\n",
      "avg_frequency_login_days         0.000000\n",
      "points_in_wallet                 9.307418\n",
      "used_special_discount            0.000000\n",
      "offer_application_preference     0.000000\n",
      "past_complaint                   0.000000\n",
      "complaint_status                 0.000000\n",
      "feedback                         0.000000\n",
      "churn_risk_score                 0.000000\n",
      "dtype: float64\n"
     ]
    }
   ],
   "source": [
    "# Calculate null values per column as a percentage\n",
    "null_percentage = (df.isnull().sum() / len(df)) * 100\n",
    "\n",
    "# Display the result\n",
    "print(\"Percentage of null values per column:\")\n",
    "print(null_percentage)"
   ]
  },
  {
   "cell_type": "code",
   "execution_count": 11,
   "metadata": {
    "colab": {
     "base_uri": "https://localhost:8080/",
     "height": 472
    },
    "id": "ec1a59ee-1e16-4a29-bd1c-738f6194fd34",
    "outputId": "3871676e-ea8f-4a34-bb93-d92d4377c648"
   },
   "outputs": [
    {
     "data": {
      "image/png": "[encoded data removed]",
      "text/plain": [
       "<Figure size 432x288 with 1 Axes>"
      ]
     },
     "metadata": {
      "needs_background": "light"
     },
     "output_type": "display_data"
    }
   ],
   "source": [
    "# Target distribution\n",
    "sns.countplot(x='churn_risk_score', data=df)\n",
    "plt.title(\"Churn Risk Score Distribution\")\n",
    "plt.show()"
   ]
  },
  {
   "cell_type": "markdown",
   "metadata": {
    "id": "a965672b-f727-42d5-811c-3360d2ae3c98"
   },
   "source": [
    "This heatmap shows how numerical features relate to each other. We can use it to see which features (like `tenure_days` or `feedback_sentiment`) are most connected to `churn_risk_score` when picking model inputs."
   ]
  },
  {
   "cell_type": "code",
   "execution_count": 12,
   "metadata": {
    "colab": {
     "base_uri": "https://localhost:8080/",
     "height": 841
    },
    "id": "020e8f84-da92-47ba-a5eb-bbb54e707a67",
    "outputId": "adc3e3bd-5cb4-4a0a-8581-f754271b62f9"
   },
   "outputs": [
    {
     "data": {
      "image/png": "[encoded data removed]",
      "text/plain": [
       "<Figure size 864x576 with 2 Axes>"
      ]
     },
     "metadata": {
      "needs_background": "light"
     },
     "output_type": "display_data"
    }
   ],
   "source": [
    "# Correlation heatmap\n",
    "numerical_features = df.select_dtypes(include=['float64', 'int64'])\n",
    "plt.figure(figsize=(12, 8))\n",
    "sns.heatmap(numerical_features.corr(), annot=True, cmap='coolwarm', fmt='.2f')\n",
    "plt.title(\"Correlation Heatmap\")\n",
    "plt.show()"
   ]
  },
  {
   "cell_type": "markdown",
   "metadata": {
    "id": "8be4e784-fe40-448b-bfb2-7c046a3536ff"
   },
   "source": [
    "We observe that there is no strong correlation between the numerical variables"
   ]
  },
  {
   "cell_type": "markdown",
   "metadata": {
    "id": "791a5979-0768-4250-a195-3a2dbca88630"
   },
   "source": [
    "This plot shows how customer wallet points are spread out. It helps us understand if most customers have low, average, or high points.It is useful for identifying outliers or patterns that may affect churn."
   ]
  },
  {
   "cell_type": "code",
   "execution_count": 13,
   "metadata": {
    "colab": {
     "base_uri": "https://localhost:8080/",
     "height": 410
    },
    "id": "9eff3825-f59f-43b1-b32f-abe76453755d",
    "outputId": "ef14005d-df79-48f5-ce10-d19436d129b0"
   },
   "outputs": [
    {
     "data": {
      "image/png": "[encoded data removed]",
      "text/plain": [
       "<Figure size 432x288 with 1 Axes>"
      ]
     },
     "metadata": {
      "needs_background": "light"
     },
     "output_type": "display_data"
    }
   ],
   "source": [
    "# Numerical distributions\n",
    "for col in ['points_in_wallet']:\n",
    "    plt.figure(figsize=(6, 4))\n",
    "    sns.histplot(df[col], kde=True)\n",
    "    plt.title(f\"{col} Distribution\")\n",
    "    plt.show()"
   ]
  },
  {
   "cell_type": "markdown",
   "metadata": {
    "id": "63a204e4-a65f-40c3-bdae-662a09b1beaf"
   },
   "source": [
    "From the above graph, we can see that the distribution is uniform"
   ]
  },
  {
   "cell_type": "markdown",
   "metadata": {
    "id": "6a658e03-32f6-4f72-9798-12fbc6a9f7c2"
   },
   "source": [
    "The below graph shows membership category against churn risk score."
   ]
  },
  {
   "cell_type": "code",
   "execution_count": 14,
   "metadata": {
    "colab": {
     "base_uri": "https://localhost:8080/",
     "height": 607
    },
    "id": "0f32f425-96fe-41fb-90c3-5fbb89a5f0de",
    "outputId": "2a4f5ff3-4ed0-4709-eb3d-f70bb6b1da49"
   },
   "outputs": [
    {
     "data": {
      "image/png": "[encoded data removed]",
      "text/plain": [
       "<Figure size 720x432 with 1 Axes>"
      ]
     },
     "metadata": {
      "needs_background": "light"
     },
     "output_type": "display_data"
    }
   ],
   "source": [
    "# Plot count of membership category vs churn risk score\n",
    "plt.figure(figsize=(10, 6))\n",
    "sns.countplot(data=df, x='membership_category', hue='churn_risk_score')\n",
    "\n",
    "# Visuals\n",
    "plt.title(\"Membership Category vs Churn Risk Score\")\n",
    "plt.xlabel(\"Membership Category\")\n",
    "plt.ylabel(\"Count\")\n",
    "plt.xticks(rotation=45)\n",
    "plt.legend(title=\"Churn Risk Score\")\n",
    "plt.tight_layout()\n",
    "plt.show()"
   ]
  },
  {
   "cell_type": "markdown",
   "metadata": {
    "id": "cccaa5f8-a5b9-4433-8024-96a468272a20"
   },
   "source": [
    "From the above graph we can see that people with basic membership have a high chance of leaving and as the category of membership grows the chance of churn reduces"
   ]
  },
  {
   "cell_type": "code",
   "execution_count": 15,
   "metadata": {
    "colab": {
     "base_uri": "https://localhost:8080/",
     "height": 607
    },
    "id": "fa480a40-d8b9-4f40-b948-0b0dc2020d10",
    "outputId": "e480243d-c3f5-4e16-c906-753c9b11a1ca"
   },
   "outputs": [
    {
     "data": {
      "image/png": "[encoded data removed]",
      "text/plain": [
       "<Figure size 720x432 with 1 Axes>"
      ]
     },
     "metadata": {
      "needs_background": "light"
     },
     "output_type": "display_data"
    }
   ],
   "source": [
    "plt.figure(figsize=(10, 6))\n",
    "sns.histplot(data=df, x='age', hue='churn_risk_score', bins=20, kde=True, palette='Set2', multiple='stack')\n",
    "\n",
    "plt.title('Age Distribution by Churn Status')\n",
    "plt.xlabel('Age')\n",
    "plt.ylabel('Count')\n",
    "plt.legend(title='Churn', labels=['No', 'Yes'])\n",
    "plt.grid(True)\n",
    "plt.tight_layout()\n",
    "plt.show()"
   ]
  },
  {
   "cell_type": "markdown",
   "metadata": {
    "id": "2b28efb2-77dc-4203-9385-a1de85f5db11"
   },
   "source": [
    "The age distribution chart shows that customer churn is fairly uniform across all age groups, with no particular age range standing out as having significantly higher or lower churn rates. Both churned and non-churned customers are distributed evenly across the age spectrum, as indicated by the consistent height of the stacked bars and the overlapping KDE lines. This suggests that age is not a strong predictor of churn in this dataset, and other factors such as tenure, usage, or region may offermore meaningful insights into customer churn behavior."
   ]
  },
  {
   "cell_type": "markdown",
   "metadata": {
    "id": "ab33c51b-1ae8-4d33-980d-3bc75d6455a6"
   },
   "source": [
    "#### Dropping unnecessary columns\n",
    "\n",
    "We decided to drop the security number and ID columns since they did not offer any useful insightinto our analysis"
   ]
  },
  {
   "cell_type": "code",
   "execution_count": 16,
   "metadata": {
    "colab": {
     "base_uri": "https://localhost:8080/"
    },
    "id": "08a1f2db-4a56-4aab-8d45-a7a273d6ca3c",
    "outputId": "1148f1b3-1b80-4344-db52-a4f1b26d188d"
   },
   "outputs": [
    {
     "name": "stdout",
     "output_type": "stream",
     "text": [
      "Index(['age', 'gender', 'region_category', 'membership_category',\n",
      "       'joining_date', 'joined_through_referral', 'referral_id',\n",
      "       'preferred_offer_types', 'medium_of_operation', 'internet_option',\n",
      "       'days_since_last_login', 'avg_time_spent', 'avg_transaction_value',\n",
      "       'avg_frequency_login_days', 'points_in_wallet', 'used_special_discount',\n",
      "       'offer_application_preference', 'past_complaint', 'complaint_status',\n",
      "       'feedback', 'churn_risk_score'],\n",
      "      dtype='object')\n"
     ]
    }
   ],
   "source": [
    "df.drop(columns=['security_no', 'last_visit_time' ], inplace=True)\n",
    "print(df.columns)"
   ]
  },
  {
   "cell_type": "markdown",
   "metadata": {
    "id": "3230c757-5390-4951-a2b0-fae527a6dc66"
   },
   "source": [
    "#### Removing null values\n",
    "\n",
    "Starting with preferred_offer_types column we shall proceed to remove the null values. Since the percentage of null values in this column is 0.77% which is almost negligible, we will drop all the null rows."
   ]
  },
  {
   "cell_type": "code",
   "execution_count": 17,
   "metadata": {
    "id": "5e130548-15a7-4610-b9c2-50f9ea328961"
   },
   "outputs": [],
   "source": [
    "# Drop rows where 'preferred_offer_types' is null\n",
    "df_cleaned = df.dropna(subset=['preferred_offer_types'])"
   ]
  },
  {
   "cell_type": "code",
   "execution_count": 18,
   "metadata": {
    "colab": {
     "base_uri": "https://localhost:8080/"
    },
    "id": "d82ac42f-28f9-4e43-b863-d547f72366f7",
    "outputId": "149b581a-4a85-4322-e756-1d151ff2395d"
   },
   "outputs": [
    {
     "name": "stdout",
     "output_type": "stream",
     "text": [
      "The most frequent (mode) value in 'region_category' is: Town\n"
     ]
    }
   ],
   "source": [
    "# Find the most frequent value (mode) of 'region_category'\n",
    "mode_region = df_cleaned['region_category'].mode()[0]\n",
    "print(f\"The most frequent (mode) value in 'region_category' is: {mode_region}\")"
   ]
  },
  {
   "cell_type": "code",
   "execution_count": 19,
   "metadata": {
    "colab": {
     "base_uri": "https://localhost:8080/"
    },
    "id": "59a10add-5588-4918-8e29-914fa33460f8",
    "outputId": "fd69d1c0-bb4f-44ca-adca-a47505a09e6f"
   },
   "outputs": [
    {
     "name": "stdout",
     "output_type": "stream",
     "text": [
      "Distribution of values in 'region_category':\n",
      "Town       14025\n",
      "City       12635\n",
      "NaN         5379\n",
      "Village     4665\n",
      "Name: region_category, dtype: int64\n"
     ]
    }
   ],
   "source": [
    "# Get distribution of 'region_category'\n",
    "region_distribution = df_cleaned['region_category'].value_counts(dropna=False)\n",
    "\n",
    "# Display the result\n",
    "print(\"Distribution of values in 'region_category':\")\n",
    "print(region_distribution)"
   ]
  },
  {
   "cell_type": "code",
   "execution_count": 20,
   "metadata": {
    "id": "f9d29076-b0e8-44d3-a722-32c8296d0d24"
   },
   "outputs": [],
   "source": [
    "# Drop rows where 'region_category' is null\n",
    "df_cleaned = df_cleaned.dropna(subset=['region_category'])"
   ]
  },
  {
   "cell_type": "code",
   "execution_count": 21,
   "metadata": {
    "colab": {
     "base_uri": "https://localhost:8080/"
    },
    "id": "b82e6b7c-db14-4328-b95d-a86c9843884e",
    "outputId": "61702b43-8733-4a2c-af43-ce9863d3f4f5"
   },
   "outputs": [
    {
     "name": "stdout",
     "output_type": "stream",
     "text": [
      "age                             0.000000\n",
      "gender                          0.000000\n",
      "region_category                 0.000000\n",
      "membership_category             0.000000\n",
      "joining_date                    0.000000\n",
      "joined_through_referral         0.000000\n",
      "referral_id                     0.000000\n",
      "preferred_offer_types           0.000000\n",
      "medium_of_operation             0.000000\n",
      "internet_option                 0.000000\n",
      "days_since_last_login           0.000000\n",
      "avg_time_spent                  0.000000\n",
      "avg_transaction_value           0.000000\n",
      "avg_frequency_login_days        0.000000\n",
      "points_in_wallet                9.423783\n",
      "used_special_discount           0.000000\n",
      "offer_application_preference    0.000000\n",
      "past_complaint                  0.000000\n",
      "complaint_status                0.000000\n",
      "feedback                        0.000000\n",
      "churn_risk_score                0.000000\n",
      "dtype: float64\n"
     ]
    }
   ],
   "source": [
    "# Display the result\n",
    "null_percentage_cleaned = (df_cleaned.isnull().sum() / len(df_cleaned)) * 100\n",
    "print(null_percentage_cleaned)"
   ]
  },
  {
   "cell_type": "code",
   "execution_count": 22,
   "metadata": {
    "colab": {
     "base_uri": "https://localhost:8080/"
    },
    "id": "b9bf75a3-e8cb-4c00-b55c-4ac9605b88aa",
    "outputId": "e7520b0e-a22a-4a8a-e93a-3b8971685ddb"
   },
   "outputs": [
    {
     "name": "stdout",
     "output_type": "stream",
     "text": [
      "Distribution of values in 'points_in_wallet':\n",
      "NaN           2952\n",
      "705.070000       9\n",
      "771.750000       7\n",
      "718.920000       6\n",
      "780.920000       6\n",
      "              ... \n",
      "203.539119       1\n",
      "658.090000       1\n",
      "812.180000       1\n",
      "538.020000       1\n",
      "791.530000       1\n",
      "Name: points_in_wallet, Length: 20978, dtype: int64\n"
     ]
    }
   ],
   "source": [
    "# Get distribution of 'region_category'\n",
    "points_in_wallet_distribution = df_cleaned['points_in_wallet'].value_counts(dropna=False)\n",
    "\n",
    "# Display the result\n",
    "print(\"Distribution of values in 'points_in_wallet':\")\n",
    "print(points_in_wallet_distribution)"
   ]
  },
  {
   "cell_type": "code",
   "execution_count": 23,
   "metadata": {
    "colab": {
     "base_uri": "https://localhost:8080/"
    },
    "id": "2a651890-605b-4e9e-8ee3-5533bfdd6a6d",
    "outputId": "eb5b2665-36d0-43ef-9392-f6c5fb7c70ca"
   },
   "outputs": [],
   "source": [
    "# Fill missing values\n",
    "df_cleaned['points_in_wallet'].fillna(df_cleaned['points_in_wallet'].median(), inplace=True)\n"
   ]
  },
  {
   "cell_type": "code",
   "execution_count": 24,
   "metadata": {
    "colab": {
     "base_uri": "https://localhost:8080/"
    },
    "id": "ea87835c-6e8e-47b5-af6b-c74056dd43e2",
    "outputId": "bddfd851-df15-4411-dbc1-22fb13abd801"
   },
   "outputs": [
    {
     "name": "stdout",
     "output_type": "stream",
     "text": [
      "age                             0.0\n",
      "gender                          0.0\n",
      "region_category                 0.0\n",
      "membership_category             0.0\n",
      "joining_date                    0.0\n",
      "joined_through_referral         0.0\n",
      "referral_id                     0.0\n",
      "preferred_offer_types           0.0\n",
      "medium_of_operation             0.0\n",
      "internet_option                 0.0\n",
      "days_since_last_login           0.0\n",
      "avg_time_spent                  0.0\n",
      "avg_transaction_value           0.0\n",
      "avg_frequency_login_days        0.0\n",
      "points_in_wallet                0.0\n",
      "used_special_discount           0.0\n",
      "offer_application_preference    0.0\n",
      "past_complaint                  0.0\n",
      "complaint_status                0.0\n",
      "feedback                        0.0\n",
      "churn_risk_score                0.0\n",
      "dtype: float64\n"
     ]
    }
   ],
   "source": [
    "null_percentage_cleaned = (df_cleaned.isnull().sum() / len(df_cleaned)) * 100\n",
    "print(null_percentage_cleaned)"
   ]
  },
  {
   "cell_type": "code",
   "execution_count": 25,
   "metadata": {
    "colab": {
     "base_uri": "https://localhost:8080/"
    },
    "id": "09dab6fc-acd0-49e2-aad8-6e6828a00a7e",
    "outputId": "c32f60c0-7e73-4c65-83a6-fd45f23af7de"
   },
   "outputs": [
    {
     "data": {
      "text/plain": [
       "(31325, 21)"
      ]
     },
     "execution_count": 25,
     "metadata": {},
     "output_type": "execute_result"
    }
   ],
   "source": [
    "df_cleaned.shape"
   ]
  },
  {
   "cell_type": "code",
   "execution_count": 26,
   "metadata": {
    "colab": {
     "base_uri": "https://localhost:8080/",
     "height": 377
    },
    "id": "091bc378-d24e-4040-80db-e93aa1b8db97",
    "outputId": "69644faf-4548-4465-8317-f84c1ed34c38"
   },
   "outputs": [
    {
     "data": {
      "text/html": [
       "<div>\n",
       "<style scoped>\n",
       "    .dataframe tbody tr th:only-of-type {\n",
       "        vertical-align: middle;\n",
       "    }\n",
       "\n",
       "    .dataframe tbody tr th {\n",
       "        vertical-align: top;\n",
       "    }\n",
       "\n",
       "    .dataframe thead th {\n",
       "        text-align: right;\n",
       "    }\n",
       "</style>\n",
       "<table border=\"1\" class=\"dataframe\">\n",
       "  <thead>\n",
       "    <tr style=\"text-align: right;\">\n",
       "      <th></th>\n",
       "      <th>age</th>\n",
       "      <th>gender</th>\n",
       "      <th>region_category</th>\n",
       "      <th>membership_category</th>\n",
       "      <th>joining_date</th>\n",
       "      <th>joined_through_referral</th>\n",
       "      <th>referral_id</th>\n",
       "      <th>preferred_offer_types</th>\n",
       "      <th>medium_of_operation</th>\n",
       "      <th>internet_option</th>\n",
       "      <th>...</th>\n",
       "      <th>avg_time_spent</th>\n",
       "      <th>avg_transaction_value</th>\n",
       "      <th>avg_frequency_login_days</th>\n",
       "      <th>points_in_wallet</th>\n",
       "      <th>used_special_discount</th>\n",
       "      <th>offer_application_preference</th>\n",
       "      <th>past_complaint</th>\n",
       "      <th>complaint_status</th>\n",
       "      <th>feedback</th>\n",
       "      <th>churn_risk_score</th>\n",
       "    </tr>\n",
       "  </thead>\n",
       "  <tbody>\n",
       "    <tr>\n",
       "      <th>0</th>\n",
       "      <td>18</td>\n",
       "      <td>F</td>\n",
       "      <td>Village</td>\n",
       "      <td>Platinum Membership</td>\n",
       "      <td>17-08-2017</td>\n",
       "      <td>No</td>\n",
       "      <td>xxxxxxxx</td>\n",
       "      <td>Gift Vouchers/Coupons</td>\n",
       "      <td>?</td>\n",
       "      <td>Wi-Fi</td>\n",
       "      <td>...</td>\n",
       "      <td>300.63</td>\n",
       "      <td>53005.25</td>\n",
       "      <td>17</td>\n",
       "      <td>781.75</td>\n",
       "      <td>Yes</td>\n",
       "      <td>Yes</td>\n",
       "      <td>No</td>\n",
       "      <td>Not Applicable</td>\n",
       "      <td>Products always in Stock</td>\n",
       "      <td>0</td>\n",
       "    </tr>\n",
       "    <tr>\n",
       "      <th>1</th>\n",
       "      <td>32</td>\n",
       "      <td>F</td>\n",
       "      <td>City</td>\n",
       "      <td>Premium Membership</td>\n",
       "      <td>28-08-2017</td>\n",
       "      <td>?</td>\n",
       "      <td>CID21329</td>\n",
       "      <td>Gift Vouchers/Coupons</td>\n",
       "      <td>Desktop</td>\n",
       "      <td>Mobile_Data</td>\n",
       "      <td>...</td>\n",
       "      <td>306.34</td>\n",
       "      <td>12838.38</td>\n",
       "      <td>10</td>\n",
       "      <td>698.48</td>\n",
       "      <td>Yes</td>\n",
       "      <td>No</td>\n",
       "      <td>Yes</td>\n",
       "      <td>Solved</td>\n",
       "      <td>Quality Customer Care</td>\n",
       "      <td>0</td>\n",
       "    </tr>\n",
       "    <tr>\n",
       "      <th>2</th>\n",
       "      <td>44</td>\n",
       "      <td>F</td>\n",
       "      <td>Town</td>\n",
       "      <td>No Membership</td>\n",
       "      <td>11/11/2016</td>\n",
       "      <td>Yes</td>\n",
       "      <td>CID12313</td>\n",
       "      <td>Gift Vouchers/Coupons</td>\n",
       "      <td>Desktop</td>\n",
       "      <td>Wi-Fi</td>\n",
       "      <td>...</td>\n",
       "      <td>516.16</td>\n",
       "      <td>21027.00</td>\n",
       "      <td>22</td>\n",
       "      <td>500.69</td>\n",
       "      <td>No</td>\n",
       "      <td>Yes</td>\n",
       "      <td>Yes</td>\n",
       "      <td>Solved in Follow-up</td>\n",
       "      <td>Poor Website</td>\n",
       "      <td>1</td>\n",
       "    </tr>\n",
       "    <tr>\n",
       "      <th>3</th>\n",
       "      <td>37</td>\n",
       "      <td>M</td>\n",
       "      <td>City</td>\n",
       "      <td>No Membership</td>\n",
       "      <td>29-10-2016</td>\n",
       "      <td>Yes</td>\n",
       "      <td>CID3793</td>\n",
       "      <td>Gift Vouchers/Coupons</td>\n",
       "      <td>Desktop</td>\n",
       "      <td>Mobile_Data</td>\n",
       "      <td>...</td>\n",
       "      <td>53.27</td>\n",
       "      <td>25239.56</td>\n",
       "      <td>6</td>\n",
       "      <td>567.66</td>\n",
       "      <td>No</td>\n",
       "      <td>Yes</td>\n",
       "      <td>Yes</td>\n",
       "      <td>Unsolved</td>\n",
       "      <td>Poor Website</td>\n",
       "      <td>1</td>\n",
       "    </tr>\n",
       "    <tr>\n",
       "      <th>4</th>\n",
       "      <td>31</td>\n",
       "      <td>F</td>\n",
       "      <td>City</td>\n",
       "      <td>No Membership</td>\n",
       "      <td>12/9/2017</td>\n",
       "      <td>No</td>\n",
       "      <td>xxxxxxxx</td>\n",
       "      <td>Credit/Debit Card Offers</td>\n",
       "      <td>Smartphone</td>\n",
       "      <td>Mobile_Data</td>\n",
       "      <td>...</td>\n",
       "      <td>113.13</td>\n",
       "      <td>24483.66</td>\n",
       "      <td>16</td>\n",
       "      <td>663.06</td>\n",
       "      <td>No</td>\n",
       "      <td>Yes</td>\n",
       "      <td>Yes</td>\n",
       "      <td>Solved</td>\n",
       "      <td>Poor Website</td>\n",
       "      <td>1</td>\n",
       "    </tr>\n",
       "  </tbody>\n",
       "</table>\n",
       "<p>5 rows × 21 columns</p>\n",
       "</div>"
      ],
      "text/plain": [
       "   age gender region_category  membership_category joining_date  \\\n",
       "0   18      F         Village  Platinum Membership   17-08-2017   \n",
       "1   32      F            City   Premium Membership   28-08-2017   \n",
       "2   44      F            Town        No Membership   11/11/2016   \n",
       "3   37      M            City        No Membership   29-10-2016   \n",
       "4   31      F            City        No Membership    12/9/2017   \n",
       "\n",
       "  joined_through_referral referral_id     preferred_offer_types  \\\n",
       "0                      No    xxxxxxxx     Gift Vouchers/Coupons   \n",
       "1                       ?    CID21329     Gift Vouchers/Coupons   \n",
       "2                     Yes    CID12313     Gift Vouchers/Coupons   \n",
       "3                     Yes     CID3793     Gift Vouchers/Coupons   \n",
       "4                      No    xxxxxxxx  Credit/Debit Card Offers   \n",
       "\n",
       "  medium_of_operation internet_option  ...  avg_time_spent  \\\n",
       "0                   ?           Wi-Fi  ...          300.63   \n",
       "1             Desktop     Mobile_Data  ...          306.34   \n",
       "2             Desktop           Wi-Fi  ...          516.16   \n",
       "3             Desktop     Mobile_Data  ...           53.27   \n",
       "4          Smartphone     Mobile_Data  ...          113.13   \n",
       "\n",
       "   avg_transaction_value  avg_frequency_login_days points_in_wallet  \\\n",
       "0               53005.25                        17           781.75   \n",
       "1               12838.38                        10           698.48   \n",
       "2               21027.00                        22           500.69   \n",
       "3               25239.56                         6           567.66   \n",
       "4               24483.66                        16           663.06   \n",
       "\n",
       "   used_special_discount offer_application_preference past_complaint  \\\n",
       "0                    Yes                          Yes             No   \n",
       "1                    Yes                           No            Yes   \n",
       "2                     No                          Yes            Yes   \n",
       "3                     No                          Yes            Yes   \n",
       "4                     No                          Yes            Yes   \n",
       "\n",
       "      complaint_status                  feedback churn_risk_score  \n",
       "0       Not Applicable  Products always in Stock                0  \n",
       "1               Solved     Quality Customer Care                0  \n",
       "2  Solved in Follow-up              Poor Website                1  \n",
       "3             Unsolved              Poor Website                1  \n",
       "4               Solved              Poor Website                1  \n",
       "\n",
       "[5 rows x 21 columns]"
      ]
     },
     "execution_count": 26,
     "metadata": {},
     "output_type": "execute_result"
    }
   ],
   "source": [
    "df_cleaned.head()"
   ]
  },
  {
   "cell_type": "markdown",
   "metadata": {
    "id": "zgI6D86ZdY1N"
   },
   "source": [
    "We've observed that the dataset contains many hidden missing values represented by placeholder terms. To accurately identify and address them, we plan to carefully inspect each column individually."
   ]
  },
  {
   "cell_type": "code",
   "execution_count": 27,
   "metadata": {
    "colab": {
     "base_uri": "https://localhost:8080/",
     "height": 304
    },
    "id": "_B3Zey73cnA7",
    "outputId": "38f4cd68-8756-4e43-b986-3474aaf9f22a"
   },
   "outputs": [
    {
     "data": {
      "text/plain": [
       "Basic Membership       6516\n",
       "No Membership          6493\n",
       "Gold Membership        5743\n",
       "Silver Membership      5107\n",
       "Premium Membership     3779\n",
       "Platinum Membership    3687\n",
       "Name: membership_category, dtype: int64"
      ]
     },
     "execution_count": 27,
     "metadata": {},
     "output_type": "execute_result"
    }
   ],
   "source": [
    "# Inspecting the membership_categoty column\n",
    "df_cleaned['membership_category'].value_counts()"
   ]
  },
  {
   "cell_type": "markdown",
   "metadata": {
    "id": "Jzy-oGLTdmcZ"
   },
   "source": [
    "For this column, the values appear valid and present; there are no hidden missing values detected.\n",
    "\n"
   ]
  },
  {
   "cell_type": "code",
   "execution_count": 28,
   "metadata": {
    "id": "oE_mU6xzcm8w"
   },
   "outputs": [],
   "source": [
    "# Inspecting the joining_date column. For this, we shall start by converting the column to datetime fomart.\n",
    "\n",
    "df_cleaned['joining_date'] = pd.to_datetime(df_cleaned['joining_date'], errors = 'coerce')"
   ]
  },
  {
   "cell_type": "markdown",
   "metadata": {
    "id": "-gvEsbZMlO-o"
   },
   "source": [
    "To facilitate the analysis of seasonal and monthly churning patterns, we will extract the month and year from this column into separate fields.\n"
   ]
  },
  {
   "cell_type": "code",
   "execution_count": 29,
   "metadata": {
    "id": "OKXoCDZVcm6B"
   },
   "outputs": [],
   "source": [
    "# Feature engineering a column for month and year\n",
    "df_cleaned['joining_year'] = df_cleaned['joining_date'].dt.year\n",
    "df_cleaned['joining_month'] = df_cleaned['joining_date'].dt.month"
   ]
  },
  {
   "cell_type": "code",
   "execution_count": 30,
   "metadata": {},
   "outputs": [
    {
     "name": "stdout",
     "output_type": "stream",
     "text": [
      "Unique joining_date values:\n",
      "['2017-08-17T00:00:00.000000000' '2017-08-28T00:00:00.000000000'\n",
      " '2016-11-11T00:00:00.000000000' ... '2016-06-09T00:00:00.000000000'\n",
      " '2016-09-25T00:00:00.000000000' '2017-04-15T00:00:00.000000000']\n"
     ]
    }
   ],
   "source": [
    "# Inspecting the value counts after \n",
    "unique_dates = df_cleaned['joining_date'].unique()\n",
    "\n",
    "# Display the result\n",
    "print(\"Unique joining_date values:\")\n",
    "print(unique_dates)"
   ]
  },
  {
   "cell_type": "markdown",
   "metadata": {},
   "source": [
    "From the above we can see the date column has null values. We will go ahead and drop them"
   ]
  },
  {
   "cell_type": "code",
   "execution_count": 31,
   "metadata": {},
   "outputs": [],
   "source": [
    "# Drop rows where 'joining_date' is null (NaT)\n",
    "df_cleaned = df_cleaned.dropna(subset=['joining_date'])"
   ]
  },
  {
   "cell_type": "code",
   "execution_count": 32,
   "metadata": {
    "colab": {
     "base_uri": "https://localhost:8080/",
     "height": 210
    },
    "id": "rX1HiYt-cm0Q",
    "outputId": "27f94cb1-26c5-4232-a9d8-b2f49d8a5666"
   },
   "outputs": [
    {
     "data": {
      "text/plain": [
       "No     13455\n",
       "Yes    13266\n",
       "?       4604\n",
       "Name: joined_through_referral, dtype: int64"
      ]
     },
     "execution_count": 32,
     "metadata": {},
     "output_type": "execute_result"
    }
   ],
   "source": [
    "# Inspecting the joined through referral column\n",
    "df_cleaned['joined_through_referral'].value_counts()"
   ]
  },
  {
   "cell_type": "code",
   "execution_count": 33,
   "metadata": {},
   "outputs": [
    {
     "data": {
      "text/plain": [
       "(31325, 23)"
      ]
     },
     "execution_count": 33,
     "metadata": {},
     "output_type": "execute_result"
    }
   ],
   "source": [
    "df_cleaned.shape"
   ]
  },
  {
   "cell_type": "markdown",
   "metadata": {
    "id": "_2Njt_PwnlXu"
   },
   "source": [
    "We have identified several entries where the value is missing and represented as '?'. Since this is a boolean field, it is difficult to confidently classify these as either 'Yes' or 'No'. Therefore, we will replace these unknown values with 'Not_recorded' to maintain clarity without making inaccurate assumptions or losing data in dropping them."
   ]
  },
  {
   "cell_type": "code",
   "execution_count": 34,
   "metadata": {
    "id": "uZ-eXEUBcmxk"
   },
   "outputs": [],
   "source": [
    "# Replacing '?' with 'Not_recorded'\n",
    "df_cleaned['joined_through_referral'] = df_cleaned['joined_through_referral'].replace('?','Not_recorded')"
   ]
  },
  {
   "cell_type": "code",
   "execution_count": 35,
   "metadata": {},
   "outputs": [
    {
     "data": {
      "text/plain": [
       "33    614\n",
       "55    605\n",
       "61    603\n",
       "47    598\n",
       "16    597\n",
       "57    597\n",
       "38    596\n",
       "42    591\n",
       "34    586\n",
       "23    586\n",
       "30    585\n",
       "60    585\n",
       "59    584\n",
       "56    584\n",
       "46    584\n",
       "58    581\n",
       "17    581\n",
       "26    581\n",
       "48    578\n",
       "45    578\n",
       "22    578\n",
       "21    577\n",
       "53    577\n",
       "32    576\n",
       "64    576\n",
       "41    575\n",
       "49    573\n",
       "28    572\n",
       "14    572\n",
       "44    568\n",
       "62    567\n",
       "29    567\n",
       "20    564\n",
       "52    563\n",
       "13    563\n",
       "10    563\n",
       "19    562\n",
       "36    560\n",
       "12    559\n",
       "11    559\n",
       "37    555\n",
       "51    554\n",
       "43    553\n",
       "27    550\n",
       "35    548\n",
       "15    548\n",
       "39    547\n",
       "50    546\n",
       "18    544\n",
       "24    544\n",
       "63    544\n",
       "31    541\n",
       "25    533\n",
       "40    530\n",
       "54    523\n",
       "Name: age, dtype: int64"
      ]
     },
     "execution_count": 35,
     "metadata": {},
     "output_type": "execute_result"
    }
   ],
   "source": [
    "# Inspecting the age column\n",
    "df_cleaned['age'].value_counts()"
   ]
  },
  {
   "cell_type": "markdown",
   "metadata": {},
   "source": [
    "The column age seems not have any data that is misclassified therefore we will move onto the gender column"
   ]
  },
  {
   "cell_type": "code",
   "execution_count": 36,
   "metadata": {},
   "outputs": [
    {
     "data": {
      "text/plain": [
       "F          15658\n",
       "M          15617\n",
       "Unknown       50\n",
       "Name: gender, dtype: int64"
      ]
     },
     "execution_count": 36,
     "metadata": {},
     "output_type": "execute_result"
    }
   ],
   "source": [
    "# Inspecting the gender column\n",
    "df_cleaned['gender'].value_counts()"
   ]
  },
  {
   "cell_type": "markdown",
   "metadata": {},
   "source": [
    "The number of rows with gender = 'Unknown' is negligible (~0.16%) and may introduce noise or ambiguity in gender-based analysis or modeling. Dropping them helps ensure clean, interpretable categorical data without significantly affecting the dataset's size or balance."
   ]
  },
  {
   "cell_type": "code",
   "execution_count": 37,
   "metadata": {},
   "outputs": [],
   "source": [
    "# Drop rows where gender is 'Unknown' in place\n",
    "df_cleaned = df_cleaned[df_cleaned['gender'] != 'Unknown']"
   ]
  },
  {
   "cell_type": "code",
   "execution_count": 38,
   "metadata": {},
   "outputs": [
    {
     "data": {
      "text/plain": [
       "Town       13996\n",
       "City       12620\n",
       "Village     4659\n",
       "Name: region_category, dtype: int64"
      ]
     },
     "execution_count": 38,
     "metadata": {},
     "output_type": "execute_result"
    }
   ],
   "source": [
    "# Inspecting the region_category column\n",
    "df_cleaned['region_category'].value_counts()"
   ]
  },
  {
   "cell_type": "markdown",
   "metadata": {},
   "source": [
    "The region_category column does not appear to have any misclassified data based on the value counts"
   ]
  },
  {
   "cell_type": "code",
   "execution_count": 39,
   "metadata": {},
   "outputs": [
    {
     "data": {
      "text/plain": [
       "xxxxxxxx    15146\n",
       "CID3979        11\n",
       "CID43705       10\n",
       "CID49601       10\n",
       "CID15792        8\n",
       "            ...  \n",
       "CID43095        1\n",
       "CID61873        1\n",
       "CID23623        1\n",
       "CID40209        1\n",
       "CID60527        1\n",
       "Name: referral_id, Length: 10249, dtype: int64"
      ]
     },
     "execution_count": 39,
     "metadata": {},
     "output_type": "execute_result"
    }
   ],
   "source": [
    "# Inspecting the region_category column\n",
    "df_cleaned['referral_id'].value_counts()"
   ]
  },
  {
   "cell_type": "code",
   "execution_count": 40,
   "metadata": {},
   "outputs": [],
   "source": [
    "#Replacing xxxxxxxx with walkins\n",
    "df_cleaned['referral_id'] = df_cleaned['referral_id'].replace('xxxxxxxx', 'walk_in')"
   ]
  },
  {
   "cell_type": "code",
   "execution_count": 41,
   "metadata": {},
   "outputs": [
    {
     "data": {
      "text/plain": [
       "walk_in     15146\n",
       "CID3979        11\n",
       "CID49601       10\n",
       "CID43705       10\n",
       "CID56219        8\n",
       "            ...  \n",
       "CID52887        1\n",
       "CID43095        1\n",
       "CID61873        1\n",
       "CID23623        1\n",
       "CID60527        1\n",
       "Name: referral_id, Length: 10249, dtype: int64"
      ]
     },
     "execution_count": 41,
     "metadata": {},
     "output_type": "execute_result"
    }
   ],
   "source": [
    "df_cleaned['referral_id'].value_counts()"
   ]
  },
  {
   "cell_type": "code",
   "execution_count": 42,
   "metadata": {},
   "outputs": [
    {
     "data": {
      "text/plain": [
       "(31275, 23)"
      ]
     },
     "execution_count": 42,
     "metadata": {},
     "output_type": "execute_result"
    }
   ],
   "source": [
    "df_cleaned.shape"
   ]
  },
  {
   "cell_type": "code",
   "execution_count": 43,
   "metadata": {},
   "outputs": [
    {
     "data": {
      "text/plain": [
       "Gift Vouchers/Coupons       10515\n",
       "Credit/Debit Card Offers    10462\n",
       "Without Offers              10298\n",
       "Name: preferred_offer_types, dtype: int64"
      ]
     },
     "execution_count": 43,
     "metadata": {},
     "output_type": "execute_result"
    }
   ],
   "source": [
    "# Inspecting the region_category column\n",
    "df_cleaned['preferred_offer_types'].value_counts()"
   ]
  },
  {
   "cell_type": "markdown",
   "metadata": {},
   "source": [
    "The column preferred_offer_types doesn't seem to have any data that is misclassified therefore we will leave it as is"
   ]
  },
  {
   "cell_type": "code",
   "execution_count": 44,
   "metadata": {},
   "outputs": [
    {
     "data": {
      "text/plain": [
       "Smartphone    11837\n",
       "Desktop       11708\n",
       "?              4505\n",
       "Both           3225\n",
       "Name: medium_of_operation, dtype: int64"
      ]
     },
     "execution_count": 44,
     "metadata": {},
     "output_type": "execute_result"
    }
   ],
   "source": [
    "# Inspecting the medium_of_operation column\n",
    "df_cleaned['medium_of_operation'].value_counts()"
   ]
  },
  {
   "cell_type": "markdown",
   "metadata": {},
   "source": [
    "We will replace the rows with the value ? with the word unknown "
   ]
  },
  {
   "cell_type": "code",
   "execution_count": 45,
   "metadata": {},
   "outputs": [],
   "source": [
    "# Replacing rows with ? with the unknown\n",
    "df_cleaned['medium_of_operation'] = df_cleaned['medium_of_operation'].replace('?', 'Unknown')"
   ]
  },
  {
   "cell_type": "code",
   "execution_count": 46,
   "metadata": {},
   "outputs": [
    {
     "data": {
      "text/plain": [
       "(31275, 23)"
      ]
     },
     "execution_count": 46,
     "metadata": {},
     "output_type": "execute_result"
    }
   ],
   "source": [
    "df_cleaned.shape"
   ]
  },
  {
   "cell_type": "code",
   "execution_count": 47,
   "metadata": {},
   "outputs": [
    {
     "data": {
      "text/plain": [
       "Wi-Fi          10438\n",
       "Mobile_Data    10429\n",
       "Fiber_Optic    10408\n",
       "Name: internet_option, dtype: int64"
      ]
     },
     "execution_count": 47,
     "metadata": {},
     "output_type": "execute_result"
    }
   ],
   "source": [
    "# Inspecting the internet_option column\n",
    "df_cleaned['internet_option'].value_counts()"
   ]
  },
  {
   "cell_type": "markdown",
   "metadata": {},
   "source": [
    "The column internet_option doesn't seem to have any data that is misclassified therefore we will leave it as is"
   ]
  },
  {
   "cell_type": "code",
   "execution_count": 48,
   "metadata": {},
   "outputs": [
    {
     "data": {
      "text/plain": [
       " 12     2020\n",
       " 13     1992\n",
       " 14     1939\n",
       " 11     1930\n",
       " 15     1908\n",
       " 10     1763\n",
       " 16     1761\n",
       "-999    1695\n",
       " 9      1565\n",
       " 17     1484\n",
       " 8      1321\n",
       " 18     1220\n",
       " 7      1203\n",
       " 19     1134\n",
       " 6      1069\n",
       " 5      1041\n",
       " 20      987\n",
       " 4       847\n",
       " 21      845\n",
       " 22      769\n",
       " 3       739\n",
       " 23      614\n",
       " 2       519\n",
       " 24      393\n",
       " 1       277\n",
       " 25      175\n",
       " 26       65\n",
       "Name: days_since_last_login, dtype: int64"
      ]
     },
     "execution_count": 48,
     "metadata": {},
     "output_type": "execute_result"
    }
   ],
   "source": [
    "# Inspecting the days_since_last_login column\n",
    "df_cleaned['days_since_last_login'].value_counts()"
   ]
  },
  {
   "cell_type": "markdown",
   "metadata": {},
   "source": [
    "We can see that there is an outlier value in -999. We will first replace it with null values then replace the null values with median values"
   ]
  },
  {
   "cell_type": "code",
   "execution_count": 49,
   "metadata": {},
   "outputs": [],
   "source": [
    "# Replace -999 with NaN first\n",
    "df_cleaned['days_since_last_login'] = df_cleaned['days_since_last_login'].replace(-999, np.nan)\n",
    "\n",
    "# Fill NaN with the median\n",
    "median_login = df_cleaned['days_since_last_login'].median()\n",
    "df_cleaned['days_since_last_login'].fillna(median_login, inplace=True)"
   ]
  },
  {
   "cell_type": "code",
   "execution_count": 50,
   "metadata": {},
   "outputs": [
    {
     "data": {
      "text/plain": [
       "33.68     18\n",
       "34.10     18\n",
       "34.71     17\n",
       "34.33     16\n",
       "32.91     16\n",
       "          ..\n",
       "135.45     1\n",
       "71.16      1\n",
       "557.70     1\n",
       "99.42      1\n",
       "240.04     1\n",
       "Name: avg_time_spent, Length: 22733, dtype: int64"
      ]
     },
     "execution_count": 50,
     "metadata": {},
     "output_type": "execute_result"
    }
   ],
   "source": [
    "# Inspecting the avg_time_spent  column\n",
    "df_cleaned['avg_time_spent'].value_counts()"
   ]
  },
  {
   "cell_type": "code",
   "execution_count": 51,
   "metadata": {},
   "outputs": [
    {
     "data": {
      "text/plain": [
       "(31275, 23)"
      ]
     },
     "execution_count": 51,
     "metadata": {},
     "output_type": "execute_result"
    }
   ],
   "source": [
    "df_cleaned.shape"
   ]
  },
  {
   "cell_type": "code",
   "execution_count": 52,
   "metadata": {},
   "outputs": [
    {
     "name": "stdout",
     "output_type": "stream",
     "text": [
      "Unique average time spent values:\n",
      "[ 300.63       306.34       516.16      ...  418.38      -638.1234208\n",
      "  482.61     ]\n"
     ]
    }
   ],
   "source": [
    "# Inspecting the unique values for avg_time_spent column\n",
    "unique_avg_time_spent = df_cleaned['avg_time_spent'].unique()\n",
    "\n",
    "# Display the result\n",
    "print(\"Unique average time spent values:\")\n",
    "print(unique_avg_time_spent)"
   ]
  },
  {
   "cell_type": "markdown",
   "metadata": {},
   "source": [
    "We can see that there values recorded as negative. we will print the values to get a better perspective"
   ]
  },
  {
   "cell_type": "code",
   "execution_count": 53,
   "metadata": {},
   "outputs": [
    {
     "name": "stdout",
     "output_type": "stream",
     "text": [
      "Unique values in 'avg_time_spent' that are less than 0:\n",
      "[-936.7448179 -930.2078443 -615.344319  ... -910.5684333 -746.0345906\n",
      " -638.1234208]\n"
     ]
    }
   ],
   "source": [
    "# Filter and show unique values less than 0\n",
    "negative_values = df_cleaned[df_cleaned['avg_time_spent'] < 0]['avg_time_spent'].unique()\n",
    "\n",
    "print(\"Unique values in 'avg_time_spent' that are less than 0:\")\n",
    "print(negative_values)"
   ]
  },
  {
   "cell_type": "markdown",
   "metadata": {},
   "source": [
    "we will then check how many rows are affected"
   ]
  },
  {
   "cell_type": "code",
   "execution_count": 54,
   "metadata": {},
   "outputs": [
    {
     "name": "stdout",
     "output_type": "stream",
     "text": [
      "Number of rows with negative avg_time_spent: 1465\n"
     ]
    }
   ],
   "source": [
    "#Checking number of negative rows\n",
    "num_negatives = (df_cleaned['avg_time_spent'] < 0).sum()\n",
    "print(f\"Number of rows with negative avg_time_spent: {num_negatives}\")"
   ]
  },
  {
   "cell_type": "markdown",
   "metadata": {},
   "source": [
    "we will replace the negative values with a median value retrived from positive values"
   ]
  },
  {
   "cell_type": "code",
   "execution_count": 55,
   "metadata": {},
   "outputs": [],
   "source": [
    "#Replace with median of positive values\n",
    "median_time = df_cleaned[df_cleaned['avg_time_spent'] >= 0]['avg_time_spent'].median()\n",
    "df_cleaned.loc[df_cleaned['avg_time_spent'] < 0, 'avg_time_spent'] = median_time"
   ]
  },
  {
   "cell_type": "code",
   "execution_count": 56,
   "metadata": {},
   "outputs": [
    {
     "data": {
      "text/plain": [
       "19647.46    2\n",
       "41920.83    2\n",
       "14245.33    2\n",
       "26008.94    2\n",
       "16863.84    2\n",
       "           ..\n",
       "21063.51    1\n",
       "5430.27     1\n",
       "19061.75    1\n",
       "33934.77    1\n",
       "18993.73    1\n",
       "Name: avg_transaction_value, Length: 31207, dtype: int64"
      ]
     },
     "execution_count": 56,
     "metadata": {},
     "output_type": "execute_result"
    }
   ],
   "source": [
    "# Inspecting the average transaction value column\n",
    "\n",
    "df_cleaned['avg_transaction_value'].value_counts()"
   ]
  },
  {
   "cell_type": "code",
   "execution_count": 57,
   "metadata": {},
   "outputs": [
    {
     "name": "stdout",
     "output_type": "stream",
     "text": [
      "[53005.25 12838.38 21027.   ... 11069.71  2378.86  2189.68]\n"
     ]
    }
   ],
   "source": [
    "# Inspecting the unique values for average transaction value column\n",
    "unique_avg_transaction_value = df_cleaned['avg_transaction_value'].unique()\n",
    "print(unique_avg_transaction_value)"
   ]
  },
  {
   "cell_type": "code",
   "execution_count": 58,
   "metadata": {},
   "outputs": [
    {
     "data": {
      "text/html": [
       "<div>\n",
       "<style scoped>\n",
       "    .dataframe tbody tr th:only-of-type {\n",
       "        vertical-align: middle;\n",
       "    }\n",
       "\n",
       "    .dataframe tbody tr th {\n",
       "        vertical-align: top;\n",
       "    }\n",
       "\n",
       "    .dataframe thead th {\n",
       "        text-align: right;\n",
       "    }\n",
       "</style>\n",
       "<table border=\"1\" class=\"dataframe\">\n",
       "  <thead>\n",
       "    <tr style=\"text-align: right;\">\n",
       "      <th></th>\n",
       "      <th>age</th>\n",
       "      <th>gender</th>\n",
       "      <th>region_category</th>\n",
       "      <th>membership_category</th>\n",
       "      <th>joining_date</th>\n",
       "      <th>joined_through_referral</th>\n",
       "      <th>referral_id</th>\n",
       "      <th>preferred_offer_types</th>\n",
       "      <th>medium_of_operation</th>\n",
       "      <th>internet_option</th>\n",
       "      <th>...</th>\n",
       "      <th>avg_frequency_login_days</th>\n",
       "      <th>points_in_wallet</th>\n",
       "      <th>used_special_discount</th>\n",
       "      <th>offer_application_preference</th>\n",
       "      <th>past_complaint</th>\n",
       "      <th>complaint_status</th>\n",
       "      <th>feedback</th>\n",
       "      <th>churn_risk_score</th>\n",
       "      <th>joining_year</th>\n",
       "      <th>joining_month</th>\n",
       "    </tr>\n",
       "  </thead>\n",
       "  <tbody>\n",
       "    <tr>\n",
       "      <th>0</th>\n",
       "      <td>18</td>\n",
       "      <td>F</td>\n",
       "      <td>Village</td>\n",
       "      <td>Platinum Membership</td>\n",
       "      <td>2017-08-17</td>\n",
       "      <td>No</td>\n",
       "      <td>walk_in</td>\n",
       "      <td>Gift Vouchers/Coupons</td>\n",
       "      <td>Unknown</td>\n",
       "      <td>Wi-Fi</td>\n",
       "      <td>...</td>\n",
       "      <td>17</td>\n",
       "      <td>781.75</td>\n",
       "      <td>Yes</td>\n",
       "      <td>Yes</td>\n",
       "      <td>No</td>\n",
       "      <td>Not Applicable</td>\n",
       "      <td>Products always in Stock</td>\n",
       "      <td>0</td>\n",
       "      <td>2017</td>\n",
       "      <td>8</td>\n",
       "    </tr>\n",
       "    <tr>\n",
       "      <th>1</th>\n",
       "      <td>32</td>\n",
       "      <td>F</td>\n",
       "      <td>City</td>\n",
       "      <td>Premium Membership</td>\n",
       "      <td>2017-08-28</td>\n",
       "      <td>Not_recorded</td>\n",
       "      <td>CID21329</td>\n",
       "      <td>Gift Vouchers/Coupons</td>\n",
       "      <td>Desktop</td>\n",
       "      <td>Mobile_Data</td>\n",
       "      <td>...</td>\n",
       "      <td>10</td>\n",
       "      <td>698.48</td>\n",
       "      <td>Yes</td>\n",
       "      <td>No</td>\n",
       "      <td>Yes</td>\n",
       "      <td>Solved</td>\n",
       "      <td>Quality Customer Care</td>\n",
       "      <td>0</td>\n",
       "      <td>2017</td>\n",
       "      <td>8</td>\n",
       "    </tr>\n",
       "    <tr>\n",
       "      <th>2</th>\n",
       "      <td>44</td>\n",
       "      <td>F</td>\n",
       "      <td>Town</td>\n",
       "      <td>No Membership</td>\n",
       "      <td>2016-11-11</td>\n",
       "      <td>Yes</td>\n",
       "      <td>CID12313</td>\n",
       "      <td>Gift Vouchers/Coupons</td>\n",
       "      <td>Desktop</td>\n",
       "      <td>Wi-Fi</td>\n",
       "      <td>...</td>\n",
       "      <td>22</td>\n",
       "      <td>500.69</td>\n",
       "      <td>No</td>\n",
       "      <td>Yes</td>\n",
       "      <td>Yes</td>\n",
       "      <td>Solved in Follow-up</td>\n",
       "      <td>Poor Website</td>\n",
       "      <td>1</td>\n",
       "      <td>2016</td>\n",
       "      <td>11</td>\n",
       "    </tr>\n",
       "    <tr>\n",
       "      <th>3</th>\n",
       "      <td>37</td>\n",
       "      <td>M</td>\n",
       "      <td>City</td>\n",
       "      <td>No Membership</td>\n",
       "      <td>2016-10-29</td>\n",
       "      <td>Yes</td>\n",
       "      <td>CID3793</td>\n",
       "      <td>Gift Vouchers/Coupons</td>\n",
       "      <td>Desktop</td>\n",
       "      <td>Mobile_Data</td>\n",
       "      <td>...</td>\n",
       "      <td>6</td>\n",
       "      <td>567.66</td>\n",
       "      <td>No</td>\n",
       "      <td>Yes</td>\n",
       "      <td>Yes</td>\n",
       "      <td>Unsolved</td>\n",
       "      <td>Poor Website</td>\n",
       "      <td>1</td>\n",
       "      <td>2016</td>\n",
       "      <td>10</td>\n",
       "    </tr>\n",
       "    <tr>\n",
       "      <th>4</th>\n",
       "      <td>31</td>\n",
       "      <td>F</td>\n",
       "      <td>City</td>\n",
       "      <td>No Membership</td>\n",
       "      <td>2017-12-09</td>\n",
       "      <td>No</td>\n",
       "      <td>walk_in</td>\n",
       "      <td>Credit/Debit Card Offers</td>\n",
       "      <td>Smartphone</td>\n",
       "      <td>Mobile_Data</td>\n",
       "      <td>...</td>\n",
       "      <td>16</td>\n",
       "      <td>663.06</td>\n",
       "      <td>No</td>\n",
       "      <td>Yes</td>\n",
       "      <td>Yes</td>\n",
       "      <td>Solved</td>\n",
       "      <td>Poor Website</td>\n",
       "      <td>1</td>\n",
       "      <td>2017</td>\n",
       "      <td>12</td>\n",
       "    </tr>\n",
       "    <tr>\n",
       "      <th>...</th>\n",
       "      <td>...</td>\n",
       "      <td>...</td>\n",
       "      <td>...</td>\n",
       "      <td>...</td>\n",
       "      <td>...</td>\n",
       "      <td>...</td>\n",
       "      <td>...</td>\n",
       "      <td>...</td>\n",
       "      <td>...</td>\n",
       "      <td>...</td>\n",
       "      <td>...</td>\n",
       "      <td>...</td>\n",
       "      <td>...</td>\n",
       "      <td>...</td>\n",
       "      <td>...</td>\n",
       "      <td>...</td>\n",
       "      <td>...</td>\n",
       "      <td>...</td>\n",
       "      <td>...</td>\n",
       "      <td>...</td>\n",
       "      <td>...</td>\n",
       "    </tr>\n",
       "    <tr>\n",
       "      <th>36985</th>\n",
       "      <td>12</td>\n",
       "      <td>F</td>\n",
       "      <td>Village</td>\n",
       "      <td>Premium Membership</td>\n",
       "      <td>2016-10-25</td>\n",
       "      <td>No</td>\n",
       "      <td>walk_in</td>\n",
       "      <td>Gift Vouchers/Coupons</td>\n",
       "      <td>Desktop</td>\n",
       "      <td>Fiber_Optic</td>\n",
       "      <td>...</td>\n",
       "      <td>7</td>\n",
       "      <td>725.89</td>\n",
       "      <td>Yes</td>\n",
       "      <td>Yes</td>\n",
       "      <td>Yes</td>\n",
       "      <td>Unsolved</td>\n",
       "      <td>Products always in Stock</td>\n",
       "      <td>0</td>\n",
       "      <td>2016</td>\n",
       "      <td>10</td>\n",
       "    </tr>\n",
       "    <tr>\n",
       "      <th>36986</th>\n",
       "      <td>27</td>\n",
       "      <td>M</td>\n",
       "      <td>Town</td>\n",
       "      <td>Platinum Membership</td>\n",
       "      <td>2015-07-09</td>\n",
       "      <td>Yes</td>\n",
       "      <td>CID15800</td>\n",
       "      <td>Credit/Debit Card Offers</td>\n",
       "      <td>Desktop</td>\n",
       "      <td>Mobile_Data</td>\n",
       "      <td>...</td>\n",
       "      <td>16</td>\n",
       "      <td>748.57</td>\n",
       "      <td>Yes</td>\n",
       "      <td>No</td>\n",
       "      <td>No</td>\n",
       "      <td>Not Applicable</td>\n",
       "      <td>No reason specified</td>\n",
       "      <td>0</td>\n",
       "      <td>2015</td>\n",
       "      <td>7</td>\n",
       "    </tr>\n",
       "    <tr>\n",
       "      <th>36988</th>\n",
       "      <td>29</td>\n",
       "      <td>F</td>\n",
       "      <td>Town</td>\n",
       "      <td>Basic Membership</td>\n",
       "      <td>2016-06-27</td>\n",
       "      <td>No</td>\n",
       "      <td>walk_in</td>\n",
       "      <td>Without Offers</td>\n",
       "      <td>Smartphone</td>\n",
       "      <td>Wi-Fi</td>\n",
       "      <td>...</td>\n",
       "      <td>28</td>\n",
       "      <td>527.99</td>\n",
       "      <td>Yes</td>\n",
       "      <td>No</td>\n",
       "      <td>No</td>\n",
       "      <td>Not Applicable</td>\n",
       "      <td>Poor Customer Service</td>\n",
       "      <td>1</td>\n",
       "      <td>2016</td>\n",
       "      <td>6</td>\n",
       "    </tr>\n",
       "    <tr>\n",
       "      <th>36990</th>\n",
       "      <td>53</td>\n",
       "      <td>M</td>\n",
       "      <td>Village</td>\n",
       "      <td>Platinum Membership</td>\n",
       "      <td>2017-06-15</td>\n",
       "      <td>No</td>\n",
       "      <td>walk_in</td>\n",
       "      <td>Gift Vouchers/Coupons</td>\n",
       "      <td>Smartphone</td>\n",
       "      <td>Mobile_Data</td>\n",
       "      <td>...</td>\n",
       "      <td>20</td>\n",
       "      <td>197.26441359999998</td>\n",
       "      <td>Yes</td>\n",
       "      <td>Yes</td>\n",
       "      <td>No</td>\n",
       "      <td>Not Applicable</td>\n",
       "      <td>No reason specified</td>\n",
       "      <td>0</td>\n",
       "      <td>2017</td>\n",
       "      <td>6</td>\n",
       "    </tr>\n",
       "    <tr>\n",
       "      <th>36991</th>\n",
       "      <td>35</td>\n",
       "      <td>M</td>\n",
       "      <td>Town</td>\n",
       "      <td>Silver Membership</td>\n",
       "      <td>2015-10-23</td>\n",
       "      <td>No</td>\n",
       "      <td>walk_in</td>\n",
       "      <td>Gift Vouchers/Coupons</td>\n",
       "      <td>Desktop</td>\n",
       "      <td>Mobile_Data</td>\n",
       "      <td>...</td>\n",
       "      <td>Error</td>\n",
       "      <td>719.97</td>\n",
       "      <td>Yes</td>\n",
       "      <td>No</td>\n",
       "      <td>No</td>\n",
       "      <td>Not Applicable</td>\n",
       "      <td>Quality Customer Care</td>\n",
       "      <td>0</td>\n",
       "      <td>2015</td>\n",
       "      <td>10</td>\n",
       "    </tr>\n",
       "  </tbody>\n",
       "</table>\n",
       "<p>31275 rows × 23 columns</p>\n",
       "</div>"
      ],
      "text/plain": [
       "       age gender region_category  membership_category joining_date  \\\n",
       "0       18      F         Village  Platinum Membership   2017-08-17   \n",
       "1       32      F            City   Premium Membership   2017-08-28   \n",
       "2       44      F            Town        No Membership   2016-11-11   \n",
       "3       37      M            City        No Membership   2016-10-29   \n",
       "4       31      F            City        No Membership   2017-12-09   \n",
       "...    ...    ...             ...                  ...          ...   \n",
       "36985   12      F         Village   Premium Membership   2016-10-25   \n",
       "36986   27      M            Town  Platinum Membership   2015-07-09   \n",
       "36988   29      F            Town     Basic Membership   2016-06-27   \n",
       "36990   53      M         Village  Platinum Membership   2017-06-15   \n",
       "36991   35      M            Town    Silver Membership   2015-10-23   \n",
       "\n",
       "      joined_through_referral referral_id     preferred_offer_types  \\\n",
       "0                          No     walk_in     Gift Vouchers/Coupons   \n",
       "1                Not_recorded    CID21329     Gift Vouchers/Coupons   \n",
       "2                         Yes    CID12313     Gift Vouchers/Coupons   \n",
       "3                         Yes     CID3793     Gift Vouchers/Coupons   \n",
       "4                          No     walk_in  Credit/Debit Card Offers   \n",
       "...                       ...         ...                       ...   \n",
       "36985                      No     walk_in     Gift Vouchers/Coupons   \n",
       "36986                     Yes    CID15800  Credit/Debit Card Offers   \n",
       "36988                      No     walk_in            Without Offers   \n",
       "36990                      No     walk_in     Gift Vouchers/Coupons   \n",
       "36991                      No     walk_in     Gift Vouchers/Coupons   \n",
       "\n",
       "      medium_of_operation internet_option  ...  avg_frequency_login_days  \\\n",
       "0                 Unknown           Wi-Fi  ...                        17   \n",
       "1                 Desktop     Mobile_Data  ...                        10   \n",
       "2                 Desktop           Wi-Fi  ...                        22   \n",
       "3                 Desktop     Mobile_Data  ...                         6   \n",
       "4              Smartphone     Mobile_Data  ...                        16   \n",
       "...                   ...             ...  ...                       ...   \n",
       "36985             Desktop     Fiber_Optic  ...                         7   \n",
       "36986             Desktop     Mobile_Data  ...                        16   \n",
       "36988          Smartphone           Wi-Fi  ...                        28   \n",
       "36990          Smartphone     Mobile_Data  ...                        20   \n",
       "36991             Desktop     Mobile_Data  ...                     Error   \n",
       "\n",
       "         points_in_wallet  used_special_discount offer_application_preference  \\\n",
       "0                  781.75                    Yes                          Yes   \n",
       "1                  698.48                    Yes                           No   \n",
       "2                  500.69                     No                          Yes   \n",
       "3                  567.66                     No                          Yes   \n",
       "4                  663.06                     No                          Yes   \n",
       "...                   ...                    ...                          ...   \n",
       "36985              725.89                    Yes                          Yes   \n",
       "36986              748.57                    Yes                           No   \n",
       "36988              527.99                    Yes                           No   \n",
       "36990  197.26441359999998                    Yes                          Yes   \n",
       "36991              719.97                    Yes                           No   \n",
       "\n",
       "      past_complaint     complaint_status                  feedback  \\\n",
       "0                 No       Not Applicable  Products always in Stock   \n",
       "1                Yes               Solved     Quality Customer Care   \n",
       "2                Yes  Solved in Follow-up              Poor Website   \n",
       "3                Yes             Unsolved              Poor Website   \n",
       "4                Yes               Solved              Poor Website   \n",
       "...              ...                  ...                       ...   \n",
       "36985            Yes             Unsolved  Products always in Stock   \n",
       "36986             No       Not Applicable       No reason specified   \n",
       "36988             No       Not Applicable     Poor Customer Service   \n",
       "36990             No       Not Applicable       No reason specified   \n",
       "36991             No       Not Applicable     Quality Customer Care   \n",
       "\n",
       "      churn_risk_score joining_year joining_month  \n",
       "0                    0         2017             8  \n",
       "1                    0         2017             8  \n",
       "2                    1         2016            11  \n",
       "3                    1         2016            10  \n",
       "4                    1         2017            12  \n",
       "...                ...          ...           ...  \n",
       "36985                0         2016            10  \n",
       "36986                0         2015             7  \n",
       "36988                1         2016             6  \n",
       "36990                0         2017             6  \n",
       "36991                0         2015            10  \n",
       "\n",
       "[31275 rows x 23 columns]"
      ]
     },
     "execution_count": 58,
     "metadata": {},
     "output_type": "execute_result"
    }
   ],
   "source": [
    "df_cleaned['points_in_wallet'] = df_cleaned['points_in_wallet'].astype(str).str.strip()\n",
    "df_cleaned\n"
   ]
  },
  {
   "cell_type": "code",
   "execution_count": 59,
   "metadata": {},
   "outputs": [],
   "source": [
    "# Convert points_in_wallet to numeric\n",
    "df_cleaned['points_in_wallet'] = pd.to_numeric(df_cleaned['points_in_wallet'], errors='coerce')\n"
   ]
  },
  {
   "cell_type": "code",
   "execution_count": 60,
   "metadata": {},
   "outputs": [],
   "source": [
    "# null vaules filled with median\n",
    "df_cleaned['points_in_wallet'].fillna(df_cleaned['points_in_wallet'].median(), inplace=True)\n",
    "df_cleaned['used_special_discount'] = df_cleaned['used_special_discount'].astype(str).str.strip().str.lower()"
   ]
  },
  {
   "cell_type": "code",
   "execution_count": 61,
   "metadata": {},
   "outputs": [],
   "source": [
    "discount_mapping = {\n",
    "    'yes': 'Yes',\n",
    "    'no': 'No',\n",
    "    'y': 'Yes',\n",
    "    'n': 'No'\n",
    "}\n",
    "df_cleaned['used_special_discount'] = df_cleaned['used_special_discount'].map(discount_mapping).fillna('No')"
   ]
  },
  {
   "cell_type": "code",
   "execution_count": 62,
   "metadata": {},
   "outputs": [],
   "source": [
    "df_cleaned['offer_application_preference'] = df_cleaned['offer_application_preference'].astype(str).str.strip().str.lower()\n",
    "offer_mapping = {\n",
    "    'yes': 'Yes',\n",
    "    'no': 'No',\n",
    "    'y': 'Yes',\n",
    "    'n': 'No'\n",
    "}\n",
    "df_cleaned['offer_application_preference'] = df_cleaned['offer_application_preference'].map(offer_mapping).fillna('No')\n",
    "df_cleaned['past_complaint'] = df_cleaned['past_complaint'].astype(str).str.strip().str.lower()\n",
    "complaint_mapping = {\n",
    "    'yes': 'Yes',\n",
    "    'no': 'No',\n",
    "    'y': 'Yes',\n",
    "    'n': 'No'\n",
    "}\n",
    "df_cleaned['past_complaint'] = df_cleaned['past_complaint'].map(complaint_mapping).fillna('No')"
   ]
  },
  {
   "cell_type": "markdown",
   "metadata": {},
   "source": [
    "### Clean and Handle Missing or Invalid Data\n",
    "\n",
    "Before we apply scaling or modeling, we need to make sure all our numeric fields are clean.\n"
   ]
  },
  {
   "cell_type": "code",
   "execution_count": 63,
   "metadata": {},
   "outputs": [
    {
     "data": {
      "text/html": [
       "<div>\n",
       "<style scoped>\n",
       "    .dataframe tbody tr th:only-of-type {\n",
       "        vertical-align: middle;\n",
       "    }\n",
       "\n",
       "    .dataframe tbody tr th {\n",
       "        vertical-align: top;\n",
       "    }\n",
       "\n",
       "    .dataframe thead th {\n",
       "        text-align: right;\n",
       "    }\n",
       "</style>\n",
       "<table border=\"1\" class=\"dataframe\">\n",
       "  <thead>\n",
       "    <tr style=\"text-align: right;\">\n",
       "      <th></th>\n",
       "      <th>age</th>\n",
       "      <th>gender</th>\n",
       "      <th>region_category</th>\n",
       "      <th>membership_category</th>\n",
       "      <th>joining_date</th>\n",
       "      <th>joined_through_referral</th>\n",
       "      <th>referral_id</th>\n",
       "      <th>preferred_offer_types</th>\n",
       "      <th>medium_of_operation</th>\n",
       "      <th>internet_option</th>\n",
       "      <th>...</th>\n",
       "      <th>avg_frequency_login_days</th>\n",
       "      <th>points_in_wallet</th>\n",
       "      <th>used_special_discount</th>\n",
       "      <th>offer_application_preference</th>\n",
       "      <th>past_complaint</th>\n",
       "      <th>complaint_status</th>\n",
       "      <th>feedback</th>\n",
       "      <th>churn_risk_score</th>\n",
       "      <th>joining_year</th>\n",
       "      <th>joining_month</th>\n",
       "    </tr>\n",
       "  </thead>\n",
       "  <tbody>\n",
       "    <tr>\n",
       "      <th>0</th>\n",
       "      <td>18</td>\n",
       "      <td>F</td>\n",
       "      <td>Village</td>\n",
       "      <td>Platinum Membership</td>\n",
       "      <td>2017-08-17</td>\n",
       "      <td>No</td>\n",
       "      <td>walk_in</td>\n",
       "      <td>Gift Vouchers/Coupons</td>\n",
       "      <td>Unknown</td>\n",
       "      <td>Wi-Fi</td>\n",
       "      <td>...</td>\n",
       "      <td>17.0</td>\n",
       "      <td>781.750000</td>\n",
       "      <td>Yes</td>\n",
       "      <td>Yes</td>\n",
       "      <td>No</td>\n",
       "      <td>Not Applicable</td>\n",
       "      <td>Products always in Stock</td>\n",
       "      <td>0</td>\n",
       "      <td>2017</td>\n",
       "      <td>8</td>\n",
       "    </tr>\n",
       "    <tr>\n",
       "      <th>1</th>\n",
       "      <td>32</td>\n",
       "      <td>F</td>\n",
       "      <td>City</td>\n",
       "      <td>Premium Membership</td>\n",
       "      <td>2017-08-28</td>\n",
       "      <td>Not_recorded</td>\n",
       "      <td>CID21329</td>\n",
       "      <td>Gift Vouchers/Coupons</td>\n",
       "      <td>Desktop</td>\n",
       "      <td>Mobile_Data</td>\n",
       "      <td>...</td>\n",
       "      <td>10.0</td>\n",
       "      <td>698.480000</td>\n",
       "      <td>Yes</td>\n",
       "      <td>No</td>\n",
       "      <td>Yes</td>\n",
       "      <td>Solved</td>\n",
       "      <td>Quality Customer Care</td>\n",
       "      <td>0</td>\n",
       "      <td>2017</td>\n",
       "      <td>8</td>\n",
       "    </tr>\n",
       "    <tr>\n",
       "      <th>2</th>\n",
       "      <td>44</td>\n",
       "      <td>F</td>\n",
       "      <td>Town</td>\n",
       "      <td>No Membership</td>\n",
       "      <td>2016-11-11</td>\n",
       "      <td>Yes</td>\n",
       "      <td>CID12313</td>\n",
       "      <td>Gift Vouchers/Coupons</td>\n",
       "      <td>Desktop</td>\n",
       "      <td>Wi-Fi</td>\n",
       "      <td>...</td>\n",
       "      <td>22.0</td>\n",
       "      <td>500.690000</td>\n",
       "      <td>No</td>\n",
       "      <td>Yes</td>\n",
       "      <td>Yes</td>\n",
       "      <td>Solved in Follow-up</td>\n",
       "      <td>Poor Website</td>\n",
       "      <td>1</td>\n",
       "      <td>2016</td>\n",
       "      <td>11</td>\n",
       "    </tr>\n",
       "    <tr>\n",
       "      <th>3</th>\n",
       "      <td>37</td>\n",
       "      <td>M</td>\n",
       "      <td>City</td>\n",
       "      <td>No Membership</td>\n",
       "      <td>2016-10-29</td>\n",
       "      <td>Yes</td>\n",
       "      <td>CID3793</td>\n",
       "      <td>Gift Vouchers/Coupons</td>\n",
       "      <td>Desktop</td>\n",
       "      <td>Mobile_Data</td>\n",
       "      <td>...</td>\n",
       "      <td>6.0</td>\n",
       "      <td>567.660000</td>\n",
       "      <td>No</td>\n",
       "      <td>Yes</td>\n",
       "      <td>Yes</td>\n",
       "      <td>Unsolved</td>\n",
       "      <td>Poor Website</td>\n",
       "      <td>1</td>\n",
       "      <td>2016</td>\n",
       "      <td>10</td>\n",
       "    </tr>\n",
       "    <tr>\n",
       "      <th>4</th>\n",
       "      <td>31</td>\n",
       "      <td>F</td>\n",
       "      <td>City</td>\n",
       "      <td>No Membership</td>\n",
       "      <td>2017-12-09</td>\n",
       "      <td>No</td>\n",
       "      <td>walk_in</td>\n",
       "      <td>Credit/Debit Card Offers</td>\n",
       "      <td>Smartphone</td>\n",
       "      <td>Mobile_Data</td>\n",
       "      <td>...</td>\n",
       "      <td>16.0</td>\n",
       "      <td>663.060000</td>\n",
       "      <td>No</td>\n",
       "      <td>Yes</td>\n",
       "      <td>Yes</td>\n",
       "      <td>Solved</td>\n",
       "      <td>Poor Website</td>\n",
       "      <td>1</td>\n",
       "      <td>2017</td>\n",
       "      <td>12</td>\n",
       "    </tr>\n",
       "    <tr>\n",
       "      <th>...</th>\n",
       "      <td>...</td>\n",
       "      <td>...</td>\n",
       "      <td>...</td>\n",
       "      <td>...</td>\n",
       "      <td>...</td>\n",
       "      <td>...</td>\n",
       "      <td>...</td>\n",
       "      <td>...</td>\n",
       "      <td>...</td>\n",
       "      <td>...</td>\n",
       "      <td>...</td>\n",
       "      <td>...</td>\n",
       "      <td>...</td>\n",
       "      <td>...</td>\n",
       "      <td>...</td>\n",
       "      <td>...</td>\n",
       "      <td>...</td>\n",
       "      <td>...</td>\n",
       "      <td>...</td>\n",
       "      <td>...</td>\n",
       "      <td>...</td>\n",
       "    </tr>\n",
       "    <tr>\n",
       "      <th>36985</th>\n",
       "      <td>12</td>\n",
       "      <td>F</td>\n",
       "      <td>Village</td>\n",
       "      <td>Premium Membership</td>\n",
       "      <td>2016-10-25</td>\n",
       "      <td>No</td>\n",
       "      <td>walk_in</td>\n",
       "      <td>Gift Vouchers/Coupons</td>\n",
       "      <td>Desktop</td>\n",
       "      <td>Fiber_Optic</td>\n",
       "      <td>...</td>\n",
       "      <td>7.0</td>\n",
       "      <td>725.890000</td>\n",
       "      <td>Yes</td>\n",
       "      <td>Yes</td>\n",
       "      <td>Yes</td>\n",
       "      <td>Unsolved</td>\n",
       "      <td>Products always in Stock</td>\n",
       "      <td>0</td>\n",
       "      <td>2016</td>\n",
       "      <td>10</td>\n",
       "    </tr>\n",
       "    <tr>\n",
       "      <th>36986</th>\n",
       "      <td>27</td>\n",
       "      <td>M</td>\n",
       "      <td>Town</td>\n",
       "      <td>Platinum Membership</td>\n",
       "      <td>2015-07-09</td>\n",
       "      <td>Yes</td>\n",
       "      <td>CID15800</td>\n",
       "      <td>Credit/Debit Card Offers</td>\n",
       "      <td>Desktop</td>\n",
       "      <td>Mobile_Data</td>\n",
       "      <td>...</td>\n",
       "      <td>16.0</td>\n",
       "      <td>748.570000</td>\n",
       "      <td>Yes</td>\n",
       "      <td>No</td>\n",
       "      <td>No</td>\n",
       "      <td>Not Applicable</td>\n",
       "      <td>No reason specified</td>\n",
       "      <td>0</td>\n",
       "      <td>2015</td>\n",
       "      <td>7</td>\n",
       "    </tr>\n",
       "    <tr>\n",
       "      <th>36988</th>\n",
       "      <td>29</td>\n",
       "      <td>F</td>\n",
       "      <td>Town</td>\n",
       "      <td>Basic Membership</td>\n",
       "      <td>2016-06-27</td>\n",
       "      <td>No</td>\n",
       "      <td>walk_in</td>\n",
       "      <td>Without Offers</td>\n",
       "      <td>Smartphone</td>\n",
       "      <td>Wi-Fi</td>\n",
       "      <td>...</td>\n",
       "      <td>28.0</td>\n",
       "      <td>527.990000</td>\n",
       "      <td>Yes</td>\n",
       "      <td>No</td>\n",
       "      <td>No</td>\n",
       "      <td>Not Applicable</td>\n",
       "      <td>Poor Customer Service</td>\n",
       "      <td>1</td>\n",
       "      <td>2016</td>\n",
       "      <td>6</td>\n",
       "    </tr>\n",
       "    <tr>\n",
       "      <th>36990</th>\n",
       "      <td>53</td>\n",
       "      <td>M</td>\n",
       "      <td>Village</td>\n",
       "      <td>Platinum Membership</td>\n",
       "      <td>2017-06-15</td>\n",
       "      <td>No</td>\n",
       "      <td>walk_in</td>\n",
       "      <td>Gift Vouchers/Coupons</td>\n",
       "      <td>Smartphone</td>\n",
       "      <td>Mobile_Data</td>\n",
       "      <td>...</td>\n",
       "      <td>20.0</td>\n",
       "      <td>197.264414</td>\n",
       "      <td>Yes</td>\n",
       "      <td>Yes</td>\n",
       "      <td>No</td>\n",
       "      <td>Not Applicable</td>\n",
       "      <td>No reason specified</td>\n",
       "      <td>0</td>\n",
       "      <td>2017</td>\n",
       "      <td>6</td>\n",
       "    </tr>\n",
       "    <tr>\n",
       "      <th>36991</th>\n",
       "      <td>35</td>\n",
       "      <td>M</td>\n",
       "      <td>Town</td>\n",
       "      <td>Silver Membership</td>\n",
       "      <td>2015-10-23</td>\n",
       "      <td>No</td>\n",
       "      <td>walk_in</td>\n",
       "      <td>Gift Vouchers/Coupons</td>\n",
       "      <td>Desktop</td>\n",
       "      <td>Mobile_Data</td>\n",
       "      <td>...</td>\n",
       "      <td>16.0</td>\n",
       "      <td>719.970000</td>\n",
       "      <td>Yes</td>\n",
       "      <td>No</td>\n",
       "      <td>No</td>\n",
       "      <td>Not Applicable</td>\n",
       "      <td>Quality Customer Care</td>\n",
       "      <td>0</td>\n",
       "      <td>2015</td>\n",
       "      <td>10</td>\n",
       "    </tr>\n",
       "  </tbody>\n",
       "</table>\n",
       "<p>31275 rows × 23 columns</p>\n",
       "</div>"
      ],
      "text/plain": [
       "       age gender region_category  membership_category joining_date  \\\n",
       "0       18      F         Village  Platinum Membership   2017-08-17   \n",
       "1       32      F            City   Premium Membership   2017-08-28   \n",
       "2       44      F            Town        No Membership   2016-11-11   \n",
       "3       37      M            City        No Membership   2016-10-29   \n",
       "4       31      F            City        No Membership   2017-12-09   \n",
       "...    ...    ...             ...                  ...          ...   \n",
       "36985   12      F         Village   Premium Membership   2016-10-25   \n",
       "36986   27      M            Town  Platinum Membership   2015-07-09   \n",
       "36988   29      F            Town     Basic Membership   2016-06-27   \n",
       "36990   53      M         Village  Platinum Membership   2017-06-15   \n",
       "36991   35      M            Town    Silver Membership   2015-10-23   \n",
       "\n",
       "      joined_through_referral referral_id     preferred_offer_types  \\\n",
       "0                          No     walk_in     Gift Vouchers/Coupons   \n",
       "1                Not_recorded    CID21329     Gift Vouchers/Coupons   \n",
       "2                         Yes    CID12313     Gift Vouchers/Coupons   \n",
       "3                         Yes     CID3793     Gift Vouchers/Coupons   \n",
       "4                          No     walk_in  Credit/Debit Card Offers   \n",
       "...                       ...         ...                       ...   \n",
       "36985                      No     walk_in     Gift Vouchers/Coupons   \n",
       "36986                     Yes    CID15800  Credit/Debit Card Offers   \n",
       "36988                      No     walk_in            Without Offers   \n",
       "36990                      No     walk_in     Gift Vouchers/Coupons   \n",
       "36991                      No     walk_in     Gift Vouchers/Coupons   \n",
       "\n",
       "      medium_of_operation internet_option  ...  avg_frequency_login_days  \\\n",
       "0                 Unknown           Wi-Fi  ...                      17.0   \n",
       "1                 Desktop     Mobile_Data  ...                      10.0   \n",
       "2                 Desktop           Wi-Fi  ...                      22.0   \n",
       "3                 Desktop     Mobile_Data  ...                       6.0   \n",
       "4              Smartphone     Mobile_Data  ...                      16.0   \n",
       "...                   ...             ...  ...                       ...   \n",
       "36985             Desktop     Fiber_Optic  ...                       7.0   \n",
       "36986             Desktop     Mobile_Data  ...                      16.0   \n",
       "36988          Smartphone           Wi-Fi  ...                      28.0   \n",
       "36990          Smartphone     Mobile_Data  ...                      20.0   \n",
       "36991             Desktop     Mobile_Data  ...                      16.0   \n",
       "\n",
       "       points_in_wallet  used_special_discount  offer_application_preference  \\\n",
       "0            781.750000                    Yes                           Yes   \n",
       "1            698.480000                    Yes                            No   \n",
       "2            500.690000                     No                           Yes   \n",
       "3            567.660000                     No                           Yes   \n",
       "4            663.060000                     No                           Yes   \n",
       "...                 ...                    ...                           ...   \n",
       "36985        725.890000                    Yes                           Yes   \n",
       "36986        748.570000                    Yes                            No   \n",
       "36988        527.990000                    Yes                            No   \n",
       "36990        197.264414                    Yes                           Yes   \n",
       "36991        719.970000                    Yes                            No   \n",
       "\n",
       "       past_complaint     complaint_status                  feedback  \\\n",
       "0                  No       Not Applicable  Products always in Stock   \n",
       "1                 Yes               Solved     Quality Customer Care   \n",
       "2                 Yes  Solved in Follow-up              Poor Website   \n",
       "3                 Yes             Unsolved              Poor Website   \n",
       "4                 Yes               Solved              Poor Website   \n",
       "...               ...                  ...                       ...   \n",
       "36985             Yes             Unsolved  Products always in Stock   \n",
       "36986              No       Not Applicable       No reason specified   \n",
       "36988              No       Not Applicable     Poor Customer Service   \n",
       "36990              No       Not Applicable       No reason specified   \n",
       "36991              No       Not Applicable     Quality Customer Care   \n",
       "\n",
       "      churn_risk_score joining_year joining_month  \n",
       "0                    0         2017             8  \n",
       "1                    0         2017             8  \n",
       "2                    1         2016            11  \n",
       "3                    1         2016            10  \n",
       "4                    1         2017            12  \n",
       "...                ...          ...           ...  \n",
       "36985                0         2016            10  \n",
       "36986                0         2015             7  \n",
       "36988                1         2016             6  \n",
       "36990                0         2017             6  \n",
       "36991                0         2015            10  \n",
       "\n",
       "[31275 rows x 23 columns]"
      ]
     },
     "execution_count": 63,
     "metadata": {},
     "output_type": "execute_result"
    }
   ],
   "source": [
    "# Convert string-like errors to numeric and handle missing values\n",
    "cols_to_clean = ['avg_frequency_login_days', 'avg_transaction_value', 'points_in_wallet',\n",
    "                 'days_since_last_login', 'avg_time_spent']\n",
    "\n",
    "for col in cols_to_clean:\n",
    "    df_cleaned[col] = pd.to_numeric( df_cleaned[col], errors='coerce')  \n",
    "    df_cleaned[col].fillna( df_cleaned[col].median(), inplace=True)     \n",
    "df_cleaned"
   ]
  },
  {
   "cell_type": "markdown",
   "metadata": {},
   "source": [
    "All numeric columns are now clean and free of errors or missing values.\n"
   ]
  },
  {
   "cell_type": "markdown",
   "metadata": {},
   "source": [
    "### STANDARDIZATION  \n",
    "\n",
    "Some of the features like `avg_time_spent`, `avg_transaction_value`,  are on different scales.To ensure fair treatment by models, we’ll **standardize** to centers the distribution.\n"
   ]
  },
  {
   "cell_type": "code",
   "execution_count": 64,
   "metadata": {},
   "outputs": [
    {
     "data": {
      "text/html": [
       "<div>\n",
       "<style scoped>\n",
       "    .dataframe tbody tr th:only-of-type {\n",
       "        vertical-align: middle;\n",
       "    }\n",
       "\n",
       "    .dataframe tbody tr th {\n",
       "        vertical-align: top;\n",
       "    }\n",
       "\n",
       "    .dataframe thead th {\n",
       "        text-align: right;\n",
       "    }\n",
       "</style>\n",
       "<table border=\"1\" class=\"dataframe\">\n",
       "  <thead>\n",
       "    <tr style=\"text-align: right;\">\n",
       "      <th></th>\n",
       "      <th>age</th>\n",
       "      <th>gender</th>\n",
       "      <th>region_category</th>\n",
       "      <th>membership_category</th>\n",
       "      <th>joining_date</th>\n",
       "      <th>joined_through_referral</th>\n",
       "      <th>referral_id</th>\n",
       "      <th>preferred_offer_types</th>\n",
       "      <th>medium_of_operation</th>\n",
       "      <th>internet_option</th>\n",
       "      <th>...</th>\n",
       "      <th>used_special_discount</th>\n",
       "      <th>offer_application_preference</th>\n",
       "      <th>past_complaint</th>\n",
       "      <th>complaint_status</th>\n",
       "      <th>feedback</th>\n",
       "      <th>churn_risk_score</th>\n",
       "      <th>joining_year</th>\n",
       "      <th>joining_month</th>\n",
       "      <th>avg_time_spent_std</th>\n",
       "      <th>avg_transaction_value_std</th>\n",
       "    </tr>\n",
       "  </thead>\n",
       "  <tbody>\n",
       "    <tr>\n",
       "      <th>0</th>\n",
       "      <td>18.0</td>\n",
       "      <td>F</td>\n",
       "      <td>Village</td>\n",
       "      <td>Platinum Membership</td>\n",
       "      <td>2017-08-17</td>\n",
       "      <td>No</td>\n",
       "      <td>walk_in</td>\n",
       "      <td>Gift Vouchers/Coupons</td>\n",
       "      <td>Unknown</td>\n",
       "      <td>Wi-Fi</td>\n",
       "      <td>...</td>\n",
       "      <td>Yes</td>\n",
       "      <td>Yes</td>\n",
       "      <td>No</td>\n",
       "      <td>Not Applicable</td>\n",
       "      <td>Products always in Stock</td>\n",
       "      <td>0.0</td>\n",
       "      <td>2017.0</td>\n",
       "      <td>8.0</td>\n",
       "      <td>0.038006</td>\n",
       "      <td>1.214373</td>\n",
       "    </tr>\n",
       "    <tr>\n",
       "      <th>1</th>\n",
       "      <td>32.0</td>\n",
       "      <td>F</td>\n",
       "      <td>City</td>\n",
       "      <td>Premium Membership</td>\n",
       "      <td>2017-08-28</td>\n",
       "      <td>Not_recorded</td>\n",
       "      <td>CID21329</td>\n",
       "      <td>Gift Vouchers/Coupons</td>\n",
       "      <td>Desktop</td>\n",
       "      <td>Mobile_Data</td>\n",
       "      <td>...</td>\n",
       "      <td>Yes</td>\n",
       "      <td>No</td>\n",
       "      <td>Yes</td>\n",
       "      <td>Solved</td>\n",
       "      <td>Quality Customer Care</td>\n",
       "      <td>0.0</td>\n",
       "      <td>2017.0</td>\n",
       "      <td>8.0</td>\n",
       "      <td>0.055456</td>\n",
       "      <td>-0.844669</td>\n",
       "    </tr>\n",
       "    <tr>\n",
       "      <th>2</th>\n",
       "      <td>44.0</td>\n",
       "      <td>F</td>\n",
       "      <td>Town</td>\n",
       "      <td>No Membership</td>\n",
       "      <td>2016-11-11</td>\n",
       "      <td>Yes</td>\n",
       "      <td>CID12313</td>\n",
       "      <td>Gift Vouchers/Coupons</td>\n",
       "      <td>Desktop</td>\n",
       "      <td>Wi-Fi</td>\n",
       "      <td>...</td>\n",
       "      <td>No</td>\n",
       "      <td>Yes</td>\n",
       "      <td>Yes</td>\n",
       "      <td>Solved in Follow-up</td>\n",
       "      <td>Poor Website</td>\n",
       "      <td>1.0</td>\n",
       "      <td>2016.0</td>\n",
       "      <td>11.0</td>\n",
       "      <td>0.696656</td>\n",
       "      <td>-0.424902</td>\n",
       "    </tr>\n",
       "    <tr>\n",
       "      <th>3</th>\n",
       "      <td>37.0</td>\n",
       "      <td>M</td>\n",
       "      <td>City</td>\n",
       "      <td>No Membership</td>\n",
       "      <td>2016-10-29</td>\n",
       "      <td>Yes</td>\n",
       "      <td>CID3793</td>\n",
       "      <td>Gift Vouchers/Coupons</td>\n",
       "      <td>Desktop</td>\n",
       "      <td>Mobile_Data</td>\n",
       "      <td>...</td>\n",
       "      <td>No</td>\n",
       "      <td>Yes</td>\n",
       "      <td>Yes</td>\n",
       "      <td>Unsolved</td>\n",
       "      <td>Poor Website</td>\n",
       "      <td>1.0</td>\n",
       "      <td>2016.0</td>\n",
       "      <td>10.0</td>\n",
       "      <td>-0.717915</td>\n",
       "      <td>-0.208957</td>\n",
       "    </tr>\n",
       "    <tr>\n",
       "      <th>4</th>\n",
       "      <td>31.0</td>\n",
       "      <td>F</td>\n",
       "      <td>City</td>\n",
       "      <td>No Membership</td>\n",
       "      <td>2017-12-09</td>\n",
       "      <td>No</td>\n",
       "      <td>walk_in</td>\n",
       "      <td>Credit/Debit Card Offers</td>\n",
       "      <td>Smartphone</td>\n",
       "      <td>Mobile_Data</td>\n",
       "      <td>...</td>\n",
       "      <td>No</td>\n",
       "      <td>Yes</td>\n",
       "      <td>Yes</td>\n",
       "      <td>Solved</td>\n",
       "      <td>Poor Website</td>\n",
       "      <td>1.0</td>\n",
       "      <td>2017.0</td>\n",
       "      <td>12.0</td>\n",
       "      <td>-0.534985</td>\n",
       "      <td>-0.247706</td>\n",
       "    </tr>\n",
       "    <tr>\n",
       "      <th>...</th>\n",
       "      <td>...</td>\n",
       "      <td>...</td>\n",
       "      <td>...</td>\n",
       "      <td>...</td>\n",
       "      <td>...</td>\n",
       "      <td>...</td>\n",
       "      <td>...</td>\n",
       "      <td>...</td>\n",
       "      <td>...</td>\n",
       "      <td>...</td>\n",
       "      <td>...</td>\n",
       "      <td>...</td>\n",
       "      <td>...</td>\n",
       "      <td>...</td>\n",
       "      <td>...</td>\n",
       "      <td>...</td>\n",
       "      <td>...</td>\n",
       "      <td>...</td>\n",
       "      <td>...</td>\n",
       "      <td>...</td>\n",
       "      <td>...</td>\n",
       "    </tr>\n",
       "    <tr>\n",
       "      <th>36985</th>\n",
       "      <td>12.0</td>\n",
       "      <td>F</td>\n",
       "      <td>Village</td>\n",
       "      <td>Premium Membership</td>\n",
       "      <td>2016-10-25</td>\n",
       "      <td>No</td>\n",
       "      <td>walk_in</td>\n",
       "      <td>Gift Vouchers/Coupons</td>\n",
       "      <td>Desktop</td>\n",
       "      <td>Fiber_Optic</td>\n",
       "      <td>...</td>\n",
       "      <td>Yes</td>\n",
       "      <td>Yes</td>\n",
       "      <td>Yes</td>\n",
       "      <td>Unsolved</td>\n",
       "      <td>Products always in Stock</td>\n",
       "      <td>0.0</td>\n",
       "      <td>2016.0</td>\n",
       "      <td>10.0</td>\n",
       "      <td>NaN</td>\n",
       "      <td>NaN</td>\n",
       "    </tr>\n",
       "    <tr>\n",
       "      <th>36986</th>\n",
       "      <td>27.0</td>\n",
       "      <td>M</td>\n",
       "      <td>Town</td>\n",
       "      <td>Platinum Membership</td>\n",
       "      <td>2015-07-09</td>\n",
       "      <td>Yes</td>\n",
       "      <td>CID15800</td>\n",
       "      <td>Credit/Debit Card Offers</td>\n",
       "      <td>Desktop</td>\n",
       "      <td>Mobile_Data</td>\n",
       "      <td>...</td>\n",
       "      <td>Yes</td>\n",
       "      <td>No</td>\n",
       "      <td>No</td>\n",
       "      <td>Not Applicable</td>\n",
       "      <td>No reason specified</td>\n",
       "      <td>0.0</td>\n",
       "      <td>2015.0</td>\n",
       "      <td>7.0</td>\n",
       "      <td>NaN</td>\n",
       "      <td>NaN</td>\n",
       "    </tr>\n",
       "    <tr>\n",
       "      <th>36988</th>\n",
       "      <td>29.0</td>\n",
       "      <td>F</td>\n",
       "      <td>Town</td>\n",
       "      <td>Basic Membership</td>\n",
       "      <td>2016-06-27</td>\n",
       "      <td>No</td>\n",
       "      <td>walk_in</td>\n",
       "      <td>Without Offers</td>\n",
       "      <td>Smartphone</td>\n",
       "      <td>Wi-Fi</td>\n",
       "      <td>...</td>\n",
       "      <td>Yes</td>\n",
       "      <td>No</td>\n",
       "      <td>No</td>\n",
       "      <td>Not Applicable</td>\n",
       "      <td>Poor Customer Service</td>\n",
       "      <td>1.0</td>\n",
       "      <td>2016.0</td>\n",
       "      <td>6.0</td>\n",
       "      <td>NaN</td>\n",
       "      <td>NaN</td>\n",
       "    </tr>\n",
       "    <tr>\n",
       "      <th>36990</th>\n",
       "      <td>53.0</td>\n",
       "      <td>M</td>\n",
       "      <td>Village</td>\n",
       "      <td>Platinum Membership</td>\n",
       "      <td>2017-06-15</td>\n",
       "      <td>No</td>\n",
       "      <td>walk_in</td>\n",
       "      <td>Gift Vouchers/Coupons</td>\n",
       "      <td>Smartphone</td>\n",
       "      <td>Mobile_Data</td>\n",
       "      <td>...</td>\n",
       "      <td>Yes</td>\n",
       "      <td>Yes</td>\n",
       "      <td>No</td>\n",
       "      <td>Not Applicable</td>\n",
       "      <td>No reason specified</td>\n",
       "      <td>0.0</td>\n",
       "      <td>2017.0</td>\n",
       "      <td>6.0</td>\n",
       "      <td>NaN</td>\n",
       "      <td>NaN</td>\n",
       "    </tr>\n",
       "    <tr>\n",
       "      <th>36991</th>\n",
       "      <td>35.0</td>\n",
       "      <td>M</td>\n",
       "      <td>Town</td>\n",
       "      <td>Silver Membership</td>\n",
       "      <td>2015-10-23</td>\n",
       "      <td>No</td>\n",
       "      <td>walk_in</td>\n",
       "      <td>Gift Vouchers/Coupons</td>\n",
       "      <td>Desktop</td>\n",
       "      <td>Mobile_Data</td>\n",
       "      <td>...</td>\n",
       "      <td>Yes</td>\n",
       "      <td>No</td>\n",
       "      <td>No</td>\n",
       "      <td>Not Applicable</td>\n",
       "      <td>Quality Customer Care</td>\n",
       "      <td>0.0</td>\n",
       "      <td>2015.0</td>\n",
       "      <td>10.0</td>\n",
       "      <td>NaN</td>\n",
       "      <td>NaN</td>\n",
       "    </tr>\n",
       "  </tbody>\n",
       "</table>\n",
       "<p>36143 rows × 25 columns</p>\n",
       "</div>"
      ],
      "text/plain": [
       "        age gender region_category  membership_category joining_date  \\\n",
       "0      18.0      F         Village  Platinum Membership   2017-08-17   \n",
       "1      32.0      F            City   Premium Membership   2017-08-28   \n",
       "2      44.0      F            Town        No Membership   2016-11-11   \n",
       "3      37.0      M            City        No Membership   2016-10-29   \n",
       "4      31.0      F            City        No Membership   2017-12-09   \n",
       "...     ...    ...             ...                  ...          ...   \n",
       "36985  12.0      F         Village   Premium Membership   2016-10-25   \n",
       "36986  27.0      M            Town  Platinum Membership   2015-07-09   \n",
       "36988  29.0      F            Town     Basic Membership   2016-06-27   \n",
       "36990  53.0      M         Village  Platinum Membership   2017-06-15   \n",
       "36991  35.0      M            Town    Silver Membership   2015-10-23   \n",
       "\n",
       "      joined_through_referral referral_id     preferred_offer_types  \\\n",
       "0                          No     walk_in     Gift Vouchers/Coupons   \n",
       "1                Not_recorded    CID21329     Gift Vouchers/Coupons   \n",
       "2                         Yes    CID12313     Gift Vouchers/Coupons   \n",
       "3                         Yes     CID3793     Gift Vouchers/Coupons   \n",
       "4                          No     walk_in  Credit/Debit Card Offers   \n",
       "...                       ...         ...                       ...   \n",
       "36985                      No     walk_in     Gift Vouchers/Coupons   \n",
       "36986                     Yes    CID15800  Credit/Debit Card Offers   \n",
       "36988                      No     walk_in            Without Offers   \n",
       "36990                      No     walk_in     Gift Vouchers/Coupons   \n",
       "36991                      No     walk_in     Gift Vouchers/Coupons   \n",
       "\n",
       "      medium_of_operation internet_option  ...  used_special_discount  \\\n",
       "0                 Unknown           Wi-Fi  ...                    Yes   \n",
       "1                 Desktop     Mobile_Data  ...                    Yes   \n",
       "2                 Desktop           Wi-Fi  ...                     No   \n",
       "3                 Desktop     Mobile_Data  ...                     No   \n",
       "4              Smartphone     Mobile_Data  ...                     No   \n",
       "...                   ...             ...  ...                    ...   \n",
       "36985             Desktop     Fiber_Optic  ...                    Yes   \n",
       "36986             Desktop     Mobile_Data  ...                    Yes   \n",
       "36988          Smartphone           Wi-Fi  ...                    Yes   \n",
       "36990          Smartphone     Mobile_Data  ...                    Yes   \n",
       "36991             Desktop     Mobile_Data  ...                    Yes   \n",
       "\n",
       "       offer_application_preference  past_complaint     complaint_status  \\\n",
       "0                               Yes              No       Not Applicable   \n",
       "1                                No             Yes               Solved   \n",
       "2                               Yes             Yes  Solved in Follow-up   \n",
       "3                               Yes             Yes             Unsolved   \n",
       "4                               Yes             Yes               Solved   \n",
       "...                             ...             ...                  ...   \n",
       "36985                           Yes             Yes             Unsolved   \n",
       "36986                            No              No       Not Applicable   \n",
       "36988                            No              No       Not Applicable   \n",
       "36990                           Yes              No       Not Applicable   \n",
       "36991                            No              No       Not Applicable   \n",
       "\n",
       "                       feedback churn_risk_score joining_year joining_month  \\\n",
       "0      Products always in Stock              0.0       2017.0           8.0   \n",
       "1         Quality Customer Care              0.0       2017.0           8.0   \n",
       "2                  Poor Website              1.0       2016.0          11.0   \n",
       "3                  Poor Website              1.0       2016.0          10.0   \n",
       "4                  Poor Website              1.0       2017.0          12.0   \n",
       "...                         ...              ...          ...           ...   \n",
       "36985  Products always in Stock              0.0       2016.0          10.0   \n",
       "36986       No reason specified              0.0       2015.0           7.0   \n",
       "36988     Poor Customer Service              1.0       2016.0           6.0   \n",
       "36990       No reason specified              0.0       2017.0           6.0   \n",
       "36991     Quality Customer Care              0.0       2015.0          10.0   \n",
       "\n",
       "      avg_time_spent_std avg_transaction_value_std  \n",
       "0               0.038006                  1.214373  \n",
       "1               0.055456                 -0.844669  \n",
       "2               0.696656                 -0.424902  \n",
       "3              -0.717915                 -0.208957  \n",
       "4              -0.534985                 -0.247706  \n",
       "...                  ...                       ...  \n",
       "36985                NaN                       NaN  \n",
       "36986                NaN                       NaN  \n",
       "36988                NaN                       NaN  \n",
       "36990                NaN                       NaN  \n",
       "36991                NaN                       NaN  \n",
       "\n",
       "[36143 rows x 25 columns]"
      ]
     },
     "execution_count": 64,
     "metadata": {},
     "output_type": "execute_result"
    }
   ],
   "source": [
    "standardize_cols = ['avg_time_spent', 'avg_transaction_value']\n",
    "scaler_std = StandardScaler()\n",
    "df_cleaned_std = pd.DataFrame(scaler_std.fit_transform( df_cleaned[standardize_cols]),\n",
    "                      columns=[f\"{col}_std\" for col in standardize_cols])\n",
    "df_cleaned = pd.concat([df_cleaned, df_cleaned_std], axis=1)\n",
    "df_cleaned"
   ]
  },
  {
   "cell_type": "code",
   "execution_count": 65,
   "metadata": {},
   "outputs": [
    {
     "data": {
      "image/png": "[encoded data removed]",
      "text/plain": [
       "<Figure size 1080x576 with 4 Axes>"
      ]
     },
     "metadata": {
      "needs_background": "light"
     },
     "output_type": "display_data"
    }
   ],
   "source": [
    "plt.figure(figsize=(15, 8))\n",
    "\n",
    "for i, col in enumerate(standardize_cols):\n",
    "    plt.subplot(2, 3, i+1)\n",
    "    sns.histplot(df_cleaned[col], kde=True, bins=30)\n",
    "    plt.title(f\"{col} - Original\")\n",
    "    plt.xlim(df[col].min(), df[col].max())\n",
    "\n",
    "    plt.subplot(2, 3, i+4)\n",
    "    sns.histplot(df_cleaned[f\"{col}_std\"], kde=True, color='green', bins=30)\n",
    "    plt.title(f\"{col}_std - Standardized\")\n",
    "    plt.xlim(-4, 4)\n",
    "\n",
    "plt.tight_layout()\n",
    "plt.suptitle(\"Standardization: Before vs After\", fontsize=16, y=1.02)\n",
    "plt.show()\n"
   ]
  },
  {
   "cell_type": "markdown",
   "metadata": {},
   "source": [
    "After standardization, the features are centered.Preparing them well for models sensitive to feature magnitude.\n"
   ]
  },
  {
   "cell_type": "markdown",
   "metadata": {},
   "source": [
    "### NORMALIZATION\n",
    "\n"
   ]
  },
  {
   "cell_type": "markdown",
   "metadata": {},
   "source": [
    "### Normalize Features to Range [0, 1]\n",
    "\n",
    "Normalization rescales features, We  will use it for  this features `days_since_last_login`, `avg_frequency_login_days`, and `points_in_wallet`.\n",
    "\n",
    "\n"
   ]
  },
  {
   "cell_type": "code",
   "execution_count": 66,
   "metadata": {},
   "outputs": [
    {
     "ename": "NameError",
     "evalue": "name 'df_norm' is not defined",
     "output_type": "error",
     "traceback": [
      "\u001b[1;31m---------------------------------------------------------------------------\u001b[0m",
      "\u001b[1;31mNameError\u001b[0m                                 Traceback (most recent call last)",
      "\u001b[1;32m<ipython-input-66-531c475b7993>\u001b[0m in \u001b[0;36m<module>\u001b[1;34m\u001b[0m\n\u001b[0;32m     16\u001b[0m \u001b[1;33m\u001b[0m\u001b[0m\n\u001b[0;32m     17\u001b[0m \u001b[1;31m# Combine with original data\u001b[0m\u001b[1;33m\u001b[0m\u001b[1;33m\u001b[0m\u001b[1;33m\u001b[0m\u001b[0m\n\u001b[1;32m---> 18\u001b[1;33m \u001b[0mdf_cleaned\u001b[0m \u001b[1;33m=\u001b[0m \u001b[0mpd\u001b[0m\u001b[1;33m.\u001b[0m\u001b[0mconcat\u001b[0m\u001b[1;33m(\u001b[0m\u001b[1;33m[\u001b[0m\u001b[0mdf\u001b[0m\u001b[1;33m,\u001b[0m \u001b[0mdf_norm\u001b[0m\u001b[1;33m]\u001b[0m\u001b[1;33m,\u001b[0m \u001b[0maxis\u001b[0m\u001b[1;33m=\u001b[0m\u001b[1;36m1\u001b[0m\u001b[1;33m)\u001b[0m\u001b[1;33m\u001b[0m\u001b[1;33m\u001b[0m\u001b[0m\n\u001b[0m",
      "\u001b[1;31mNameError\u001b[0m: name 'df_norm' is not defined"
     ]
    }
   ],
   "source": [
    "from sklearn.preprocessing import MinMaxScaler\n",
    "\n",
    "# Columns to normalize (added 'days_since_last_login')\n",
    "normalize_cols = ['avg_frequency_login_days', 'points_in_wallet']\n",
    "\n",
    "# Convert to numeric and handle errors\n",
    "df_cleaned[normalize_cols] = df_cleaned[normalize_cols].apply(pd.to_numeric, errors='coerce')\n",
    "\n",
    "# Fill missing values (optional: here we use 0)\n",
    "df_cleaned[normalize_cols] = df_cleaned[normalize_cols].fillna(0)\n",
    "\n",
    "# Normalize\n",
    "scaler_norm = MinMaxScaler()\n",
    "df_cleaned_norm = pd.DataFrame(scaler_norm.fit_transform(df_cleaned[normalize_cols]),\n",
    "                       columns=[f\"{col}_norm\" for col in normalize_cols])\n",
    "\n",
    "# Combine with original data\n",
    "df_cleaned = pd.concat([df, df_norm], axis=1)\n"
   ]
  },
  {
   "cell_type": "code",
   "execution_count": null,
   "metadata": {},
   "outputs": [],
   "source": [
    "# Visualizing before and after normalization\n",
    "plt.figure(figsize=(12, 5))\n",
    "\n",
    "for i, col in enumerate(normalize_cols):\n",
    "    # Original\n",
    "    plt.subplot(2, len(normalize_cols), i + 1)\n",
    "    sns.histplot(df[col], kde=True)\n",
    "    plt.title(f\"{col} - Original\")\n",
    "\n",
    "    # Normalized\n",
    "    plt.subplot(2, len(normalize_cols), i + 1 + len(normalize_cols))\n",
    "    sns.histplot(df_cleaned[f\"{col}_norm\"], kde=True, color='orange')\n",
    "    plt.title(f\"{col}_norm - Normalized\")\n",
    "\n",
    "plt.tight_layout()\n",
    "plt.suptitle(\"Before and After Normalization\", fontsize=14, y=1.05)\n",
    "plt.show()"
   ]
  },
  {
   "cell_type": "code",
   "execution_count": null,
   "metadata": {},
   "outputs": [],
   "source": [
    "# Drop duplicate columns\n",
    "df_cleaned = df_cleaned.loc[:, ~df_cleaned.columns.duplicated()]\n",
    "\n",
    "# Check min and max of normalized columns\n",
    "for col in ['avg_frequency_login_days_norm', 'points_in_wallet_norm']:\n",
    "    if col in df_cleaned.columns:\n",
    "        print(f\"{col}: min={df_cleaned[col].min():.2f}, max={df_cleaned[col].max():.2f}\")\n",
    "    else:\n",
    "        print(f\"{col} not found\")\n"
   ]
  },
  {
   "cell_type": "code",
   "execution_count": null,
   "metadata": {},
   "outputs": [],
   "source": [
    "for col in ['avg_frequency_login_days_norm', 'points_in_wallet_norm']:\n",
    "    min_val = df_cleaned[col].min()\n",
    "    max_val = df_cleaned[col].max()\n",
    "    print(f\"{col}: min={round(min_val, 3)}, max={round(max_val, 3)}\")\n"
   ]
  },
  {
   "cell_type": "code",
   "execution_count": null,
   "metadata": {},
   "outputs": [],
   "source": [
    "# Drop duplicate columns \n",
    "df_cleaned = df_cleaned.loc[:, ~df_cleaned.columns.duplicated()]\n",
    "\n",
    "# inspect normalized columns\n",
    "normalized_columns = [\n",
    "    'days_since_last_login_norm',\n",
    "    'avg_frequency_login_days_norm',\n",
    "    'points_in_wallet_norm'\n",
    "]\n",
    "\n",
    "# results\n",
    "for col in normalized_columns:\n",
    "    if col in df.columns:\n",
    "        print(f\"{col}: min = {df_cleaned[col].min():.3f}, max = {df_cleaned[col].max():.3f}\")\n",
    "    else:\n",
    "        print(f\" Column '{col}' not found in the DataFrame.\")\n"
   ]
  },
  {
   "cell_type": "code",
   "execution_count": null,
   "metadata": {},
   "outputs": [],
   "source": [
    "\n",
    "# List of original and normalized column pairs\n",
    "normalization_pairs = [\n",
    "    ('avg_frequency_login_days', 'avg_frequency_login_days_norm'),\n",
    "    ('points_in_wallet', 'points_in_wallet_norm')\n",
    "]\n",
    "\n",
    "# Create plots\n",
    "plt.figure(figsize=(18, 8))\n",
    "\n",
    "for i, (original, normalized) in enumerate(normalization_pairs):\n",
    "    # Original\n",
    "    plt.subplot(2, 3, i + 1)\n",
    "    sns.histplot(df[original], kde=True, bins=30)\n",
    "    plt.title(f'{original} - Original')\n",
    "    plt.xlabel('Value')\n",
    "    \n",
    "    # Normalized\n",
    "    plt.subplot(2, 3, i + 4)\n",
    "    sns.histplot(df_cleaned[normalized], kde=True, bins=30, color='orange')\n",
    "    plt.title(f'{normalized} - Normalized')\n",
    "    plt.xlabel('Value (0 to 1)')\n",
    "    plt.xlim(0, 1)\n",
    "\n",
    "plt.tight_layout()\n",
    "plt.suptitle(\"Normalization: Before vs After (Feature Scaling)\", fontsize=16, y=1.05)\n",
    "plt.show()\n"
   ]
  },
  {
   "cell_type": "code",
   "execution_count": null,
   "metadata": {},
   "outputs": [],
   "source": [
    "df_cleaned[['avg_frequency_login_days_norm', 'points_in_wallet_norm']].describe()\n"
   ]
  },
  {
   "cell_type": "markdown",
   "metadata": {},
   "source": [
    "### \n",
    "Normalization Didn't Change the ShapeFrom the visualizations,which is expected,We confirmed normalization worked correctly by checking `.describe()` stats and the new range (0–1).\n"
   ]
  },
  {
   "cell_type": "markdown",
   "metadata": {},
   "source": [
    "### Log Transformation to Handle Skewed Distributions\n",
    "\n",
    "The Features i.e `points_in_wallet`, `avg_transaction_value`, and `tenure_days` can be highly skewed.  We will use `np.log1p()` to reduce skew .\n"
   ]
  },
  {
   "cell_type": "code",
   "execution_count": null,
   "metadata": {},
   "outputs": [],
   "source": [
    "transform_cols = ['points_in_wallet', 'avg_transaction_value']\n",
    "df_log =df_cleaned[transform_cols].apply(lambda x: np.log1p(x))\n",
    "df_log.columns = [f\"{col}_log\" for col in transform_cols]\n",
    "df_cleaned = pd.concat([df, df_log], axis=1)"
   ]
  },
  {
   "cell_type": "code",
   "execution_count": null,
   "metadata": {},
   "outputs": [],
   "source": [
    "# Log transform\n",
    "log_cols = ['avg_transaction_value', 'points_in_wallet']\n",
    "for col in log_cols:\n",
    "    df[f\"{col}_log\"] = np.log1p(df[col])  \n",
    "\n",
    "# Plot original vs log-transformed\n",
    "plt.figure(figsize=(12, 6))\n",
    "\n",
    "for i, col in enumerate(log_cols):\n",
    "    plt.subplot(2, 2, 2*i + 1)\n",
    "    sns.histplot(df[col], kde=True)\n",
    "    plt.title(f\"{col} - Original\")\n",
    "\n",
    "    plt.subplot(2, 2, 2*i + 2)\n",
    "    sns.histplot(df[f\"{col}_log\"], kde=True, color='purple')\n",
    "    plt.title(f\"{col} - After log1p\")\n",
    "\n",
    "plt.tight_layout()\n",
    "plt.suptitle(\"Before vs After Log Transformation\", fontsize=14, y=1.02)\n",
    "plt.show()\n"
   ]
  },
  {
   "cell_type": "markdown",
   "metadata": {},
   "source": [
    "\n",
    "#### \n",
    "\n",
    "Before transformation the Top row (Original) features ie `avg_frequency_login_days`, `points_in_wallet` were right-skewed, with values densely packed near zero and long tails extending to the right while bottom row (Normalized) the values were scaled. The transformation preserved the shape of the distributions but adjusted the scale, ensuring no feature dominates due to its magnitude.\n"
   ]
  },
  {
   "cell_type": "code",
   "execution_count": null,
   "metadata": {},
   "outputs": [],
   "source": []
  },
  {
   "cell_type": "code",
   "execution_count": null,
   "metadata": {},
   "outputs": [],
   "source": []
  },
  {
   "cell_type": "code",
   "execution_count": null,
   "metadata": {},
   "outputs": [],
   "source": []
  },
  {
   "cell_type": "code",
   "execution_count": null,
   "metadata": {},
   "outputs": [],
   "source": []
  },
  {
   "cell_type": "code",
   "execution_count": null,
   "metadata": {},
   "outputs": [],
   "source": []
  },
  {
   "cell_type": "code",
   "execution_count": null,
   "metadata": {},
   "outputs": [],
   "source": []
  },
  {
   "cell_type": "code",
   "execution_count": null,
   "metadata": {},
   "outputs": [],
   "source": []
  },
  {
   "cell_type": "code",
   "execution_count": null,
   "metadata": {},
   "outputs": [],
   "source": []
  },
  {
   "cell_type": "code",
   "execution_count": null,
   "metadata": {},
   "outputs": [],
   "source": []
  },
  {
   "cell_type": "code",
   "execution_count": null,
   "metadata": {},
   "outputs": [],
   "source": []
  },
  {
   "cell_type": "code",
   "execution_count": null,
   "metadata": {},
   "outputs": [],
   "source": []
  }
 ],
 "metadata": {
  "colab": {
   "provenance": []
  },
  "kernelspec": {
   "display_name": "Python 3",
   "language": "python",
   "name": "python3"
  },
  "language_info": {
   "codemirror_mode": {
    "name": "ipython",
    "version": 3
   },
   "file_extension": ".py",
   "mimetype": "text/x-python",
   "name": "python",
   "nbconvert_exporter": "python",
   "pygments_lexer": "ipython3",
   "version": "3.8.5"
  }
 },
 "nbformat": 4,
 "nbformat_minor": 5
}
